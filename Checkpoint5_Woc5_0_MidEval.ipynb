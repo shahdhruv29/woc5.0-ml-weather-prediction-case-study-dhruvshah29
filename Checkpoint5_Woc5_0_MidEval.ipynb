{
  "nbformat": 4,
  "nbformat_minor": 0,
  "metadata": {
    "colab": {
      "provenance": [],
      "mount_file_id": "12wPH8cFLounbCqQE0rHM2Q787WpCIg5V",
      "authorship_tag": "ABX9TyMhLOWwDcajCYPNtTsdmOF2"
    },
    "kernelspec": {
      "name": "python3",
      "display_name": "Python 3"
    },
    "language_info": {
      "name": "python"
    }
  },
  "cells": [
    {
      "cell_type": "code",
      "execution_count": 3,
      "metadata": {
        "id": "7V-uGZdT-L81"
      },
      "outputs": [],
      "source": [
        "import pandas as pd\n",
        "import numpy as np\n",
        "import matplotlib.pyplot as plt"
      ]
    },
    {
      "cell_type": "code",
      "source": [
        "df= pd.read_csv('/content/weather.csv')\n",
        "df = df.sample(frac = 1)\n",
        "print(df.head())"
      ],
      "metadata": {
        "colab": {
          "base_uri": "https://localhost:8080/"
        },
        "id": "hNFxiUdWAzFR",
        "outputId": "f1527cf8-c747-4985-cf13-15f69fc81cdc"
      },
      "execution_count": 4,
      "outputs": [
        {
          "output_type": "stream",
          "name": "stdout",
          "text": [
            "      precipitation  temp_max  temp_min  wind weather\n",
            "245             0.0      21.1      10.0   2.0     sun\n",
            "932             0.0      23.9      13.3   2.2     sun\n",
            "1045            0.0       7.8       1.1   7.7     sun\n",
            "1395            0.0      16.1       7.8   1.7     fog\n",
            "129             0.0      13.3       6.7   3.9    rain\n"
          ]
        }
      ]
    },
    {
      "cell_type": "code",
      "source": [
        "print(df)"
      ],
      "metadata": {
        "colab": {
          "base_uri": "https://localhost:8080/"
        },
        "id": "ajUi9WMyA87s",
        "outputId": "d416fe5e-b635-49a5-acaf-5d549cabf445"
      },
      "execution_count": 5,
      "outputs": [
        {
          "output_type": "stream",
          "name": "stdout",
          "text": [
            "      precipitation  temp_max  temp_min  wind weather\n",
            "245             0.0      21.1      10.0   2.0     sun\n",
            "932             0.0      23.9      13.3   2.2     sun\n",
            "1045            0.0       7.8       1.1   7.7     sun\n",
            "1395            0.0      16.1       7.8   1.7     fog\n",
            "129             0.0      13.3       6.7   3.9    rain\n",
            "...             ...       ...       ...   ...     ...\n",
            "87              1.3      10.6       7.2   5.9    rain\n",
            "728             0.0       7.2       1.7   1.1     sun\n",
            "601             0.0      25.0      16.7   2.7     sun\n",
            "482             0.0      13.9      10.6   5.9     sun\n",
            "880             0.0      20.6       8.9   4.5     sun\n",
            "\n",
            "[1461 rows x 5 columns]\n"
          ]
        }
      ]
    },
    {
      "cell_type": "code",
      "source": [
        "print(df.dtypes)"
      ],
      "metadata": {
        "colab": {
          "base_uri": "https://localhost:8080/"
        },
        "id": "VXOqsrnLGMJB",
        "outputId": "9549a669-fa97-49d7-bea3-336e1a4e0e1d"
      },
      "execution_count": 6,
      "outputs": [
        {
          "output_type": "stream",
          "name": "stdout",
          "text": [
            "precipitation    float64\n",
            "temp_max         float64\n",
            "temp_min         float64\n",
            "wind             float64\n",
            "weather           object\n",
            "dtype: object\n"
          ]
        }
      ]
    },
    {
      "cell_type": "code",
      "source": [
        "df.plot.scatter(x=\"weather\", y=\"precipitation\",linewidth=1,alpha=0.75)\n",
        "plt.tight_layout()\n",
        "plt.show()"
      ],
      "metadata": {
        "colab": {
          "base_uri": "https://localhost:8080/",
          "height": 297
        },
        "id": "srM_1_ULzrl7",
        "outputId": "37e5fed2-bd23-4ad6-b1a2-54ded1ad8fcd"
      },
      "execution_count": 7,
      "outputs": [
        {
          "output_type": "display_data",
          "data": {
            "text/plain": [
              "<Figure size 432x288 with 1 Axes>"
            ],
            "image/png": "[encoded data removed]"
          },
          "metadata": {
            "needs_background": "light"
          }
        }
      ]
    },
    {
      "cell_type": "code",
      "source": [
        "df.plot.scatter(x=\"weather\", y=\"temp_min\",linewidth=1,alpha=0.75)\n",
        "plt.tight_layout()\n",
        "plt.show()"
      ],
      "metadata": {
        "colab": {
          "base_uri": "https://localhost:8080/",
          "height": 297
        },
        "id": "WemHT3-M0Xjv",
        "outputId": "b90b62c2-068b-4e36-89bd-ed5b9647b4c0"
      },
      "execution_count": 8,
      "outputs": [
        {
          "output_type": "display_data",
          "data": {
            "text/plain": [
              "<Figure size 432x288 with 1 Axes>"
            ],
            "image/png": "[encoded data removed]"
          },
          "metadata": {
            "needs_background": "light"
          }
        }
      ]
    },
    {
      "cell_type": "code",
      "source": [
        "df.plot.scatter(x=\"weather\", y=\"temp_max\",linewidth=1,alpha=0.75)\n",
        "plt.tight_layout()\n",
        "plt.show()"
      ],
      "metadata": {
        "colab": {
          "base_uri": "https://localhost:8080/",
          "height": 297
        },
        "id": "r3fc1u7f0a__",
        "outputId": "fe2fc2af-71a2-44f4-f755-a75e4fbdc161"
      },
      "execution_count": 9,
      "outputs": [
        {
          "output_type": "display_data",
          "data": {
            "text/plain": [
              "<Figure size 432x288 with 1 Axes>"
            ],
            "image/png": "[encoded data removed]"
          },
          "metadata": {
            "needs_background": "light"
          }
        }
      ]
    },
    {
      "cell_type": "code",
      "source": [
        "df.plot.scatter(x=\"weather\", y=\"wind\",linewidth=1,alpha=0.75)\n",
        "plt.tight_layout()\n",
        "plt.show()"
      ],
      "metadata": {
        "colab": {
          "base_uri": "https://localhost:8080/",
          "height": 297
        },
        "id": "LTQhS5Ga0fP0",
        "outputId": "1634704c-9fd4-4ae4-e292-61bc78391529"
      },
      "execution_count": 10,
      "outputs": [
        {
          "output_type": "display_data",
          "data": {
            "text/plain": [
              "<Figure size 432x288 with 1 Axes>"
            ],
            "image/png": "[encoded data removed]"
          },
          "metadata": {
            "needs_background": "light"
          }
        }
      ]
    },
    {
      "cell_type": "code",
      "source": [
        "from sklearn.model_selection import train_test_split"
      ],
      "metadata": {
        "id": "WKxO9mesFdIT"
      },
      "execution_count": 11,
      "outputs": []
    },
    {
      "cell_type": "code",
      "source": [
        "X =df[['precipitation','temp_max', 'temp_min', 'wind']]\n",
        "y= df['weather']"
      ],
      "metadata": {
        "id": "SbrW0maLFwJ4"
      },
      "execution_count": 12,
      "outputs": []
    },
    {
      "cell_type": "code",
      "source": [
        "print(X)\n",
        "print(y.unique)"
      ],
      "metadata": {
        "colab": {
          "base_uri": "https://localhost:8080/"
        },
        "id": "Jtjp_vNMGG8d",
        "outputId": "87bf755d-2d72-496c-8fc1-0e516cf8aa51"
      },
      "execution_count": 13,
      "outputs": [
        {
          "output_type": "stream",
          "name": "stdout",
          "text": [
            "      precipitation  temp_max  temp_min  wind\n",
            "245             0.0      21.1      10.0   2.0\n",
            "932             0.0      23.9      13.3   2.2\n",
            "1045            0.0       7.8       1.1   7.7\n",
            "1395            0.0      16.1       7.8   1.7\n",
            "129             0.0      13.3       6.7   3.9\n",
            "...             ...       ...       ...   ...\n",
            "87              1.3      10.6       7.2   5.9\n",
            "728             0.0       7.2       1.7   1.1\n",
            "601             0.0      25.0      16.7   2.7\n",
            "482             0.0      13.9      10.6   5.9\n",
            "880             0.0      20.6       8.9   4.5\n",
            "\n",
            "[1461 rows x 4 columns]\n",
            "<bound method Series.unique of 245      sun\n",
            "932      sun\n",
            "1045     sun\n",
            "1395     fog\n",
            "129     rain\n",
            "        ... \n",
            "87      rain\n",
            "728      sun\n",
            "601      sun\n",
            "482      sun\n",
            "880      sun\n",
            "Name: weather, Length: 1461, dtype: object>\n"
          ]
        }
      ]
    },
    {
      "cell_type": "code",
      "source": [
        "X_train, X_test, y_train, y_test= train_test_split(X, y, test_size=0.2, random_state=10)"
      ],
      "metadata": {
        "id": "WGedxlMUGKEd"
      },
      "execution_count": 14,
      "outputs": []
    },
    {
      "cell_type": "code",
      "source": [
        "print(len(X_train), len(X_test))"
      ],
      "metadata": {
        "colab": {
          "base_uri": "https://localhost:8080/"
        },
        "id": "hztcpynDHJtZ",
        "outputId": "69723788-79f1-4aed-f8ee-eac118559a4c"
      },
      "execution_count": 15,
      "outputs": [
        {
          "output_type": "stream",
          "name": "stdout",
          "text": [
            "1168 293\n"
          ]
        }
      ]
    },
    {
      "cell_type": "code",
      "source": [
        "from sklearn.linear_model import LogisticRegression\n",
        "model = LogisticRegression(multi_class = 'multinomial')\n",
        "model.fit(X_train, y_train)"
      ],
      "metadata": {
        "colab": {
          "base_uri": "https://localhost:8080/"
        },
        "id": "ZIIcLqRuHccE",
        "outputId": "47b8bdc7-82b4-4fef-9d19-85dcbb17210e"
      },
      "execution_count": 16,
      "outputs": [
        {
          "output_type": "stream",
          "name": "stderr",
          "text": [
            "/usr/local/lib/python3.8/dist-packages/sklearn/linear_model/_logistic.py:814: ConvergenceWarning: lbfgs failed to converge (status=1):\n",
            "STOP: TOTAL NO. of ITERATIONS REACHED LIMIT.\n",
            "\n",
            "Increase the number of iterations (max_iter) or scale the data as shown in:\n",
            "    https://scikit-learn.org/stable/modules/preprocessing.html\n",
            "Please also refer to the documentation for alternative solver options:\n",
            "    https://scikit-learn.org/stable/modules/linear_model.html#logistic-regression\n",
            "  n_iter_i = _check_optimize_result(\n"
          ]
        },
        {
          "output_type": "execute_result",
          "data": {
            "text/plain": [
              "LogisticRegression(multi_class='multinomial')"
            ]
          },
          "metadata": {},
          "execution_count": 16
        }
      ]
    },
    {
      "cell_type": "code",
      "source": [
        "predictions = model.predict(X_test)\n",
        "print(predictions[0:])"
      ],
      "metadata": {
        "id": "Orcv6dAANbL8",
        "colab": {
          "base_uri": "https://localhost:8080/"
        },
        "outputId": "7598a557-c910-43a0-d277-96930a5982c4"
      },
      "execution_count": 17,
      "outputs": [
        {
          "output_type": "stream",
          "name": "stdout",
          "text": [
            "['sun' 'sun' 'sun' 'sun' 'sun' 'sun' 'sun' 'sun' 'rain' 'sun' 'sun' 'rain'\n",
            " 'sun' 'sun' 'sun' 'sun' 'sun' 'sun' 'rain' 'sun' 'rain' 'sun' 'rain'\n",
            " 'rain' 'rain' 'rain' 'sun' 'sun' 'sun' 'rain' 'sun' 'sun' 'rain' 'sun'\n",
            " 'rain' 'sun' 'sun' 'sun' 'sun' 'snow' 'sun' 'rain' 'sun' 'sun' 'sun'\n",
            " 'sun' 'sun' 'rain' 'sun' 'sun' 'rain' 'rain' 'sun' 'sun' 'sun' 'rain'\n",
            " 'rain' 'sun' 'rain' 'rain' 'sun' 'rain' 'sun' 'sun' 'rain' 'rain' 'sun'\n",
            " 'rain' 'sun' 'rain' 'rain' 'rain' 'sun' 'rain' 'sun' 'sun' 'sun' 'sun'\n",
            " 'sun' 'rain' 'sun' 'sun' 'sun' 'rain' 'rain' 'sun' 'rain' 'rain' 'rain'\n",
            " 'rain' 'sun' 'rain' 'sun' 'sun' 'sun' 'sun' 'sun' 'sun' 'sun' 'rain'\n",
            " 'rain' 'sun' 'sun' 'sun' 'sun' 'sun' 'rain' 'rain' 'rain' 'sun' 'rain'\n",
            " 'sun' 'rain' 'sun' 'sun' 'rain' 'rain' 'rain' 'sun' 'rain' 'rain' 'rain'\n",
            " 'sun' 'sun' 'rain' 'sun' 'rain' 'sun' 'sun' 'sun' 'rain' 'rain' 'sun'\n",
            " 'rain' 'sun' 'rain' 'rain' 'sun' 'rain' 'sun' 'sun' 'rain' 'sun' 'sun'\n",
            " 'sun' 'sun' 'sun' 'rain' 'sun' 'sun' 'rain' 'sun' 'sun' 'sun' 'sun' 'sun'\n",
            " 'sun' 'sun' 'sun' 'rain' 'sun' 'sun' 'rain' 'sun' 'sun' 'sun' 'rain'\n",
            " 'rain' 'sun' 'sun' 'sun' 'sun' 'sun' 'sun' 'sun' 'sun' 'rain' 'rain'\n",
            " 'sun' 'rain' 'sun' 'rain' 'rain' 'sun' 'sun' 'sun' 'sun' 'rain' 'sun'\n",
            " 'rain' 'sun' 'rain' 'sun' 'rain' 'sun' 'sun' 'sun' 'rain' 'rain' 'sun'\n",
            " 'rain' 'sun' 'sun' 'rain' 'sun' 'sun' 'sun' 'sun' 'rain' 'sun' 'rain'\n",
            " 'rain' 'sun' 'sun' 'sun' 'sun' 'rain' 'rain' 'rain' 'rain' 'sun' 'sun'\n",
            " 'sun' 'rain' 'rain' 'rain' 'sun' 'sun' 'rain' 'rain' 'sun' 'sun' 'sun'\n",
            " 'sun' 'sun' 'sun' 'sun' 'rain' 'sun' 'sun' 'sun' 'sun' 'sun' 'rain' 'sun'\n",
            " 'sun' 'rain' 'sun' 'sun' 'sun' 'rain' 'rain' 'rain' 'rain' 'rain' 'sun'\n",
            " 'rain' 'sun' 'sun' 'rain' 'sun' 'sun' 'sun' 'sun' 'sun' 'rain' 'rain'\n",
            " 'rain' 'sun' 'sun' 'rain' 'sun' 'rain' 'sun' 'rain' 'sun' 'rain' 'rain'\n",
            " 'rain' 'sun' 'sun' 'sun' 'rain' 'rain' 'sun' 'sun' 'sun' 'rain' 'sun'\n",
            " 'sun' 'rain' 'sun' 'rain']\n"
          ]
        }
      ]
    },
    {
      "cell_type": "code",
      "source": [
        "print(y_test[0:10])"
      ],
      "metadata": {
        "colab": {
          "base_uri": "https://localhost:8080/"
        },
        "id": "v2f0xX-jGzh1",
        "outputId": "59d9fd01-9583-40f7-e27e-e9cbc2191b43"
      },
      "execution_count": 18,
      "outputs": [
        {
          "output_type": "stream",
          "name": "stdout",
          "text": [
            "415      sun\n",
            "953     rain\n",
            "242      sun\n",
            "689      sun\n",
            "62       sun\n",
            "177     rain\n",
            "1260     sun\n",
            "233     rain\n",
            "1397    rain\n",
            "477      sun\n",
            "Name: weather, dtype: object\n"
          ]
        }
      ]
    },
    {
      "cell_type": "code",
      "source": [
        "score = model.score(X_test, y_test)\n",
        "print(score)"
      ],
      "metadata": {
        "id": "Rcjhr50ZJyfi",
        "colab": {
          "base_uri": "https://localhost:8080/"
        },
        "outputId": "376b054d-0443-4e81-b8b2-ba44d0b7ac64"
      },
      "execution_count": 19,
      "outputs": [
        {
          "output_type": "stream",
          "name": "stdout",
          "text": [
            "0.8327645051194539\n"
          ]
        }
      ]
    },
    {
      "cell_type": "code",
      "source": [
        "from sklearn import metrics\n",
        "cm= metrics.confusion_matrix(y_test, predictions, labels=[\"rain\", \"drizzle\", \"sun\", \"snow\", \"fog\"])\n",
        "print(cm)"
      ],
      "metadata": {
        "colab": {
          "base_uri": "https://localhost:8080/"
        },
        "id": "TG92bsL_NJWU",
        "outputId": "d1638d35-0cce-47d2-8fa8-9bc199705a88"
      },
      "execution_count": 20,
      "outputs": [
        {
          "output_type": "stream",
          "name": "stdout",
          "text": [
            "[[110   0  14   0   0]\n",
            " [  0   0  10   0   0]\n",
            " [  0   0 133   0   0]\n",
            " [  2   0   0   1   0]\n",
            " [  0   0  23   0   0]]\n"
          ]
        }
      ]
    },
    {
      "cell_type": "code",
      "source": [
        "import seaborn as sns\n",
        "plt.figure(figsize=(9,9))\n",
        "labels=['rain', 'drizzle', 'sun', 'snow', 'fog']\n",
        "sns.heatmap(cm, annot=True, xticklabels=labels, yticklabels=labels, fmt=\".3f\", linewidths=.5, square = True, cmap = 'Blues_r')\n",
        "plt.ylabel('Actual Label')\n",
        "plt.xlabel('Predicted Label')\n",
        "all_sample_title = 'Accuracy Score: {0}'.format(score)"
      ],
      "metadata": {
        "colab": {
          "base_uri": "https://localhost:8080/",
          "height": 526
        },
        "id": "4mVa4L9ONqsU",
        "outputId": "1de4b8b7-73bf-4fc1-c4c6-0469bbcd6aed"
      },
      "execution_count": 21,
      "outputs": [
        {
          "output_type": "display_data",
          "data": {
            "text/plain": [
              "<Figure size 648x648 with 2 Axes>"
            ],
            "image/png": "[encoded data removed]"
          },
          "metadata": {
            "needs_background": "light"
          }
        }
      ]
    },
    {
      "cell_type": "code",
      "source": [
        "import pickle\n",
        "pickle.dump(model, open('model.pkl', 'wb'))"
      ],
      "metadata": {
        "id": "Mai3eWJDs7dS"
      },
      "execution_count": 23,
      "outputs": []
    }
  ]
}