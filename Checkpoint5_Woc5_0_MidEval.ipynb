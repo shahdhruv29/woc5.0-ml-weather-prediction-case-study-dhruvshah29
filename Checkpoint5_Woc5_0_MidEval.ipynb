{
  "nbformat": 4,
  "nbformat_minor": 0,
  "metadata": {
    "colab": {
      "provenance": [],
      "authorship_tag": "ABX9TyOKPDzI4uXwcoGikRPQ8THb",
      "include_colab_link": true
    },
    "kernelspec": {
      "name": "python3",
      "display_name": "Python 3"
    },
    "language_info": {
      "name": "python"
    }
  },
  "cells": [
    {
      "cell_type": "markdown",
      "metadata": {
        "id": "view-in-github",
        "colab_type": "text"
      },
      "source": [
        "<a href=\"https://colab.research.google.com/github/shahdhruv29/woc5.0-ml-weather-prediction-case-study-dhruvshah29/blob/main/Checkpoint5_Woc5_0_MidEval.ipynb\" target=\"_parent\"><img src=\"https://colab.research.google.com/assets/colab-badge.svg\" alt=\"Open In Colab\"/></a>"
      ]
    },
    {
      "cell_type": "code",
      "execution_count": 6,
      "metadata": {
        "id": "7V-uGZdT-L81"
      },
      "outputs": [],
      "source": [
        "import pandas as pd\n",
        "import numpy as np\n",
        "import matplotlib.pyplot as plt"
      ]
    },
    {
      "cell_type": "code",
      "source": [
        "df= pd.read_csv('/content/weather.csv')\n",
        "print(df.head())"
      ],
      "metadata": {
        "colab": {
          "base_uri": "https://localhost:8080/"
        },
        "id": "hNFxiUdWAzFR",
        "outputId": "1476dcc1-c8af-4bbf-df34-21c66bb6a600"
      },
      "execution_count": 7,
      "outputs": [
        {
          "output_type": "stream",
          "name": "stdout",
          "text": [
            "   precipitation  temp_max  temp_min  wind  weather\n",
            "0            0.0      12.8       5.0   4.7  drizzle\n",
            "1           10.9      10.6       2.8   4.5     rain\n",
            "2            0.8      11.7       7.2   2.3     rain\n",
            "3           20.3      12.2       5.6   4.7     rain\n",
            "4            1.3       8.9       2.8   6.1     rain\n"
          ]
        }
      ]
    },
    {
      "cell_type": "code",
      "source": [
        "print(df)"
      ],
      "metadata": {
        "colab": {
          "base_uri": "https://localhost:8080/"
        },
        "id": "ajUi9WMyA87s",
        "outputId": "8ab8bfb1-8195-4e21-8105-07c794feb0e0"
      },
      "execution_count": 8,
      "outputs": [
        {
          "output_type": "stream",
          "name": "stdout",
          "text": [
            "      precipitation  temp_max  temp_min  wind  weather\n",
            "0               0.0      12.8       5.0   4.7  drizzle\n",
            "1              10.9      10.6       2.8   4.5     rain\n",
            "2               0.8      11.7       7.2   2.3     rain\n",
            "3              20.3      12.2       5.6   4.7     rain\n",
            "4               1.3       8.9       2.8   6.1     rain\n",
            "...             ...       ...       ...   ...      ...\n",
            "1456            8.6       4.4       1.7   2.9     rain\n",
            "1457            1.5       5.0       1.7   1.3     rain\n",
            "1458            0.0       7.2       0.6   2.6      fog\n",
            "1459            0.0       5.6      -1.0   3.4      sun\n",
            "1460            0.0       5.6      -2.1   3.5      sun\n",
            "\n",
            "[1461 rows x 5 columns]\n"
          ]
        }
      ]
    },
    {
      "cell_type": "code",
      "source": [
        "print(df.dtypes)"
      ],
      "metadata": {
        "colab": {
          "base_uri": "https://localhost:8080/"
        },
        "id": "VXOqsrnLGMJB",
        "outputId": "113e6565-730f-4cb3-d4c3-e22da27ffeba"
      },
      "execution_count": 9,
      "outputs": [
        {
          "output_type": "stream",
          "name": "stdout",
          "text": [
            "precipitation    float64\n",
            "temp_max         float64\n",
            "temp_min         float64\n",
            "wind             float64\n",
            "weather           object\n",
            "dtype: object\n"
          ]
        }
      ]
    },
    {
      "cell_type": "code",
      "source": [
        "from sklearn.model_selection import train_test_split"
      ],
      "metadata": {
        "id": "WKxO9mesFdIT"
      },
      "execution_count": 11,
      "outputs": []
    },
    {
      "cell_type": "code",
      "source": [
        "X =df[['precipitation','temp_max', 'temp_min', 'wind']]\n",
        "y= df['weather']"
      ],
      "metadata": {
        "id": "SbrW0maLFwJ4"
      },
      "execution_count": 12,
      "outputs": []
    },
    {
      "cell_type": "code",
      "source": [
        "print(X)"
      ],
      "metadata": {
        "colab": {
          "base_uri": "https://localhost:8080/"
        },
        "id": "Jtjp_vNMGG8d",
        "outputId": "073d0057-092f-4f16-9b23-388ae35f0b2f"
      },
      "execution_count": null,
      "outputs": [
        {
          "output_type": "stream",
          "name": "stdout",
          "text": [
            "      precipitation  temp_max  temp_min  wind\n",
            "0               0.0      12.8       5.0   4.7\n",
            "1              10.9      10.6       2.8   4.5\n",
            "2               0.8      11.7       7.2   2.3\n",
            "3              20.3      12.2       5.6   4.7\n",
            "4               1.3       8.9       2.8   6.1\n",
            "...             ...       ...       ...   ...\n",
            "1456            8.6       4.4       1.7   2.9\n",
            "1457            1.5       5.0       1.7   1.3\n",
            "1458            0.0       7.2       0.6   2.6\n",
            "1459            0.0       5.6      -1.0   3.4\n",
            "1460            0.0       5.6      -2.1   3.5\n",
            "\n",
            "[1461 rows x 4 columns]\n"
          ]
        }
      ]
    },
    {
      "cell_type": "code",
      "source": [
        "X_train, X_test, y_train, y_test= train_test_split(X, y, test_size=0.2, random_state=10)"
      ],
      "metadata": {
        "id": "WGedxlMUGKEd"
      },
      "execution_count": 13,
      "outputs": []
    },
    {
      "cell_type": "code",
      "source": [
        "print(len(X_train), len(X_test))"
      ],
      "metadata": {
        "colab": {
          "base_uri": "https://localhost:8080/"
        },
        "id": "hztcpynDHJtZ",
        "outputId": "3d79b0a6-6e3e-4f7c-850d-3a085f2b5999"
      },
      "execution_count": 14,
      "outputs": [
        {
          "output_type": "stream",
          "name": "stdout",
          "text": [
            "1168 293\n"
          ]
        }
      ]
    },
    {
      "cell_type": "code",
      "source": [
        "from sklearn.linear_model import LogisticRegression\n",
        "model = LogisticRegression()\n",
        "model.fit(X_train, y_train)"
      ],
      "metadata": {
        "colab": {
          "base_uri": "https://localhost:8080/"
        },
        "id": "ZIIcLqRuHccE",
        "outputId": "6f78b0e6-bfd8-4eb5-fa46-247dd5820fe1"
      },
      "execution_count": 15,
      "outputs": [
        {
          "output_type": "stream",
          "name": "stderr",
          "text": [
            "/usr/local/lib/python3.8/dist-packages/sklearn/linear_model/_logistic.py:814: ConvergenceWarning: lbfgs failed to converge (status=1):\n",
            "STOP: TOTAL NO. of ITERATIONS REACHED LIMIT.\n",
            "\n",
            "Increase the number of iterations (max_iter) or scale the data as shown in:\n",
            "    https://scikit-learn.org/stable/modules/preprocessing.html\n",
            "Please also refer to the documentation for alternative solver options:\n",
            "    https://scikit-learn.org/stable/modules/linear_model.html#logistic-regression\n",
            "  n_iter_i = _check_optimize_result(\n"
          ]
        },
        {
          "output_type": "execute_result",
          "data": {
            "text/plain": [
              "LogisticRegression()"
            ]
          },
          "metadata": {},
          "execution_count": 15
        }
      ]
    },
    {
      "cell_type": "code",
      "source": [
        "predictions = model.predict(X_test)\n",
        "print(predictions[0:10])"
      ],
      "metadata": {
        "id": "Orcv6dAANbL8",
        "colab": {
          "base_uri": "https://localhost:8080/"
        },
        "outputId": "06a649d6-10a7-4cfc-bb2e-c21a55d7c3e7"
      },
      "execution_count": 20,
      "outputs": [
        {
          "output_type": "stream",
          "name": "stdout",
          "text": [
            "['rain' 'sun' 'rain' 'sun' 'sun' 'rain' 'sun' 'sun' 'sun' 'sun']\n"
          ]
        }
      ]
    },
    {
      "cell_type": "code",
      "source": [
        "print(y_test[0:10])"
      ],
      "metadata": {
        "colab": {
          "base_uri": "https://localhost:8080/"
        },
        "id": "v2f0xX-jGzh1",
        "outputId": "6ab2d529-0376-413c-e84d-0f67c981280c"
      },
      "execution_count": 21,
      "outputs": [
        {
          "output_type": "stream",
          "name": "stdout",
          "text": [
            "855        rain\n",
            "381     drizzle\n",
            "721        rain\n",
            "577         sun\n",
            "35          sun\n",
            "301        rain\n",
            "689         sun\n",
            "1019        sun\n",
            "1252        sun\n",
            "861         sun\n",
            "Name: weather, dtype: object\n"
          ]
        }
      ]
    },
    {
      "cell_type": "code",
      "source": [
        "score = model.score(X_test, y_test)\n",
        "print(score)"
      ],
      "metadata": {
        "id": "Rcjhr50ZJyfi",
        "colab": {
          "base_uri": "https://localhost:8080/"
        },
        "outputId": "5d989dea-e645-4776-8a40-1fdb32096a0b"
      },
      "execution_count": 19,
      "outputs": [
        {
          "output_type": "stream",
          "name": "stdout",
          "text": [
            "0.856655290102389\n"
          ]
        }
      ]
    },
    {
      "cell_type": "code",
      "source": [
        "from sklearn import metrics\n",
        "cm= metrics.confusion_matrix(y_test, predictions, labels=[\"rain\", \"drizzle\", \"sun\", \"snow\"])\n",
        "print(cm)"
      ],
      "metadata": {
        "colab": {
          "base_uri": "https://localhost:8080/"
        },
        "id": "TG92bsL_NJWU",
        "outputId": "9ae0a78b-73f1-49fd-fac1-234ea3dc77c5"
      },
      "execution_count": 22,
      "outputs": [
        {
          "output_type": "stream",
          "name": "stdout",
          "text": [
            "[[121   0   7   0]\n",
            " [  0   0   9   0]\n",
            " [  0   0 130   0]\n",
            " [  5   0   0   0]]\n"
          ]
        }
      ]
    },
    {
      "cell_type": "code",
      "source": [
        "import seaborn as sns\n",
        "plt.figure(figsize=(9,9))\n",
        "labels=['rain', 'drizzle', 'sun', 'snow']\n",
        "sns.heatmap(cm, annot=True, xticklabels=labels, yticklabels=labels, fmt=\".3f\", linewidths=.5, square = True, cmap = 'Blues_r')\n",
        "plt.ylabel('Actual Label')\n",
        "plt.xlabel('Predicted Label')\n",
        "all_sample_title = 'Accuracy Score: {0}'.format(score)"
      ],
      "metadata": {
        "colab": {
          "base_uri": "https://localhost:8080/",
          "height": 526
        },
        "id": "4mVa4L9ONqsU",
        "outputId": "59dca239-ddaf-4c78-f207-5d1198c2a050"
      },
      "execution_count": 34,
      "outputs": [
        {
          "output_type": "display_data",
          "data": {
            "text/plain": [
              "<Figure size 648x648 with 2 Axes>"
            ],
            "image/png": "[encoded data removed]"
          },
          "metadata": {
            "needs_background": "light"
          }
        }
      ]
    }
  ]
}