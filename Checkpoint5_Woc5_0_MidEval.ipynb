{
  "nbformat": 4,
  "nbformat_minor": 0,
  "metadata": {
    "colab": {
      "provenance": [],
      "mount_file_id": "12wPH8cFLounbCqQE0rHM2Q787WpCIg5V",
      "authorship_tag": "ABX9TyODAWMB06zMiPXTzMhCE+2/",
      "include_colab_link": true
    },
    "kernelspec": {
      "name": "python3",
      "display_name": "Python 3"
    },
    "language_info": {
      "name": "python"
    }
  },
  "cells": [
    {
      "cell_type": "markdown",
      "metadata": {
        "id": "view-in-github",
        "colab_type": "text"
      },
      "source": [
        "<a href=\"https://colab.research.google.com/github/shahdhruv29/woc5.0-ml-weather-prediction-case-study-dhruvshah29/blob/main/Checkpoint5_Woc5_0_MidEval.ipynb\" target=\"_parent\"><img src=\"https://colab.research.google.com/assets/colab-badge.svg\" alt=\"Open In Colab\"/></a>"
      ]
    },
    {
      "cell_type": "code",
      "execution_count": null,
      "metadata": {
        "id": "7V-uGZdT-L81"
      },
      "outputs": [],
      "source": [
        "import pandas as pd\n",
        "import numpy as np\n",
        "import matplotlib.pyplot as plt"
      ]
    },
    {
      "cell_type": "code",
      "source": [
        "df= pd.read_csv('/content/weather.csv')\n",
        "df = df.sample(frac = 1)\n",
        "print(df.head())"
      ],
      "metadata": {
        "colab": {
          "base_uri": "https://localhost:8080/"
        },
        "id": "hNFxiUdWAzFR",
        "outputId": "cecef8d1-c087-4171-dc70-7824bde67f6f"
      },
      "execution_count": null,
      "outputs": [
        {
          "output_type": "stream",
          "name": "stdout",
          "text": [
            "      precipitation  temp_max  temp_min  wind weather\n",
            "591             0.8      27.2      15.0   2.0    rain\n",
            "488             0.0      21.7       9.4   4.9     sun\n",
            "1069            3.0      12.8       6.7   3.1    rain\n",
            "1070            7.4      11.7       7.8   3.6    rain\n",
            "712             0.5       9.4       5.6   2.9    rain\n"
          ]
        }
      ]
    },
    {
      "cell_type": "code",
      "source": [
        "print(df)"
      ],
      "metadata": {
        "colab": {
          "base_uri": "https://localhost:8080/"
        },
        "id": "ajUi9WMyA87s",
        "outputId": "4862ff10-b428-456a-9764-f35ee91b0ae4"
      },
      "execution_count": null,
      "outputs": [
        {
          "output_type": "stream",
          "name": "stdout",
          "text": [
            "      precipitation  temp_max  temp_min  wind weather\n",
            "591             0.8      27.2      15.0   2.0    rain\n",
            "488             0.0      21.7       9.4   4.9     sun\n",
            "1069            3.0      12.8       6.7   3.1    rain\n",
            "1070            7.4      11.7       7.8   3.6    rain\n",
            "712             0.5       9.4       5.6   2.9    rain\n",
            "...             ...       ...       ...   ...     ...\n",
            "1066            0.0       5.6      -3.2   5.7     fog\n",
            "931             0.0      19.4      14.4   2.8     sun\n",
            "725             0.0       6.7       0.6   0.5     sun\n",
            "691             0.0       9.4       0.0   4.6     sun\n",
            "694             0.0      12.2       2.2   0.5     sun\n",
            "\n",
            "[1461 rows x 5 columns]\n"
          ]
        }
      ]
    },
    {
      "cell_type": "code",
      "source": [
        "print(df.dtypes)"
      ],
      "metadata": {
        "colab": {
          "base_uri": "https://localhost:8080/"
        },
        "id": "VXOqsrnLGMJB",
        "outputId": "6cfb74c9-576f-41db-cdfc-f64a396c737b"
      },
      "execution_count": null,
      "outputs": [
        {
          "output_type": "stream",
          "name": "stdout",
          "text": [
            "precipitation    float64\n",
            "temp_max         float64\n",
            "temp_min         float64\n",
            "wind             float64\n",
            "weather           object\n",
            "dtype: object\n"
          ]
        }
      ]
    },
    {
      "cell_type": "code",
      "source": [
        "df.plot.scatter(x=\"weather\", y=\"precipitation\",linewidth=1,alpha=0.75)\n",
        "plt.tight_layout()\n",
        "plt.show()"
      ],
      "metadata": {
        "colab": {
          "base_uri": "https://localhost:8080/",
          "height": 297
        },
        "id": "srM_1_ULzrl7",
        "outputId": "abf625c6-eef4-4d86-cd63-e6a69285a7a1"
      },
      "execution_count": null,
      "outputs": [
        {
          "output_type": "display_data",
          "data": {
            "text/plain": [
              "<Figure size 432x288 with 1 Axes>"
            ],
            "image/png": "[encoded data removed]"
          },
          "metadata": {
            "needs_background": "light"
          }
        }
      ]
    },
    {
      "cell_type": "code",
      "source": [
        "df.plot.scatter(x=\"weather\", y=\"temp_min\",linewidth=1,alpha=0.75)\n",
        "plt.tight_layout()\n",
        "plt.show()"
      ],
      "metadata": {
        "colab": {
          "base_uri": "https://localhost:8080/",
          "height": 297
        },
        "id": "WemHT3-M0Xjv",
        "outputId": "d0577d7e-e9a6-40e0-9c8c-469315dd58dd"
      },
      "execution_count": null,
      "outputs": [
        {
          "output_type": "display_data",
          "data": {
            "text/plain": [
              "<Figure size 432x288 with 1 Axes>"
            ],
            "image/png": "[encoded data removed]"
          },
          "metadata": {
            "needs_background": "light"
          }
        }
      ]
    },
    {
      "cell_type": "code",
      "source": [
        "df.plot.scatter(x=\"weather\", y=\"temp_max\",linewidth=1,alpha=0.75)\n",
        "plt.tight_layout()\n",
        "plt.show()"
      ],
      "metadata": {
        "colab": {
          "base_uri": "https://localhost:8080/",
          "height": 297
        },
        "id": "r3fc1u7f0a__",
        "outputId": "ba542563-2fb4-4ffd-dfa2-98755648bace"
      },
      "execution_count": null,
      "outputs": [
        {
          "output_type": "display_data",
          "data": {
            "text/plain": [
              "<Figure size 432x288 with 1 Axes>"
            ],
            "image/png": "[encoded data removed]"
          },
          "metadata": {
            "needs_background": "light"
          }
        }
      ]
    },
    {
      "cell_type": "code",
      "source": [
        "df.plot.scatter(x=\"weather\", y=\"wind\",linewidth=1,alpha=0.75)\n",
        "plt.tight_layout()\n",
        "plt.show()"
      ],
      "metadata": {
        "colab": {
          "base_uri": "https://localhost:8080/",
          "height": 297
        },
        "id": "LTQhS5Ga0fP0",
        "outputId": "0f4016a1-8e71-4a94-c583-fd3ed5507531"
      },
      "execution_count": null,
      "outputs": [
        {
          "output_type": "display_data",
          "data": {
            "text/plain": [
              "<Figure size 432x288 with 1 Axes>"
            ],
            "image/png": "[encoded data removed]"
          },
          "metadata": {
            "needs_background": "light"
          }
        }
      ]
    },
    {
      "cell_type": "code",
      "source": [
        "from sklearn.model_selection import train_test_split"
      ],
      "metadata": {
        "id": "WKxO9mesFdIT"
      },
      "execution_count": null,
      "outputs": []
    },
    {
      "cell_type": "code",
      "source": [
        "X =df[['precipitation','temp_max', 'temp_min', 'wind']]\n",
        "y= df['weather']"
      ],
      "metadata": {
        "id": "SbrW0maLFwJ4"
      },
      "execution_count": null,
      "outputs": []
    },
    {
      "cell_type": "code",
      "source": [
        "print(X)\n",
        "print(y.unique)"
      ],
      "metadata": {
        "colab": {
          "base_uri": "https://localhost:8080/"
        },
        "id": "Jtjp_vNMGG8d",
        "outputId": "8a567113-0266-4cfa-ad0d-b32a28d6841b"
      },
      "execution_count": null,
      "outputs": [
        {
          "output_type": "stream",
          "name": "stdout",
          "text": [
            "      precipitation  temp_max  temp_min  wind\n",
            "591             0.8      27.2      15.0   2.0\n",
            "488             0.0      21.7       9.4   4.9\n",
            "1069            3.0      12.8       6.7   3.1\n",
            "1070            7.4      11.7       7.8   3.6\n",
            "712             0.5       9.4       5.6   2.9\n",
            "...             ...       ...       ...   ...\n",
            "1066            0.0       5.6      -3.2   5.7\n",
            "931             0.0      19.4      14.4   2.8\n",
            "725             0.0       6.7       0.6   0.5\n",
            "691             0.0       9.4       0.0   4.6\n",
            "694             0.0      12.2       2.2   0.5\n",
            "\n",
            "[1461 rows x 4 columns]\n",
            "<bound method Series.unique of 591     rain\n",
            "488      sun\n",
            "1069    rain\n",
            "1070    rain\n",
            "712     rain\n",
            "        ... \n",
            "1066     fog\n",
            "931      sun\n",
            "725      sun\n",
            "691      sun\n",
            "694      sun\n",
            "Name: weather, Length: 1461, dtype: object>\n"
          ]
        }
      ]
    },
    {
      "cell_type": "code",
      "source": [
        "X_train, X_test, y_train, y_test= train_test_split(X, y, test_size=0.2, random_state=10)"
      ],
      "metadata": {
        "id": "WGedxlMUGKEd"
      },
      "execution_count": null,
      "outputs": []
    },
    {
      "cell_type": "code",
      "source": [
        "print(len(X_train), len(X_test))"
      ],
      "metadata": {
        "colab": {
          "base_uri": "https://localhost:8080/"
        },
        "id": "hztcpynDHJtZ",
        "outputId": "d0d38c31-be12-47bc-bd82-ff80c43109df"
      },
      "execution_count": null,
      "outputs": [
        {
          "output_type": "stream",
          "name": "stdout",
          "text": [
            "1168 293\n"
          ]
        }
      ]
    },
    {
      "cell_type": "code",
      "source": [
        "from sklearn.linear_model import LogisticRegression\n",
        "model = LogisticRegression(multi_class = 'multinomial')\n",
        "model.fit(X_train, y_train)"
      ],
      "metadata": {
        "colab": {
          "base_uri": "https://localhost:8080/"
        },
        "id": "ZIIcLqRuHccE",
        "outputId": "3143d53e-763c-49aa-97bc-8a24144cd56f"
      },
      "execution_count": null,
      "outputs": [
        {
          "output_type": "stream",
          "name": "stderr",
          "text": [
            "/usr/local/lib/python3.8/dist-packages/sklearn/linear_model/_logistic.py:814: ConvergenceWarning: lbfgs failed to converge (status=1):\n",
            "STOP: TOTAL NO. of ITERATIONS REACHED LIMIT.\n",
            "\n",
            "Increase the number of iterations (max_iter) or scale the data as shown in:\n",
            "    https://scikit-learn.org/stable/modules/preprocessing.html\n",
            "Please also refer to the documentation for alternative solver options:\n",
            "    https://scikit-learn.org/stable/modules/linear_model.html#logistic-regression\n",
            "  n_iter_i = _check_optimize_result(\n"
          ]
        },
        {
          "output_type": "execute_result",
          "data": {
            "text/plain": [
              "LogisticRegression(multi_class='multinomial')"
            ]
          },
          "metadata": {},
          "execution_count": 41
        }
      ]
    },
    {
      "cell_type": "code",
      "source": [
        "predictions = model.predict(X_test)\n",
        "print(predictions[0:])"
      ],
      "metadata": {
        "id": "Orcv6dAANbL8",
        "colab": {
          "base_uri": "https://localhost:8080/"
        },
        "outputId": "1c888fad-9023-42c8-cecd-b0fcf2125c13"
      },
      "execution_count": null,
      "outputs": [
        {
          "output_type": "stream",
          "name": "stdout",
          "text": [
            "['rain' 'sun' 'rain' 'sun' 'rain' 'rain' 'rain' 'sun' 'rain' 'rain' 'sun'\n",
            " 'rain' 'rain' 'sun' 'sun' 'sun' 'sun' 'rain' 'sun' 'sun' 'sun' 'rain'\n",
            " 'sun' 'sun' 'rain' 'sun' 'sun' 'rain' 'rain' 'sun' 'sun' 'sun' 'rain'\n",
            " 'sun' 'rain' 'sun' 'sun' 'rain' 'sun' 'sun' 'sun' 'sun' 'sun' 'sun' 'sun'\n",
            " 'sun' 'sun' 'sun' 'rain' 'sun' 'sun' 'rain' 'sun' 'rain' 'sun' 'sun'\n",
            " 'sun' 'rain' 'sun' 'rain' 'rain' 'rain' 'sun' 'rain' 'rain' 'rain' 'rain'\n",
            " 'rain' 'sun' 'rain' 'sun' 'sun' 'sun' 'rain' 'rain' 'sun' 'sun' 'rain'\n",
            " 'sun' 'sun' 'rain' 'rain' 'rain' 'sun' 'rain' 'sun' 'sun' 'sun' 'rain'\n",
            " 'sun' 'sun' 'sun' 'rain' 'rain' 'sun' 'sun' 'rain' 'sun' 'sun' 'sun'\n",
            " 'sun' 'rain' 'rain' 'sun' 'rain' 'sun' 'sun' 'sun' 'rain' 'sun' 'sun'\n",
            " 'rain' 'sun' 'sun' 'sun' 'sun' 'sun' 'sun' 'sun' 'sun' 'rain' 'rain'\n",
            " 'rain' 'rain' 'sun' 'rain' 'sun' 'rain' 'sun' 'sun' 'sun' 'sun' 'rain'\n",
            " 'sun' 'sun' 'sun' 'rain' 'rain' 'sun' 'sun' 'rain' 'sun' 'sun' 'sun'\n",
            " 'rain' 'sun' 'rain' 'sun' 'sun' 'sun' 'sun' 'rain' 'rain' 'sun' 'sun'\n",
            " 'sun' 'rain' 'snow' 'sun' 'rain' 'sun' 'rain' 'sun' 'sun' 'sun' 'sun'\n",
            " 'sun' 'sun' 'sun' 'rain' 'sun' 'sun' 'sun' 'sun' 'sun' 'rain' 'rain'\n",
            " 'sun' 'sun' 'rain' 'rain' 'sun' 'rain' 'rain' 'sun' 'sun' 'rain' 'rain'\n",
            " 'rain' 'rain' 'rain' 'rain' 'rain' 'rain' 'sun' 'sun' 'sun' 'sun' 'rain'\n",
            " 'rain' 'rain' 'sun' 'rain' 'rain' 'rain' 'sun' 'rain' 'sun' 'sun' 'sun'\n",
            " 'rain' 'rain' 'sun' 'sun' 'sun' 'sun' 'sun' 'rain' 'rain' 'sun' 'rain'\n",
            " 'rain' 'sun' 'rain' 'sun' 'sun' 'rain' 'rain' 'sun' 'sun' 'sun' 'rain'\n",
            " 'sun' 'rain' 'sun' 'rain' 'rain' 'sun' 'sun' 'sun' 'sun' 'sun' 'sun'\n",
            " 'sun' 'sun' 'sun' 'rain' 'rain' 'sun' 'sun' 'sun' 'sun' 'sun' 'sun' 'sun'\n",
            " 'rain' 'sun' 'sun' 'rain' 'sun' 'sun' 'sun' 'sun' 'sun' 'sun' 'rain'\n",
            " 'sun' 'rain' 'sun' 'rain' 'rain' 'sun' 'rain' 'sun' 'sun' 'sun' 'rain'\n",
            " 'rain' 'rain' 'sun' 'sun' 'sun' 'rain' 'rain' 'sun' 'rain' 'rain' 'rain'\n",
            " 'sun' 'rain' 'rain' 'sun' 'rain']\n"
          ]
        }
      ]
    },
    {
      "cell_type": "code",
      "source": [
        "print(y_test[0:10])"
      ],
      "metadata": {
        "colab": {
          "base_uri": "https://localhost:8080/"
        },
        "id": "v2f0xX-jGzh1",
        "outputId": "447832dd-0256-4554-c23b-922b66caad5c"
      },
      "execution_count": null,
      "outputs": [
        {
          "output_type": "stream",
          "name": "stdout",
          "text": [
            "675     rain\n",
            "1051     sun\n",
            "721     rain\n",
            "607      sun\n",
            "1412    rain\n",
            "41      rain\n",
            "792     rain\n",
            "866      sun\n",
            "150     rain\n",
            "758     rain\n",
            "Name: weather, dtype: object\n"
          ]
        }
      ]
    },
    {
      "cell_type": "code",
      "source": [
        "score = model.score(X_test, y_test)\n",
        "print(score)"
      ],
      "metadata": {
        "id": "Rcjhr50ZJyfi",
        "colab": {
          "base_uri": "https://localhost:8080/"
        },
        "outputId": "934ce6bd-dd4f-4780-88f3-470a663ccf06"
      },
      "execution_count": null,
      "outputs": [
        {
          "output_type": "stream",
          "name": "stdout",
          "text": [
            "0.8703071672354948\n"
          ]
        }
      ]
    },
    {
      "cell_type": "code",
      "source": [
        "from sklearn import metrics\n",
        "cm= metrics.confusion_matrix(y_test, predictions, labels=[\"rain\", \"drizzle\", \"sun\", \"snow\", \"fog\"])\n",
        "print(cm)"
      ],
      "metadata": {
        "colab": {
          "base_uri": "https://localhost:8080/"
        },
        "id": "TG92bsL_NJWU",
        "outputId": "f06329ce-61fe-4631-9506-221722ca3c7e"
      },
      "execution_count": null,
      "outputs": [
        {
          "output_type": "stream",
          "name": "stdout",
          "text": [
            "[[114   0   9   0   0]\n",
            " [  0   0   7   0   0]\n",
            " [  0   0 140   0   0]\n",
            " [  4   0   0   1   0]\n",
            " [  0   0  18   0   0]]\n"
          ]
        }
      ]
    },
    {
      "cell_type": "code",
      "source": [
        "import seaborn as sns\n",
        "plt.figure(figsize=(9,9))\n",
        "labels=['rain', 'drizzle', 'sun', 'snow', 'fog']\n",
        "sns.heatmap(cm, annot=True, xticklabels=labels, yticklabels=labels, fmt=\".3f\", linewidths=.5, square = True, cmap = 'Blues_r')\n",
        "plt.ylabel('Actual Label')\n",
        "plt.xlabel('Predicted Label')\n",
        "all_sample_title = 'Accuracy Score: {0}'.format(score)"
      ],
      "metadata": {
        "colab": {
          "base_uri": "https://localhost:8080/",
          "height": 530
        },
        "id": "4mVa4L9ONqsU",
        "outputId": "456f621a-b27a-4993-82b5-f23f67bc8c7e"
      },
      "execution_count": null,
      "outputs": [
        {
          "output_type": "display_data",
          "data": {
            "text/plain": [
              "<Figure size 648x648 with 2 Axes>"
            ],
            "image/png": "[encoded data removed]"
          },
          "metadata": {
            "needs_background": "light"
          }
        }
      ]
    }
  ]
}