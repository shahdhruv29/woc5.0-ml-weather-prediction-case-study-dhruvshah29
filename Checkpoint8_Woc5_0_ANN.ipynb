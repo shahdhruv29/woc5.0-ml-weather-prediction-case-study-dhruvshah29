{
  "nbformat": 4,
  "nbformat_minor": 0,
  "metadata": {
    "colab": {
      "provenance": [],
      "mount_file_id": "12wPH8cFLounbCqQE0rHM2Q787WpCIg5V",
      "authorship_tag": "ABX9TyMPtYEKtm3xSumyl9T7gPDu",
      "include_colab_link": true
    },
    "kernelspec": {
      "name": "python3",
      "display_name": "Python 3"
    },
    "language_info": {
      "name": "python"
    }
  },
  "cells": [
    {
      "cell_type": "markdown",
      "metadata": {
        "id": "view-in-github",
        "colab_type": "text"
      },
      "source": [
        "<a href=\"https://colab.research.google.com/github/shahdhruv29/woc5.0-ml-weather-prediction-case-study-dhruvshah29/blob/main/Checkpoint8_Woc5_0_ANN.ipynb\" target=\"_parent\"><img src=\"https://colab.research.google.com/assets/colab-badge.svg\" alt=\"Open In Colab\"/></a>"
      ]
    },
    {
      "cell_type": "code",
      "execution_count": 77,
      "metadata": {
        "id": "7V-uGZdT-L81"
      },
      "outputs": [],
      "source": [
        "import pandas as pd\n",
        "import numpy as np\n",
        "import matplotlib.pyplot as plt"
      ]
    },
    {
      "cell_type": "code",
      "source": [
        "df= pd.read_csv('/content/weather.csv')\n",
        "df = df.sample(frac = 1)\n",
        "print(df.head())"
      ],
      "metadata": {
        "colab": {
          "base_uri": "https://localhost:8080/"
        },
        "id": "hNFxiUdWAzFR",
        "outputId": "386e8401-4884-4116-a63d-a29d552a1eb2"
      },
      "execution_count": 78,
      "outputs": [
        {
          "output_type": "stream",
          "name": "stdout",
          "text": [
            "      precipitation  temp_max  temp_min  wind weather\n",
            "380             0.0       6.7      -0.6   2.3     sun\n",
            "813             0.0      18.9       2.8   2.2     sun\n",
            "388             5.1       7.2       2.2   3.1    rain\n",
            "155             1.3      12.8       8.9   3.1    rain\n",
            "1409            1.3      11.1       3.9   3.9    rain\n"
          ]
        }
      ]
    },
    {
      "cell_type": "code",
      "source": [
        "print(df)"
      ],
      "metadata": {
        "colab": {
          "base_uri": "https://localhost:8080/"
        },
        "id": "ajUi9WMyA87s",
        "outputId": "82525826-c684-43e8-afb8-259b1d196040"
      },
      "execution_count": 79,
      "outputs": [
        {
          "output_type": "stream",
          "name": "stdout",
          "text": [
            "      precipitation  temp_max  temp_min  wind weather\n",
            "380             0.0       6.7      -0.6   2.3     sun\n",
            "813             0.0      18.9       2.8   2.2     sun\n",
            "388             5.1       7.2       2.2   3.1    rain\n",
            "155             1.3      12.8       8.9   3.1    rain\n",
            "1409            1.3      11.1       3.9   3.9    rain\n",
            "...             ...       ...       ...   ...     ...\n",
            "334            35.6      15.0       7.8   4.6    rain\n",
            "179             0.0      22.2      11.7   2.5    rain\n",
            "1309            0.0      30.6      16.1   2.0     sun\n",
            "571             0.0      31.1      12.8   2.3     sun\n",
            "639             7.9      14.4       8.9   4.7    rain\n",
            "\n",
            "[1461 rows x 5 columns]\n"
          ]
        }
      ]
    },
    {
      "cell_type": "code",
      "source": [
        "print(df.dtypes)"
      ],
      "metadata": {
        "colab": {
          "base_uri": "https://localhost:8080/"
        },
        "id": "VXOqsrnLGMJB",
        "outputId": "e318a79a-0151-467d-ccb0-4d66b8b630d9"
      },
      "execution_count": 80,
      "outputs": [
        {
          "output_type": "stream",
          "name": "stdout",
          "text": [
            "precipitation    float64\n",
            "temp_max         float64\n",
            "temp_min         float64\n",
            "wind             float64\n",
            "weather           object\n",
            "dtype: object\n"
          ]
        }
      ]
    },
    {
      "cell_type": "code",
      "source": [
        "df['temp_avg'] = (df['temp_max']+ df['temp_max'])/2"
      ],
      "metadata": {
        "id": "27rCdz7oXTLN"
      },
      "execution_count": 81,
      "outputs": []
    },
    {
      "cell_type": "code",
      "source": [
        "df.plot.scatter(x=\"weather\", y=\"precipitation\",linewidth=1,alpha=0.75)\n",
        "plt.tight_layout()\n",
        "plt.show()"
      ],
      "metadata": {
        "colab": {
          "base_uri": "https://localhost:8080/",
          "height": 297
        },
        "id": "srM_1_ULzrl7",
        "outputId": "16c348e4-5bc8-46d6-b10b-93dc5051d56e"
      },
      "execution_count": 82,
      "outputs": [
        {
          "output_type": "display_data",
          "data": {
            "text/plain": [
              "<Figure size 432x288 with 1 Axes>"
            ],
            "image/png": "[encoded data removed]"
          },
          "metadata": {
            "needs_background": "light"
          }
        }
      ]
    },
    {
      "cell_type": "code",
      "source": [
        "df.plot.scatter(x=\"weather\", y=\"temp_min\",linewidth=1,alpha=0.75)\n",
        "plt.tight_layout()\n",
        "plt.show()"
      ],
      "metadata": {
        "colab": {
          "base_uri": "https://localhost:8080/",
          "height": 297
        },
        "id": "WemHT3-M0Xjv",
        "outputId": "83c830ae-cdcc-4218-a6cb-26f2eced58d8"
      },
      "execution_count": 83,
      "outputs": [
        {
          "output_type": "display_data",
          "data": {
            "text/plain": [
              "<Figure size 432x288 with 1 Axes>"
            ],
            "image/png": "[encoded data removed]"
          },
          "metadata": {
            "needs_background": "light"
          }
        }
      ]
    },
    {
      "cell_type": "code",
      "source": [
        "df.plot.scatter(x=\"weather\", y=\"temp_max\",linewidth=1,alpha=0.75)\n",
        "plt.tight_layout()\n",
        "plt.show()"
      ],
      "metadata": {
        "colab": {
          "base_uri": "https://localhost:8080/",
          "height": 297
        },
        "id": "r3fc1u7f0a__",
        "outputId": "ea91cd8e-6b91-4aca-b641-96da1808e4de"
      },
      "execution_count": 84,
      "outputs": [
        {
          "output_type": "display_data",
          "data": {
            "text/plain": [
              "<Figure size 432x288 with 1 Axes>"
            ],
            "image/png": "[encoded data removed]"
          },
          "metadata": {
            "needs_background": "light"
          }
        }
      ]
    },
    {
      "cell_type": "code",
      "source": [
        "df.plot.scatter(x=\"weather\", y=\"temp_avg\",linewidth=1,alpha=0.75)\n",
        "plt.tight_layout()\n",
        "plt.show()"
      ],
      "metadata": {
        "colab": {
          "base_uri": "https://localhost:8080/",
          "height": 297
        },
        "id": "QnUPc6HVZRXs",
        "outputId": "4eaa4190-1312-4a4e-cd47-bf6feca8f784"
      },
      "execution_count": 85,
      "outputs": [
        {
          "output_type": "display_data",
          "data": {
            "text/plain": [
              "<Figure size 432x288 with 1 Axes>"
            ],
            "image/png": "[encoded data removed]"
          },
          "metadata": {
            "needs_background": "light"
          }
        }
      ]
    },
    {
      "cell_type": "code",
      "source": [
        "df.plot.scatter(x=\"weather\", y=\"wind\",linewidth=1,alpha=0.75)\n",
        "plt.tight_layout()\n",
        "plt.show()"
      ],
      "metadata": {
        "colab": {
          "base_uri": "https://localhost:8080/",
          "height": 297
        },
        "id": "LTQhS5Ga0fP0",
        "outputId": "f8c6f328-0aea-43c5-9835-a8d7ff5b391a"
      },
      "execution_count": 86,
      "outputs": [
        {
          "output_type": "display_data",
          "data": {
            "text/plain": [
              "<Figure size 432x288 with 1 Axes>"
            ],
            "image/png": "[encoded data removed]"
          },
          "metadata": {
            "needs_background": "light"
          }
        }
      ]
    },
    {
      "cell_type": "code",
      "source": [
        "from sklearn.model_selection import train_test_split"
      ],
      "metadata": {
        "id": "WKxO9mesFdIT"
      },
      "execution_count": 87,
      "outputs": []
    },
    {
      "cell_type": "code",
      "source": [
        "def to_category(col):\n",
        "    df[col] = df[col].astype('category')\n",
        "    df[col] = df[col].cat.codes\n",
        "to_category('weather')"
      ],
      "metadata": {
        "id": "1OTrsG27iGjN"
      },
      "execution_count": 88,
      "outputs": []
    },
    {
      "cell_type": "code",
      "source": [
        "X=df[['precipitation','temp_max', 'temp_min', 'wind', 'temp_max']]\n",
        "y=df['weather']"
      ],
      "metadata": {
        "id": "SbrW0maLFwJ4"
      },
      "execution_count": 89,
      "outputs": []
    },
    {
      "cell_type": "code",
      "source": [
        "print(X)\n",
        "# print(y)"
      ],
      "metadata": {
        "colab": {
          "base_uri": "https://localhost:8080/"
        },
        "id": "Jtjp_vNMGG8d",
        "outputId": "63d01128-1241-499e-a896-1df32c05b6d7"
      },
      "execution_count": 90,
      "outputs": [
        {
          "output_type": "stream",
          "name": "stdout",
          "text": [
            "      precipitation  temp_max  temp_min  wind  temp_max\n",
            "380             0.0       6.7      -0.6   2.3       6.7\n",
            "813             0.0      18.9       2.8   2.2      18.9\n",
            "388             5.1       7.2       2.2   3.1       7.2\n",
            "155             1.3      12.8       8.9   3.1      12.8\n",
            "1409            1.3      11.1       3.9   3.9      11.1\n",
            "...             ...       ...       ...   ...       ...\n",
            "334            35.6      15.0       7.8   4.6      15.0\n",
            "179             0.0      22.2      11.7   2.5      22.2\n",
            "1309            0.0      30.6      16.1   2.0      30.6\n",
            "571             0.0      31.1      12.8   2.3      31.1\n",
            "639             7.9      14.4       8.9   4.7      14.4\n",
            "\n",
            "[1461 rows x 5 columns]\n"
          ]
        }
      ]
    },
    {
      "cell_type": "code",
      "source": [
        "print(y.value_counts()) #2-rain, 4-sun, 1-fog, 0-drizzle, 3-snow"
      ],
      "metadata": {
        "colab": {
          "base_uri": "https://localhost:8080/"
        },
        "id": "5L_XxQtwdJAh",
        "outputId": "859948f9-55da-4fa3-9ff0-aeee837e3246"
      },
      "execution_count": 91,
      "outputs": [
        {
          "output_type": "stream",
          "name": "stdout",
          "text": [
            "2    641\n",
            "4    640\n",
            "1    101\n",
            "0     53\n",
            "3     26\n",
            "Name: weather, dtype: int64\n"
          ]
        }
      ]
    },
    {
      "cell_type": "markdown",
      "source": [
        "# Build an ANN"
      ],
      "metadata": {
        "id": "BcTbtyDkFYjw"
      }
    },
    {
      "cell_type": "code",
      "source": [
        "import tensorflow as tf\n",
        "from tensorflow import keras\n",
        "from tensorflow.keras.models import Sequential\n",
        "from tensorflow.keras.layers import Dense, Dropout\n",
        "from keras.layers import Activation, Dense"
      ],
      "metadata": {
        "id": "ra6niOW3FX1a"
      },
      "execution_count": 115,
      "outputs": []
    },
    {
      "cell_type": "code",
      "source": [
        "model = tf.keras.models.Sequential([\n",
        "    Dense(150,input_shape=(5,),activation='relu'),\n",
        "    Dense(100,activation='relu'),\n",
        "    Dense(100,activation='relu'),\n",
        "    Dense(75,activation='relu'),\n",
        "    Dense(50,activation='relu'),\n",
        "    Dense(5,activation='softmax')\n",
        "])"
      ],
      "metadata": {
        "id": "6Oh8cYQnFdaq"
      },
      "execution_count": 116,
      "outputs": []
    },
    {
      "cell_type": "code",
      "source": [
        "model.summary()"
      ],
      "metadata": {
        "colab": {
          "base_uri": "https://localhost:8080/"
        },
        "id": "jJlxZ7W1F8Lm",
        "outputId": "d41ae637-cc50-4cb9-ade1-65ab121f5494"
      },
      "execution_count": 117,
      "outputs": [
        {
          "output_type": "stream",
          "name": "stdout",
          "text": [
            "Model: \"sequential_4\"\n",
            "_________________________________________________________________\n",
            " Layer (type)                Output Shape              Param #   \n",
            "=================================================================\n",
            " dense_24 (Dense)            (None, 150)               900       \n",
            "                                                                 \n",
            " dense_25 (Dense)            (None, 100)               15100     \n",
            "                                                                 \n",
            " dense_26 (Dense)            (None, 100)               10100     \n",
            "                                                                 \n",
            " dense_27 (Dense)            (None, 75)                7575      \n",
            "                                                                 \n",
            " dense_28 (Dense)            (None, 50)                3800      \n",
            "                                                                 \n",
            " dense_29 (Dense)            (None, 5)                 255       \n",
            "                                                                 \n",
            "=================================================================\n",
            "Total params: 37,730\n",
            "Trainable params: 37,730\n",
            "Non-trainable params: 0\n",
            "_________________________________________________________________\n"
          ]
        }
      ]
    },
    {
      "cell_type": "code",
      "source": [
        "X_train, X_test, y_train, y_test= train_test_split(X, y, test_size=0.2, random_state=10)\n",
        "print(len(X_train), len(X_test))"
      ],
      "metadata": {
        "colab": {
          "base_uri": "https://localhost:8080/"
        },
        "id": "LURtqllFbdjx",
        "outputId": "ca2b1eb4-2d76-4999-dff5-7bf6e0d59dab"
      },
      "execution_count": 118,
      "outputs": [
        {
          "output_type": "stream",
          "name": "stdout",
          "text": [
            "1168 293\n"
          ]
        }
      ]
    },
    {
      "cell_type": "code",
      "source": [
        "loss_fn = tf.keras.losses.SparseCategoricalCrossentropy() # As we have used the soft-max function in the model to make our loss more numerically stable."
      ],
      "metadata": {
        "id": "CZoa6x3Kk0ng"
      },
      "execution_count": 119,
      "outputs": []
    },
    {
      "cell_type": "code",
      "source": [
        "model.compile(loss =loss_fn, optimizer = 'adam', metrics = ['accuracy'])"
      ],
      "metadata": {
        "id": "ArtOl5c9a1OP"
      },
      "execution_count": 120,
      "outputs": []
    },
    {
      "cell_type": "code",
      "source": [
        "model.fit(X_train, y_train, epochs=30, batch_size=200)"
      ],
      "metadata": {
        "colab": {
          "base_uri": "https://localhost:8080/"
        },
        "id": "BkaHG6ZWjbo4",
        "outputId": "60fe154a-dc48-4fb3-e98a-3cdd231a3d43"
      },
      "execution_count": 121,
      "outputs": [
        {
          "output_type": "stream",
          "name": "stdout",
          "text": [
            "Epoch 1/30\n",
            "6/6 [==============================] - 1s 6ms/step - loss: 1.1927 - accuracy: 0.5411\n",
            "Epoch 2/30\n",
            "6/6 [==============================] - 0s 5ms/step - loss: 0.8850 - accuracy: 0.7226\n",
            "Epoch 3/30\n",
            "6/6 [==============================] - 0s 5ms/step - loss: 0.7626 - accuracy: 0.7509\n",
            "Epoch 4/30\n",
            "6/6 [==============================] - 0s 5ms/step - loss: 0.7032 - accuracy: 0.7697\n",
            "Epoch 5/30\n",
            "6/6 [==============================] - 0s 6ms/step - loss: 0.6547 - accuracy: 0.7774\n",
            "Epoch 6/30\n",
            "6/6 [==============================] - 0s 5ms/step - loss: 0.6241 - accuracy: 0.7860\n",
            "Epoch 7/30\n",
            "6/6 [==============================] - 0s 5ms/step - loss: 0.6281 - accuracy: 0.7834\n",
            "Epoch 8/30\n",
            "6/6 [==============================] - 0s 5ms/step - loss: 0.5956 - accuracy: 0.8022\n",
            "Epoch 9/30\n",
            "6/6 [==============================] - 0s 6ms/step - loss: 0.6010 - accuracy: 0.7902\n",
            "Epoch 10/30\n",
            "6/6 [==============================] - 0s 6ms/step - loss: 0.6080 - accuracy: 0.7945\n",
            "Epoch 11/30\n",
            "6/6 [==============================] - 0s 7ms/step - loss: 0.5604 - accuracy: 0.8057\n",
            "Epoch 12/30\n",
            "6/6 [==============================] - 0s 7ms/step - loss: 0.5527 - accuracy: 0.8074\n",
            "Epoch 13/30\n",
            "6/6 [==============================] - 0s 6ms/step - loss: 0.5335 - accuracy: 0.8176\n",
            "Epoch 14/30\n",
            "6/6 [==============================] - 0s 6ms/step - loss: 0.5377 - accuracy: 0.8228\n",
            "Epoch 15/30\n",
            "6/6 [==============================] - 0s 5ms/step - loss: 0.5521 - accuracy: 0.8211\n",
            "Epoch 16/30\n",
            "6/6 [==============================] - 0s 6ms/step - loss: 0.5221 - accuracy: 0.8271\n",
            "Epoch 17/30\n",
            "6/6 [==============================] - 0s 5ms/step - loss: 0.5164 - accuracy: 0.8279\n",
            "Epoch 18/30\n",
            "6/6 [==============================] - 0s 7ms/step - loss: 0.5198 - accuracy: 0.8330\n",
            "Epoch 19/30\n",
            "6/6 [==============================] - 0s 5ms/step - loss: 0.5158 - accuracy: 0.8313\n",
            "Epoch 20/30\n",
            "6/6 [==============================] - 0s 7ms/step - loss: 0.5109 - accuracy: 0.8330\n",
            "Epoch 21/30\n",
            "6/6 [==============================] - 0s 7ms/step - loss: 0.5189 - accuracy: 0.8279\n",
            "Epoch 22/30\n",
            "6/6 [==============================] - 0s 6ms/step - loss: 0.5003 - accuracy: 0.8373\n",
            "Epoch 23/30\n",
            "6/6 [==============================] - 0s 5ms/step - loss: 0.4916 - accuracy: 0.8399\n",
            "Epoch 24/30\n",
            "6/6 [==============================] - 0s 5ms/step - loss: 0.4807 - accuracy: 0.8459\n",
            "Epoch 25/30\n",
            "6/6 [==============================] - 0s 5ms/step - loss: 0.4800 - accuracy: 0.8433\n",
            "Epoch 26/30\n",
            "6/6 [==============================] - 0s 5ms/step - loss: 0.4882 - accuracy: 0.8442\n",
            "Epoch 27/30\n",
            "6/6 [==============================] - 0s 5ms/step - loss: 0.4707 - accuracy: 0.8502\n",
            "Epoch 28/30\n",
            "6/6 [==============================] - 0s 5ms/step - loss: 0.4658 - accuracy: 0.8527\n",
            "Epoch 29/30\n",
            "6/6 [==============================] - 0s 5ms/step - loss: 0.4699 - accuracy: 0.8493\n",
            "Epoch 30/30\n",
            "6/6 [==============================] - 0s 6ms/step - loss: 0.5255 - accuracy: 0.8305\n"
          ]
        },
        {
          "output_type": "execute_result",
          "data": {
            "text/plain": [
              "<keras.callbacks.History at 0x7f442a5acaf0>"
            ]
          },
          "metadata": {},
          "execution_count": 121
        }
      ]
    },
    {
      "cell_type": "code",
      "source": [
        "_, accuracy = model.evaluate(X_test, y_test)"
      ],
      "metadata": {
        "colab": {
          "base_uri": "https://localhost:8080/"
        },
        "id": "D8b-o_l8j_7K",
        "outputId": "0755b0f7-b995-4cd8-bb2a-580a14275334"
      },
      "execution_count": 122,
      "outputs": [
        {
          "output_type": "stream",
          "name": "stdout",
          "text": [
            "10/10 [==============================] - 0s 2ms/step - loss: 0.7260 - accuracy: 0.8020\n"
          ]
        }
      ]
    },
    {
      "cell_type": "code",
      "source": [
        "Dict = {0:'drizzle',1:'fog',2:'sun',3:'snow',4:'sun'} #2-rain, 4-sun, 1-fog, 0-drizzle, 3-snow"
      ],
      "metadata": {
        "id": "N0JdCYJwnZD8"
      },
      "execution_count": 108,
      "outputs": []
    },
    {
      "cell_type": "code",
      "source": [
        "y_pred = model.predict(X_test)\n",
        "print(y_pred)"
      ],
      "metadata": {
        "colab": {
          "base_uri": "https://localhost:8080/"
        },
        "id": "ek_lRLUIoJAM",
        "outputId": "573ef91b-b426-4a36-9352-bdefe91c68aa"
      },
      "execution_count": 124,
      "outputs": [
        {
          "output_type": "stream",
          "name": "stdout",
          "text": [
            "10/10 [==============================] - 0s 2ms/step\n",
            "[[3.3743101e-01 9.3311243e-02 4.3878119e-02 1.8433442e-02 5.0694615e-01]\n",
            " [3.1156059e-02 6.5604515e-02 1.5596991e-03 9.1935834e-07 9.0167880e-01]\n",
            " [2.2897178e-02 6.4855523e-02 2.6325430e-04 9.1228515e-08 9.1198391e-01]\n",
            " ...\n",
            " [9.6745983e-02 1.9623689e-01 2.9050246e-02 9.7792852e-04 6.7698896e-01]\n",
            " [2.4801591e-06 1.2838311e-06 9.9724245e-01 2.7191152e-03 3.4602555e-05]\n",
            " [1.6519465e-06 7.6610689e-07 9.9616349e-01 3.8085212e-03 2.5604142e-05]]\n"
          ]
        }
      ]
    },
    {
      "cell_type": "code",
      "source": [
        "y_pred = np.argmax(y_pred, axis=-1)\n",
        "print(y_pred)"
      ],
      "metadata": {
        "colab": {
          "base_uri": "https://localhost:8080/"
        },
        "id": "jkKsONBnoefU",
        "outputId": "dc493d54-d155-460f-e28c-e8d71e18575e"
      },
      "execution_count": 125,
      "outputs": [
        {
          "output_type": "stream",
          "name": "stdout",
          "text": [
            "[4 4 4 4 4 4 2 4 2 2 2 4 2 2 2 4 4 2 4 4 4 4 2 4 4 4 4 4 4 2 4 4 2 2 4 2 4\n",
            " 4 4 2 4 4 4 4 4 4 2 2 2 4 4 4 2 2 4 4 4 4 4 2 4 2 4 4 4 4 2 2 4 2 4 2 4 4\n",
            " 4 2 4 4 2 2 4 4 4 2 3 4 4 4 4 2 2 4 2 2 4 4 2 4 2 4 2 4 4 4 4 4 2 4 4 2 2\n",
            " 4 4 4 4 4 4 4 2 4 4 4 2 4 2 4 4 2 4 4 2 4 4 4 2 2 2 4 4 2 2 4 4 4 4 4 2 4\n",
            " 4 4 2 3 4 4 2 4 4 2 4 4 4 4 4 4 2 4 4 2 4 2 2 2 2 4 4 2 2 2 4 2 4 4 2 4 2\n",
            " 2 4 4 4 4 4 2 2 4 4 2 2 4 2 2 4 4 4 4 4 4 4 4 2 2 2 2 2 4 4 4 4 4 4 2 4 4\n",
            " 2 4 2 4 4 4 2 2 4 2 4 4 2 2 4 4 4 4 2 4 4 2 4 3 2 4 4 4 2 4 2 4 4 4 4 4 4\n",
            " 2 4 2 4 3 4 2 4 4 4 4 4 4 4 4 4 4 2 4 4 4 4 4 4 4 4 4 4 4 4 4 4 2 2]\n"
          ]
        }
      ]
    },
    {
      "cell_type": "code",
      "source": [
        "from sklearn import metrics\n",
        "cm= metrics.confusion_matrix(y_test, y_pred)\n",
        "print(cm)"
      ],
      "metadata": {
        "colab": {
          "base_uri": "https://localhost:8080/"
        },
        "id": "FXCoBG2gqEHU",
        "outputId": "15534bc5-ca7a-44ac-fdec-ad68db64bf0d"
      },
      "execution_count": 131,
      "outputs": [
        {
          "output_type": "stream",
          "name": "stdout",
          "text": [
            "[[  0   0   0   0  10]\n",
            " [  0   0   0   0  18]\n",
            " [  0   0  94   0  28]\n",
            " [  0   0   2   4   0]\n",
            " [  0   0   0   0 137]]\n"
          ]
        }
      ]
    },
    {
      "cell_type": "code",
      "source": [
        "import seaborn as sns\n",
        "plt.figure(figsize=(9,9))\n",
        "labels=['drizzle', 'fog', 'rain', 'snow', 'sun'] #2-rain, 4-sun, 1-fog, 0-drizzle, 3-snow\n",
        "sns.heatmap(cm, annot=True, xticklabels=labels, yticklabels=labels, fmt=\".3f\", linewidths=.5, square = True, cmap = 'Blues_r')\n",
        "plt.ylabel('Actual Label')\n",
        "plt.xlabel('Predicted Label')\n",
        "all_sample_title = 'Accuracy Score: {0}'.format(accuracy)"
      ],
      "metadata": {
        "colab": {
          "base_uri": "https://localhost:8080/",
          "height": 526
        },
        "id": "cADk_MAKrODm",
        "outputId": "99cd161a-0c43-49eb-ce74-27c457718fec"
      },
      "execution_count": 134,
      "outputs": [
        {
          "output_type": "display_data",
          "data": {
            "text/plain": [
              "<Figure size 648x648 with 2 Axes>"
            ],
            "image/png": "[encoded data removed]"
          },
          "metadata": {
            "needs_background": "light"
          }
        }
      ]
    }
  ]
}