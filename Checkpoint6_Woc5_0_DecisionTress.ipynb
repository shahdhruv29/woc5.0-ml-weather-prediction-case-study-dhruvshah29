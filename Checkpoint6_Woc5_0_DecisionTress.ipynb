{
  "nbformat": 4,
  "nbformat_minor": 0,
  "metadata": {
    "colab": {
      "provenance": [],
      "mount_file_id": "12wPH8cFLounbCqQE0rHM2Q787WpCIg5V",
      "authorship_tag": "ABX9TyM2g5fYPSNSDNW92bx1iR9m",
      "include_colab_link": true
    },
    "kernelspec": {
      "name": "python3",
      "display_name": "Python 3"
    },
    "language_info": {
      "name": "python"
    }
  },
  "cells": [
    {
      "cell_type": "markdown",
      "metadata": {
        "id": "view-in-github",
        "colab_type": "text"
      },
      "source": [
        "<a href=\"https://colab.research.google.com/github/shahdhruv29/woc5.0-ml-weather-prediction-case-study-dhruvshah29/blob/main/Checkpoint6_Woc5_0_DecisionTress.ipynb\" target=\"_parent\"><img src=\"https://colab.research.google.com/assets/colab-badge.svg\" alt=\"Open In Colab\"/></a>"
      ]
    },
    {
      "cell_type": "code",
      "execution_count": 1,
      "metadata": {
        "id": "7V-uGZdT-L81"
      },
      "outputs": [],
      "source": [
        "import pandas as pd\n",
        "import numpy as np\n",
        "import matplotlib.pyplot as plt"
      ]
    },
    {
      "cell_type": "code",
      "source": [
        "df= pd.read_csv('/content/weather.csv')\n",
        "df = df.sample(frac = 1)\n",
        "print(df.head())"
      ],
      "metadata": {
        "colab": {
          "base_uri": "https://localhost:8080/"
        },
        "id": "hNFxiUdWAzFR",
        "outputId": "9c583ead-55df-471d-92a7-0bcfd017b834"
      },
      "execution_count": 4,
      "outputs": [
        {
          "output_type": "stream",
          "name": "stdout",
          "text": [
            "      precipitation  temp_max  temp_min  wind weather\n",
            "535             0.0      20.0      12.8   3.7     sun\n",
            "78              2.0       7.2      -1.1   3.0    rain\n",
            "1340            0.0      19.4      11.1   3.8     sun\n",
            "33              0.0      14.4       2.2   5.3     sun\n",
            "539             7.9      22.2      15.0   2.1    rain\n"
          ]
        }
      ]
    },
    {
      "cell_type": "code",
      "source": [
        "print(df)"
      ],
      "metadata": {
        "colab": {
          "base_uri": "https://localhost:8080/"
        },
        "id": "ajUi9WMyA87s",
        "outputId": "66d9b972-4412-4572-9bd5-17a486877168"
      },
      "execution_count": 5,
      "outputs": [
        {
          "output_type": "stream",
          "name": "stdout",
          "text": [
            "      precipitation  temp_max  temp_min  wind weather\n",
            "535             0.0      20.0      12.8   3.7     sun\n",
            "78              2.0       7.2      -1.1   3.0    rain\n",
            "1340            0.0      19.4      11.1   3.8     sun\n",
            "33              0.0      14.4       2.2   5.3     sun\n",
            "539             7.9      22.2      15.0   2.1    rain\n",
            "...             ...       ...       ...   ...     ...\n",
            "548             0.0      28.3      15.6   3.0     sun\n",
            "251             0.0      25.0      13.3   3.0     sun\n",
            "1059           18.3      13.9       9.4   4.5    rain\n",
            "370             3.0       6.7       4.4   3.1    rain\n",
            "212             0.0      22.8      13.9   2.8     sun\n",
            "\n",
            "[1461 rows x 5 columns]\n"
          ]
        }
      ]
    },
    {
      "cell_type": "code",
      "source": [
        "print(df.dtypes)"
      ],
      "metadata": {
        "colab": {
          "base_uri": "https://localhost:8080/"
        },
        "id": "VXOqsrnLGMJB",
        "outputId": "5313f46f-d0b1-46d8-ce5f-85f82c2401dc"
      },
      "execution_count": 6,
      "outputs": [
        {
          "output_type": "stream",
          "name": "stdout",
          "text": [
            "precipitation    float64\n",
            "temp_max         float64\n",
            "temp_min         float64\n",
            "wind             float64\n",
            "weather           object\n",
            "dtype: object\n"
          ]
        }
      ]
    },
    {
      "cell_type": "code",
      "source": [
        "df.plot.scatter(x=\"weather\", y=\"precipitation\",linewidth=1,alpha=0.75)\n",
        "plt.tight_layout()\n",
        "plt.show()"
      ],
      "metadata": {
        "colab": {
          "base_uri": "https://localhost:8080/",
          "height": 297
        },
        "id": "srM_1_ULzrl7",
        "outputId": "949f6a2a-7a7f-4a75-bc19-bc11cb33e0e4"
      },
      "execution_count": 7,
      "outputs": [
        {
          "output_type": "display_data",
          "data": {
            "text/plain": [
              "<Figure size 432x288 with 1 Axes>"
            ],
            "image/png": "[encoded data removed]"
          },
          "metadata": {
            "needs_background": "light"
          }
        }
      ]
    },
    {
      "cell_type": "code",
      "source": [
        "df.plot.scatter(x=\"weather\", y=\"temp_min\",linewidth=1,alpha=0.75)\n",
        "plt.tight_layout()\n",
        "plt.show()"
      ],
      "metadata": {
        "colab": {
          "base_uri": "https://localhost:8080/",
          "height": 297
        },
        "id": "WemHT3-M0Xjv",
        "outputId": "4d88358e-53c9-46bf-9396-856e55641b9d"
      },
      "execution_count": 8,
      "outputs": [
        {
          "output_type": "display_data",
          "data": {
            "text/plain": [
              "<Figure size 432x288 with 1 Axes>"
            ],
            "image/png": "[encoded data removed]"
          },
          "metadata": {
            "needs_background": "light"
          }
        }
      ]
    },
    {
      "cell_type": "code",
      "source": [
        "df.plot.scatter(x=\"weather\", y=\"temp_max\",linewidth=1,alpha=0.75)\n",
        "plt.tight_layout()\n",
        "plt.show()"
      ],
      "metadata": {
        "colab": {
          "base_uri": "https://localhost:8080/",
          "height": 297
        },
        "id": "r3fc1u7f0a__",
        "outputId": "3974883b-8fc7-4e17-9b3a-bc25b59eacb2"
      },
      "execution_count": 9,
      "outputs": [
        {
          "output_type": "display_data",
          "data": {
            "text/plain": [
              "<Figure size 432x288 with 1 Axes>"
            ],
            "image/png": "[encoded data removed]"
          },
          "metadata": {
            "needs_background": "light"
          }
        }
      ]
    },
    {
      "cell_type": "code",
      "source": [
        "df.plot.scatter(x=\"weather\", y=\"wind\",linewidth=1,alpha=0.75)\n",
        "plt.tight_layout()\n",
        "plt.show()"
      ],
      "metadata": {
        "colab": {
          "base_uri": "https://localhost:8080/",
          "height": 297
        },
        "id": "LTQhS5Ga0fP0",
        "outputId": "341e712e-fce5-46ba-d3f4-b31d8f517b47"
      },
      "execution_count": 10,
      "outputs": [
        {
          "output_type": "display_data",
          "data": {
            "text/plain": [
              "<Figure size 432x288 with 1 Axes>"
            ],
            "image/png": "[encoded data removed]"
          },
          "metadata": {
            "needs_background": "light"
          }
        }
      ]
    },
    {
      "cell_type": "code",
      "source": [
        "from sklearn.model_selection import train_test_split"
      ],
      "metadata": {
        "id": "WKxO9mesFdIT"
      },
      "execution_count": 11,
      "outputs": []
    },
    {
      "cell_type": "code",
      "source": [
        "X =df[['precipitation','temp_max', 'temp_min', 'wind']]\n",
        "y= df['weather']"
      ],
      "metadata": {
        "id": "SbrW0maLFwJ4"
      },
      "execution_count": 12,
      "outputs": []
    },
    {
      "cell_type": "code",
      "source": [
        "print(X)\n",
        "print(y.unique)"
      ],
      "metadata": {
        "colab": {
          "base_uri": "https://localhost:8080/"
        },
        "id": "Jtjp_vNMGG8d",
        "outputId": "c96e3d90-d7f5-477d-c383-aa396536bca7"
      },
      "execution_count": 13,
      "outputs": [
        {
          "output_type": "stream",
          "name": "stdout",
          "text": [
            "      precipitation  temp_max  temp_min  wind\n",
            "535             0.0      20.0      12.8   3.7\n",
            "78              2.0       7.2      -1.1   3.0\n",
            "1340            0.0      19.4      11.1   3.8\n",
            "33              0.0      14.4       2.2   5.3\n",
            "539             7.9      22.2      15.0   2.1\n",
            "...             ...       ...       ...   ...\n",
            "548             0.0      28.3      15.6   3.0\n",
            "251             0.0      25.0      13.3   3.0\n",
            "1059           18.3      13.9       9.4   4.5\n",
            "370             3.0       6.7       4.4   3.1\n",
            "212             0.0      22.8      13.9   2.8\n",
            "\n",
            "[1461 rows x 4 columns]\n",
            "<bound method Series.unique of 535      sun\n",
            "78      rain\n",
            "1340     sun\n",
            "33       sun\n",
            "539     rain\n",
            "        ... \n",
            "548      sun\n",
            "251      sun\n",
            "1059    rain\n",
            "370     rain\n",
            "212      sun\n",
            "Name: weather, Length: 1461, dtype: object>\n"
          ]
        }
      ]
    },
    {
      "cell_type": "code",
      "source": [
        "print(y.value_counts())"
      ],
      "metadata": {
        "colab": {
          "base_uri": "https://localhost:8080/"
        },
        "id": "SY662EckkoZj",
        "outputId": "47aa8a83-fcb3-4ebe-f40a-09e9d1953cf2"
      },
      "execution_count": 14,
      "outputs": [
        {
          "output_type": "stream",
          "name": "stdout",
          "text": [
            "rain       641\n",
            "sun        640\n",
            "fog        101\n",
            "drizzle     53\n",
            "snow        26\n",
            "Name: weather, dtype: int64\n"
          ]
        }
      ]
    },
    {
      "cell_type": "code",
      "source": [
        "X['temp_avg']=(X['temp_max']+ X['temp_min'])/2"
      ],
      "metadata": {
        "id": "GFyOSciQlBV3"
      },
      "execution_count": 15,
      "outputs": []
    },
    {
      "cell_type": "code",
      "source": [
        "X.head()"
      ],
      "metadata": {
        "colab": {
          "base_uri": "https://localhost:8080/",
          "height": 206
        },
        "id": "Jx9uNe56lOPT",
        "outputId": "e567f14c-8290-4d3c-c93f-434f3ebbc2da"
      },
      "execution_count": 16,
      "outputs": [
        {
          "output_type": "execute_result",
          "data": {
            "text/plain": [
              "      precipitation  temp_max  temp_min  wind  temp_avg\n",
              "535             0.0      20.0      12.8   3.7     16.40\n",
              "78              2.0       7.2      -1.1   3.0      3.05\n",
              "1340            0.0      19.4      11.1   3.8     15.25\n",
              "33              0.0      14.4       2.2   5.3      8.30\n",
              "539             7.9      22.2      15.0   2.1     18.60"
            ],
            "text/html": [
              "\n",
              "  <div id=\"df-c1e726da-ab79-46f6-bee7-407d73473b3e\">\n",
              "    <div class=\"colab-df-container\">\n",
              "      <div>\n",
              "<style scoped>\n",
              "    .dataframe tbody tr th:only-of-type {\n",
              "        vertical-align: middle;\n",
              "    }\n",
              "\n",
              "    .dataframe tbody tr th {\n",
              "        vertical-align: top;\n",
              "    }\n",
              "\n",
              "    .dataframe thead th {\n",
              "        text-align: right;\n",
              "    }\n",
              "</style>\n",
              "<table border=\"1\" class=\"dataframe\">\n",
              "  <thead>\n",
              "    <tr style=\"text-align: right;\">\n",
              "      <th></th>\n",
              "      <th>precipitation</th>\n",
              "      <th>temp_max</th>\n",
              "      <th>temp_min</th>\n",
              "      <th>wind</th>\n",
              "      <th>temp_avg</th>\n",
              "    </tr>\n",
              "  </thead>\n",
              "  <tbody>\n",
              "    <tr>\n",
              "      <th>535</th>\n",
              "      <td>0.0</td>\n",
              "      <td>20.0</td>\n",
              "      <td>12.8</td>\n",
              "      <td>3.7</td>\n",
              "      <td>16.40</td>\n",
              "    </tr>\n",
              "    <tr>\n",
              "      <th>78</th>\n",
              "      <td>2.0</td>\n",
              "      <td>7.2</td>\n",
              "      <td>-1.1</td>\n",
              "      <td>3.0</td>\n",
              "      <td>3.05</td>\n",
              "    </tr>\n",
              "    <tr>\n",
              "      <th>1340</th>\n",
              "      <td>0.0</td>\n",
              "      <td>19.4</td>\n",
              "      <td>11.1</td>\n",
              "      <td>3.8</td>\n",
              "      <td>15.25</td>\n",
              "    </tr>\n",
              "    <tr>\n",
              "      <th>33</th>\n",
              "      <td>0.0</td>\n",
              "      <td>14.4</td>\n",
              "      <td>2.2</td>\n",
              "      <td>5.3</td>\n",
              "      <td>8.30</td>\n",
              "    </tr>\n",
              "    <tr>\n",
              "      <th>539</th>\n",
              "      <td>7.9</td>\n",
              "      <td>22.2</td>\n",
              "      <td>15.0</td>\n",
              "      <td>2.1</td>\n",
              "      <td>18.60</td>\n",
              "    </tr>\n",
              "  </tbody>\n",
              "</table>\n",
              "</div>\n",
              "      <button class=\"colab-df-convert\" onclick=\"convertToInteractive('df-c1e726da-ab79-46f6-bee7-407d73473b3e')\"\n",
              "              title=\"Convert this dataframe to an interactive table.\"\n",
              "              style=\"display:none;\">\n",
              "        \n",
              "  <svg xmlns=\"http://www.w3.org/2000/svg\" height=\"24px\"viewBox=\"0 0 24 24\"\n",
              "       width=\"24px\">\n",
              "    <path d=\"M0 0h24v24H0V0z\" fill=\"none\"/>\n",
              "    <path d=\"M18.56 5.44l.94 2.06.94-2.06 2.06-.94-2.06-.94-.94-2.06-.94 2.06-2.06.94zm-11 1L8.5 8.5l.94-2.06 2.06-.94-2.06-.94L8.5 2.5l-.94 2.06-2.06.94zm10 10l.94 2.06.94-2.06 2.06-.94-2.06-.94-.94-2.06-.94 2.06-2.06.94z\"/><path d=\"M17.41 7.96l-1.37-1.37c-.4-.4-.92-.59-1.43-.59-.52 0-1.04.2-1.43.59L10.3 9.45l-7.72 7.72c-.78.78-.78 2.05 0 2.83L4 21.41c.39.39.9.59 1.41.59.51 0 1.02-.2 1.41-.59l7.78-7.78 2.81-2.81c.8-.78.8-2.07 0-2.86zM5.41 20L4 18.59l7.72-7.72 1.47 1.35L5.41 20z\"/>\n",
              "  </svg>\n",
              "      </button>\n",
              "      \n",
              "  <style>\n",
              "    .colab-df-container {\n",
              "      display:flex;\n",
              "      flex-wrap:wrap;\n",
              "      gap: 12px;\n",
              "    }\n",
              "\n",
              "    .colab-df-convert {\n",
              "      background-color: #E8F0FE;\n",
              "      border: none;\n",
              "      border-radius: 50%;\n",
              "      cursor: pointer;\n",
              "      display: none;\n",
              "      fill: #1967D2;\n",
              "      height: 32px;\n",
              "      padding: 0 0 0 0;\n",
              "      width: 32px;\n",
              "    }\n",
              "\n",
              "    .colab-df-convert:hover {\n",
              "      background-color: #E2EBFA;\n",
              "      box-shadow: 0px 1px 2px rgba(60, 64, 67, 0.3), 0px 1px 3px 1px rgba(60, 64, 67, 0.15);\n",
              "      fill: #174EA6;\n",
              "    }\n",
              "\n",
              "    [theme=dark] .colab-df-convert {\n",
              "      background-color: #3B4455;\n",
              "      fill: #D2E3FC;\n",
              "    }\n",
              "\n",
              "    [theme=dark] .colab-df-convert:hover {\n",
              "      background-color: #434B5C;\n",
              "      box-shadow: 0px 1px 3px 1px rgba(0, 0, 0, 0.15);\n",
              "      filter: drop-shadow(0px 1px 2px rgba(0, 0, 0, 0.3));\n",
              "      fill: #FFFFFF;\n",
              "    }\n",
              "  </style>\n",
              "\n",
              "      <script>\n",
              "        const buttonEl =\n",
              "          document.querySelector('#df-c1e726da-ab79-46f6-bee7-407d73473b3e button.colab-df-convert');\n",
              "        buttonEl.style.display =\n",
              "          google.colab.kernel.accessAllowed ? 'block' : 'none';\n",
              "\n",
              "        async function convertToInteractive(key) {\n",
              "          const element = document.querySelector('#df-c1e726da-ab79-46f6-bee7-407d73473b3e');\n",
              "          const dataTable =\n",
              "            await google.colab.kernel.invokeFunction('convertToInteractive',\n",
              "                                                     [key], {});\n",
              "          if (!dataTable) return;\n",
              "\n",
              "          const docLinkHtml = 'Like what you see? Visit the ' +\n",
              "            '<a target=\"_blank\" href=https://colab.research.google.com/notebooks/data_table.ipynb>data table notebook</a>'\n",
              "            + ' to learn more about interactive tables.';\n",
              "          element.innerHTML = '';\n",
              "          dataTable['output_type'] = 'display_data';\n",
              "          await google.colab.output.renderOutput(dataTable, element);\n",
              "          const docLink = document.createElement('div');\n",
              "          docLink.innerHTML = docLinkHtml;\n",
              "          element.appendChild(docLink);\n",
              "        }\n",
              "      </script>\n",
              "    </div>\n",
              "  </div>\n",
              "  "
            ]
          },
          "metadata": {},
          "execution_count": 16
        }
      ]
    },
    {
      "cell_type": "code",
      "source": [
        "X_train, X_test, y_train, y_test= train_test_split(X, y, test_size=0.2, random_state=10)"
      ],
      "metadata": {
        "id": "WGedxlMUGKEd"
      },
      "execution_count": 20,
      "outputs": []
    },
    {
      "cell_type": "code",
      "source": [
        "print(len(X_train), len(X_test))"
      ],
      "metadata": {
        "colab": {
          "base_uri": "https://localhost:8080/"
        },
        "id": "hztcpynDHJtZ",
        "outputId": "8d8a411d-695d-45bb-bdbc-b188bfab99ed"
      },
      "execution_count": 21,
      "outputs": [
        {
          "output_type": "stream",
          "name": "stdout",
          "text": [
            "1168 293\n"
          ]
        }
      ]
    },
    {
      "cell_type": "code",
      "source": [
        "from sklearn.tree import DecisionTreeClassifier\n",
        "from sklearn import tree"
      ],
      "metadata": {
        "id": "1Z23RUIKme-a"
      },
      "execution_count": 27,
      "outputs": []
    },
    {
      "cell_type": "code",
      "source": [
        "dtree = DecisionTreeClassifier()\n",
        "dtree = dtree.fit(X_train,y_train)"
      ],
      "metadata": {
        "id": "aargThuBmYAz"
      },
      "execution_count": 23,
      "outputs": []
    },
    {
      "cell_type": "code",
      "source": [
        "tree.plot_tree(dtree)"
      ],
      "metadata": {
        "colab": {
          "base_uri": "https://localhost:8080/",
          "height": 1000
        },
        "id": "vOq1AqmjmxAD",
        "outputId": "900a912a-53b5-4ba8-ef76-d9e9f93d1aad"
      },
      "execution_count": 28,
      "outputs": [
        {
          "output_type": "execute_result",
          "data": {
            "text/plain": [
              "[Text(0.664120205965909, 0.975, 'X[0] <= 0.15\\ngini = 0.606\\nsamples = 1168\\nvalue = [40, 78, 515, 21, 514]'),\n",
              " Text(0.3816495028409091, 0.925, 'X[1] <= 17.5\\ngini = 0.388\\nsamples = 668\\nvalue = [40, 78, 36, 0, 514]'),\n",
              " Text(0.09644886363636364, 0.875, 'X[2] <= 0.3\\ngini = 0.516\\nsamples = 265\\nvalue = [20, 46, 23, 0, 176]'),\n",
              " Text(0.04659090909090909, 0.825, 'X[3] <= 2.05\\ngini = 0.337\\nsamples = 50\\nvalue = [7, 3, 0, 0, 40]'),\n",
              " Text(0.029545454545454545, 0.775, 'X[1] <= 4.15\\ngini = 0.553\\nsamples = 21\\nvalue = [7, 2, 0, 0, 12]'),\n",
              " Text(0.01818181818181818, 0.725, 'X[4] <= -0.1\\ngini = 0.542\\nsamples = 12\\nvalue = [7, 1, 0, 0, 4]'),\n",
              " Text(0.00909090909090909, 0.675, 'X[3] <= 1.1\\ngini = 0.375\\nsamples = 4\\nvalue = [0, 1, 0, 0, 3]'),\n",
              " Text(0.004545454545454545, 0.625, 'gini = 0.0\\nsamples = 1\\nvalue = [0, 1, 0, 0, 0]'),\n",
              " Text(0.013636363636363636, 0.625, 'gini = 0.0\\nsamples = 3\\nvalue = [0, 0, 0, 0, 3]'),\n",
              " Text(0.02727272727272727, 0.675, 'X[2] <= -1.95\\ngini = 0.219\\nsamples = 8\\nvalue = [7, 0, 0, 0, 1]'),\n",
              " Text(0.022727272727272728, 0.625, 'X[2] <= -2.5\\ngini = 0.444\\nsamples = 3\\nvalue = [2, 0, 0, 0, 1]'),\n",
              " Text(0.01818181818181818, 0.575, 'gini = 0.0\\nsamples = 2\\nvalue = [2, 0, 0, 0, 0]'),\n",
              " Text(0.02727272727272727, 0.575, 'gini = 0.0\\nsamples = 1\\nvalue = [0, 0, 0, 0, 1]'),\n",
              " Text(0.031818181818181815, 0.625, 'gini = 0.0\\nsamples = 5\\nvalue = [5, 0, 0, 0, 0]'),\n",
              " Text(0.04090909090909091, 0.725, 'X[2] <= -1.05\\ngini = 0.198\\nsamples = 9\\nvalue = [0, 1, 0, 0, 8]'),\n",
              " Text(0.03636363636363636, 0.675, 'gini = 0.0\\nsamples = 7\\nvalue = [0, 0, 0, 0, 7]'),\n",
              " Text(0.045454545454545456, 0.675, 'X[3] <= 1.1\\ngini = 0.5\\nsamples = 2\\nvalue = [0, 1, 0, 0, 1]'),\n",
              " Text(0.04090909090909091, 0.625, 'gini = 0.0\\nsamples = 1\\nvalue = [0, 0, 0, 0, 1]'),\n",
              " Text(0.05, 0.625, 'gini = 0.0\\nsamples = 1\\nvalue = [0, 1, 0, 0, 0]'),\n",
              " Text(0.06363636363636363, 0.775, 'X[3] <= 5.65\\ngini = 0.067\\nsamples = 29\\nvalue = [0, 1, 0, 0, 28]'),\n",
              " Text(0.05909090909090909, 0.725, 'gini = 0.0\\nsamples = 25\\nvalue = [0, 0, 0, 0, 25]'),\n",
              " Text(0.06818181818181818, 0.725, 'X[1] <= 6.15\\ngini = 0.375\\nsamples = 4\\nvalue = [0, 1, 0, 0, 3]'),\n",
              " Text(0.06363636363636363, 0.675, 'X[4] <= -0.9\\ngini = 0.5\\nsamples = 2\\nvalue = [0, 1, 0, 0, 1]'),\n",
              " Text(0.05909090909090909, 0.625, 'gini = 0.0\\nsamples = 1\\nvalue = [0, 0, 0, 0, 1]'),\n",
              " Text(0.06818181818181818, 0.625, 'gini = 0.0\\nsamples = 1\\nvalue = [0, 1, 0, 0, 0]'),\n",
              " Text(0.07272727272727272, 0.675, 'gini = 0.0\\nsamples = 2\\nvalue = [0, 0, 0, 0, 2]'),\n",
              " Text(0.14630681818181818, 0.825, 'X[4] <= 4.325\\ngini = 0.545\\nsamples = 215\\nvalue = [13, 43, 23, 0, 136]'),\n",
              " Text(0.08181818181818182, 0.775, 'X[3] <= 1.0\\ngini = 0.562\\nsamples = 11\\nvalue = [0, 6, 1, 0, 4]'),\n",
              " Text(0.07727272727272727, 0.725, 'gini = 0.0\\nsamples = 2\\nvalue = [0, 0, 0, 0, 2]'),\n",
              " Text(0.08636363636363636, 0.725, 'X[4] <= 3.225\\ngini = 0.494\\nsamples = 9\\nvalue = [0, 6, 1, 0, 2]'),\n",
              " Text(0.08181818181818182, 0.675, 'gini = 0.0\\nsamples = 1\\nvalue = [0, 0, 0, 0, 1]'),\n",
              " Text(0.09090909090909091, 0.675, 'X[3] <= 4.5\\ngini = 0.406\\nsamples = 8\\nvalue = [0, 6, 1, 0, 1]'),\n",
              " Text(0.08636363636363636, 0.625, 'X[3] <= 2.4\\ngini = 0.245\\nsamples = 7\\nvalue = [0, 6, 1, 0, 0]'),\n",
              " Text(0.08181818181818182, 0.575, 'X[1] <= 6.15\\ngini = 0.444\\nsamples = 3\\nvalue = [0, 2, 1, 0, 0]'),\n",
              " Text(0.07727272727272727, 0.525, 'gini = 0.0\\nsamples = 2\\nvalue = [0, 2, 0, 0, 0]'),\n",
              " Text(0.08636363636363636, 0.525, 'gini = 0.0\\nsamples = 1\\nvalue = [0, 0, 1, 0, 0]'),\n",
              " Text(0.09090909090909091, 0.575, 'gini = 0.0\\nsamples = 4\\nvalue = [0, 4, 0, 0, 0]'),\n",
              " Text(0.09545454545454546, 0.625, 'gini = 0.0\\nsamples = 1\\nvalue = [0, 0, 0, 0, 1]'),\n",
              " Text(0.21079545454545454, 0.775, 'X[3] <= 1.85\\ngini = 0.533\\nsamples = 204\\nvalue = [13, 37, 22, 0, 132]'),\n",
              " Text(0.12727272727272726, 0.725, 'X[2] <= 3.6\\ngini = 0.54\\nsamples = 57\\nvalue = [2, 18, 3, 0, 34]'),\n",
              " Text(0.11363636363636363, 0.675, 'X[2] <= 1.4\\ngini = 0.277\\nsamples = 19\\nvalue = [0, 2, 1, 0, 16]'),\n",
              " Text(0.10454545454545454, 0.625, 'X[3] <= 1.35\\ngini = 0.48\\nsamples = 5\\nvalue = [0, 2, 0, 0, 3]'),\n",
              " Text(0.1, 0.575, 'X[4] <= 5.3\\ngini = 0.444\\nsamples = 3\\nvalue = [0, 2, 0, 0, 1]'),\n",
              " Text(0.09545454545454546, 0.525, 'gini = 0.0\\nsamples = 1\\nvalue = [0, 0, 0, 0, 1]'),\n",
              " Text(0.10454545454545454, 0.525, 'gini = 0.0\\nsamples = 2\\nvalue = [0, 2, 0, 0, 0]'),\n",
              " Text(0.10909090909090909, 0.575, 'gini = 0.0\\nsamples = 2\\nvalue = [0, 0, 0, 0, 2]'),\n",
              " Text(0.12272727272727273, 0.625, 'X[3] <= 1.45\\ngini = 0.133\\nsamples = 14\\nvalue = [0, 0, 1, 0, 13]'),\n",
              " Text(0.11818181818181818, 0.575, 'gini = 0.0\\nsamples = 9\\nvalue = [0, 0, 0, 0, 9]'),\n",
              " Text(0.12727272727272726, 0.575, 'X[1] <= 9.45\\ngini = 0.32\\nsamples = 5\\nvalue = [0, 0, 1, 0, 4]'),\n",
              " Text(0.12272727272727273, 0.525, 'X[3] <= 1.6\\ngini = 0.5\\nsamples = 2\\nvalue = [0, 0, 1, 0, 1]'),\n",
              " Text(0.11818181818181818, 0.475, 'gini = 0.0\\nsamples = 1\\nvalue = [0, 0, 1, 0, 0]'),\n",
              " Text(0.12727272727272726, 0.475, 'gini = 0.0\\nsamples = 1\\nvalue = [0, 0, 0, 0, 1]'),\n",
              " Text(0.1318181818181818, 0.525, 'gini = 0.0\\nsamples = 3\\nvalue = [0, 0, 0, 0, 3]'),\n",
              " Text(0.1409090909090909, 0.675, 'X[4] <= 6.55\\ngini = 0.593\\nsamples = 38\\nvalue = [2, 16, 2, 0, 18]'),\n",
              " Text(0.13636363636363635, 0.625, 'gini = 0.0\\nsamples = 2\\nvalue = [0, 0, 2, 0, 0]'),\n",
              " Text(0.14545454545454545, 0.625, 'X[4] <= 7.9\\ngini = 0.549\\nsamples = 36\\nvalue = [2, 16, 0, 0, 18]'),\n",
              " Text(0.1409090909090909, 0.575, 'gini = 0.0\\nsamples = 3\\nvalue = [0, 3, 0, 0, 0]'),\n",
              " Text(0.15, 0.575, 'X[4] <= 10.425\\ngini = 0.544\\nsamples = 33\\nvalue = [2, 13, 0, 0, 18]'),\n",
              " Text(0.1409090909090909, 0.525, 'X[4] <= 9.425\\ngini = 0.42\\nsamples = 20\\nvalue = [0, 6, 0, 0, 14]'),\n",
              " Text(0.13636363636363635, 0.475, 'X[1] <= 11.95\\ngini = 0.5\\nsamples = 12\\nvalue = [0, 6, 0, 0, 6]'),\n",
              " Text(0.12727272727272726, 0.425, 'X[3] <= 1.25\\ngini = 0.278\\nsamples = 6\\nvalue = [0, 1, 0, 0, 5]'),\n",
              " Text(0.12272727272727273, 0.375, 'X[2] <= 6.65\\ngini = 0.5\\nsamples = 2\\nvalue = [0, 1, 0, 0, 1]'),\n",
              " Text(0.11818181818181818, 0.325, 'gini = 0.0\\nsamples = 1\\nvalue = [0, 0, 0, 0, 1]'),\n",
              " Text(0.12727272727272726, 0.325, 'gini = 0.0\\nsamples = 1\\nvalue = [0, 1, 0, 0, 0]'),\n",
              " Text(0.1318181818181818, 0.375, 'gini = 0.0\\nsamples = 4\\nvalue = [0, 0, 0, 0, 4]'),\n",
              " Text(0.14545454545454545, 0.425, 'X[4] <= 8.475\\ngini = 0.278\\nsamples = 6\\nvalue = [0, 5, 0, 0, 1]'),\n",
              " Text(0.1409090909090909, 0.375, 'X[3] <= 1.25\\ngini = 0.5\\nsamples = 2\\nvalue = [0, 1, 0, 0, 1]'),\n",
              " Text(0.13636363636363635, 0.325, 'gini = 0.0\\nsamples = 1\\nvalue = [0, 1, 0, 0, 0]'),\n",
              " Text(0.14545454545454545, 0.325, 'gini = 0.0\\nsamples = 1\\nvalue = [0, 0, 0, 0, 1]'),\n",
              " Text(0.15, 0.375, 'gini = 0.0\\nsamples = 4\\nvalue = [0, 4, 0, 0, 0]'),\n",
              " Text(0.14545454545454545, 0.475, 'gini = 0.0\\nsamples = 8\\nvalue = [0, 0, 0, 0, 8]'),\n",
              " Text(0.1590909090909091, 0.525, 'X[1] <= 14.45\\ngini = 0.592\\nsamples = 13\\nvalue = [2, 7, 0, 0, 4]'),\n",
              " Text(0.15454545454545454, 0.475, 'gini = 0.0\\nsamples = 1\\nvalue = [1, 0, 0, 0, 0]'),\n",
              " Text(0.16363636363636364, 0.475, 'X[4] <= 11.275\\ngini = 0.542\\nsamples = 12\\nvalue = [1, 7, 0, 0, 4]'),\n",
              " Text(0.1590909090909091, 0.425, 'gini = 0.0\\nsamples = 3\\nvalue = [0, 3, 0, 0, 0]'),\n",
              " Text(0.16818181818181818, 0.425, 'X[3] <= 1.5\\ngini = 0.593\\nsamples = 9\\nvalue = [1, 4, 0, 0, 4]'),\n",
              " Text(0.16363636363636364, 0.375, 'gini = 0.0\\nsamples = 3\\nvalue = [0, 3, 0, 0, 0]'),\n",
              " Text(0.17272727272727273, 0.375, 'X[4] <= 12.375\\ngini = 0.5\\nsamples = 6\\nvalue = [1, 1, 0, 0, 4]'),\n",
              " Text(0.16818181818181818, 0.325, 'X[1] <= 16.4\\ngini = 0.32\\nsamples = 5\\nvalue = [0, 1, 0, 0, 4]'),\n",
              " Text(0.16363636363636364, 0.275, 'X[3] <= 1.75\\ngini = 0.5\\nsamples = 2\\nvalue = [0, 1, 0, 0, 1]'),\n",
              " Text(0.1590909090909091, 0.225, 'gini = 0.0\\nsamples = 1\\nvalue = [0, 1, 0, 0, 0]'),\n",
              " Text(0.16818181818181818, 0.225, 'gini = 0.0\\nsamples = 1\\nvalue = [0, 0, 0, 0, 1]'),\n",
              " Text(0.17272727272727273, 0.275, 'gini = 0.0\\nsamples = 3\\nvalue = [0, 0, 0, 0, 3]'),\n",
              " Text(0.17727272727272728, 0.325, 'gini = 0.0\\nsamples = 1\\nvalue = [1, 0, 0, 0, 0]'),\n",
              " Text(0.2943181818181818, 0.725, 'X[1] <= 10.3\\ngini = 0.517\\nsamples = 147\\nvalue = [11, 19, 19, 0, 98]'),\n",
              " Text(0.23636363636363636, 0.675, 'X[2] <= 3.6\\ngini = 0.647\\nsamples = 37\\nvalue = [3, 8, 7, 0, 19]'),\n",
              " Text(0.21363636363636362, 0.625, 'X[4] <= 5.125\\ngini = 0.656\\nsamples = 27\\nvalue = [3, 8, 3, 0, 13]'),\n",
              " Text(0.19545454545454546, 0.575, 'X[4] <= 4.725\\ngini = 0.541\\nsamples = 14\\nvalue = [2, 1, 2, 0, 9]'),\n",
              " Text(0.18636363636363637, 0.525, 'X[1] <= 8.05\\ngini = 0.64\\nsamples = 5\\nvalue = [2, 0, 1, 0, 2]'),\n",
              " Text(0.18181818181818182, 0.475, 'X[3] <= 2.25\\ngini = 0.444\\nsamples = 3\\nvalue = [1, 0, 0, 0, 2]'),\n",
              " Text(0.17727272727272728, 0.425, 'gini = 0.0\\nsamples = 1\\nvalue = [1, 0, 0, 0, 0]'),\n",
              " Text(0.18636363636363637, 0.425, 'gini = 0.0\\nsamples = 2\\nvalue = [0, 0, 0, 0, 2]'),\n",
              " Text(0.19090909090909092, 0.475, 'gini = 0.5\\nsamples = 2\\nvalue = [1, 0, 1, 0, 0]'),\n",
              " Text(0.20454545454545456, 0.525, 'X[1] <= 8.05\\ngini = 0.37\\nsamples = 9\\nvalue = [0, 1, 1, 0, 7]'),\n",
              " Text(0.2, 0.475, 'X[3] <= 2.15\\ngini = 0.625\\nsamples = 4\\nvalue = [0, 1, 1, 0, 2]'),\n",
              " Text(0.19545454545454546, 0.425, 'gini = 0.0\\nsamples = 1\\nvalue = [0, 0, 0, 0, 1]'),\n",
              " Text(0.20454545454545456, 0.425, 'X[4] <= 4.875\\ngini = 0.667\\nsamples = 3\\nvalue = [0, 1, 1, 0, 1]'),\n",
              " Text(0.2, 0.375, 'X[3] <= 3.45\\ngini = 0.5\\nsamples = 2\\nvalue = [0, 1, 0, 0, 1]'),\n",
              " Text(0.19545454545454546, 0.325, 'gini = 0.0\\nsamples = 1\\nvalue = [0, 1, 0, 0, 0]'),\n",
              " Text(0.20454545454545456, 0.325, 'gini = 0.0\\nsamples = 1\\nvalue = [0, 0, 0, 0, 1]'),\n",
              " Text(0.20909090909090908, 0.375, 'gini = 0.0\\nsamples = 1\\nvalue = [0, 0, 1, 0, 0]'),\n",
              " Text(0.20909090909090908, 0.475, 'gini = 0.0\\nsamples = 5\\nvalue = [0, 0, 0, 0, 5]'),\n",
              " Text(0.2318181818181818, 0.575, 'X[3] <= 2.65\\ngini = 0.604\\nsamples = 13\\nvalue = [1, 7, 1, 0, 4]'),\n",
              " Text(0.22272727272727272, 0.525, 'X[1] <= 9.45\\ngini = 0.571\\nsamples = 7\\nvalue = [1, 2, 0, 0, 4]'),\n",
              " Text(0.21818181818181817, 0.475, 'X[1] <= 8.35\\ngini = 0.444\\nsamples = 3\\nvalue = [1, 2, 0, 0, 0]'),\n",
              " Text(0.21363636363636362, 0.425, 'gini = 0.0\\nsamples = 2\\nvalue = [0, 2, 0, 0, 0]'),\n",
              " Text(0.22272727272727272, 0.425, 'gini = 0.0\\nsamples = 1\\nvalue = [1, 0, 0, 0, 0]'),\n",
              " Text(0.22727272727272727, 0.475, 'gini = 0.0\\nsamples = 4\\nvalue = [0, 0, 0, 0, 4]'),\n",
              " Text(0.2409090909090909, 0.525, 'X[2] <= 1.4\\ngini = 0.278\\nsamples = 6\\nvalue = [0, 5, 1, 0, 0]'),\n",
              " Text(0.23636363636363636, 0.475, 'gini = 0.0\\nsamples = 1\\nvalue = [0, 0, 1, 0, 0]'),\n",
              " Text(0.24545454545454545, 0.475, 'gini = 0.0\\nsamples = 5\\nvalue = [0, 5, 0, 0, 0]'),\n",
              " Text(0.2590909090909091, 0.625, 'X[3] <= 2.55\\ngini = 0.48\\nsamples = 10\\nvalue = [0, 0, 4, 0, 6]'),\n",
              " Text(0.2545454545454545, 0.575, 'gini = 0.0\\nsamples = 2\\nvalue = [0, 0, 2, 0, 0]'),\n",
              " Text(0.2636363636363636, 0.575, 'X[4] <= 7.075\\ngini = 0.375\\nsamples = 8\\nvalue = [0, 0, 2, 0, 6]'),\n",
              " Text(0.2590909090909091, 0.525, 'X[4] <= 6.625\\ngini = 0.5\\nsamples = 4\\nvalue = [0, 0, 2, 0, 2]'),\n",
              " Text(0.2545454545454545, 0.475, 'gini = 0.0\\nsamples = 2\\nvalue = [0, 0, 0, 0, 2]'),\n",
              " Text(0.2636363636363636, 0.475, 'gini = 0.0\\nsamples = 2\\nvalue = [0, 0, 2, 0, 0]'),\n",
              " Text(0.2681818181818182, 0.525, 'gini = 0.0\\nsamples = 4\\nvalue = [0, 0, 0, 0, 4]'),\n",
              " Text(0.3522727272727273, 0.675, 'X[2] <= 12.25\\ngini = 0.457\\nsamples = 110\\nvalue = [8, 11, 12, 0, 79]'),\n",
              " Text(0.3477272727272727, 0.625, 'X[3] <= 2.45\\ngini = 0.448\\nsamples = 109\\nvalue = [7, 11, 12, 0, 79]'),\n",
              " Text(0.2818181818181818, 0.575, 'X[3] <= 2.25\\ngini = 0.163\\nsamples = 23\\nvalue = [1, 1, 0, 0, 21]'),\n",
              " Text(0.2772727272727273, 0.525, 'gini = 0.0\\nsamples = 11\\nvalue = [0, 0, 0, 0, 11]'),\n",
              " Text(0.2863636363636364, 0.525, 'X[4] <= 9.425\\ngini = 0.292\\nsamples = 12\\nvalue = [1, 1, 0, 0, 10]'),\n",
              " Text(0.2818181818181818, 0.475, 'X[1] <= 14.15\\ngini = 0.449\\nsamples = 7\\nvalue = [1, 1, 0, 0, 5]'),\n",
              " Text(0.2772727272727273, 0.425, 'X[2] <= 4.7\\ngini = 0.278\\nsamples = 6\\nvalue = [1, 0, 0, 0, 5]'),\n",
              " Text(0.2727272727272727, 0.375, 'gini = 0.0\\nsamples = 3\\nvalue = [0, 0, 0, 0, 3]'),\n",
              " Text(0.2818181818181818, 0.375, 'X[1] <= 11.95\\ngini = 0.444\\nsamples = 3\\nvalue = [1, 0, 0, 0, 2]'),\n",
              " Text(0.2772727272727273, 0.325, 'gini = 0.0\\nsamples = 1\\nvalue = [0, 0, 0, 0, 1]'),\n",
              " Text(0.2863636363636364, 0.325, 'X[3] <= 2.35\\ngini = 0.5\\nsamples = 2\\nvalue = [1, 0, 0, 0, 1]'),\n",
              " Text(0.2818181818181818, 0.275, 'gini = 0.0\\nsamples = 1\\nvalue = [0, 0, 0, 0, 1]'),\n",
              " Text(0.2909090909090909, 0.275, 'gini = 0.0\\nsamples = 1\\nvalue = [1, 0, 0, 0, 0]'),\n",
              " Text(0.2863636363636364, 0.425, 'gini = 0.0\\nsamples = 1\\nvalue = [0, 1, 0, 0, 0]'),\n",
              " Text(0.2909090909090909, 0.475, 'gini = 0.0\\nsamples = 5\\nvalue = [0, 0, 0, 0, 5]'),\n",
              " Text(0.41363636363636364, 0.575, 'X[2] <= 10.3\\ngini = 0.507\\nsamples = 86\\nvalue = [6, 10, 12, 0, 58]'),\n",
              " Text(0.4090909090909091, 0.525, 'X[4] <= 11.525\\ngini = 0.543\\nsamples = 78\\nvalue = [6, 10, 12, 0, 50]'),\n",
              " Text(0.3613636363636364, 0.475, 'X[1] <= 12.5\\ngini = 0.469\\nsamples = 55\\nvalue = [5, 5, 6, 0, 39]'),\n",
              " Text(0.32954545454545453, 0.425, 'X[3] <= 5.35\\ngini = 0.381\\nsamples = 25\\nvalue = [1, 0, 5, 0, 19]'),\n",
              " Text(0.31363636363636366, 0.375, 'X[3] <= 2.65\\ngini = 0.29\\nsamples = 18\\nvalue = [1, 0, 2, 0, 15]'),\n",
              " Text(0.30454545454545456, 0.325, 'X[1] <= 10.85\\ngini = 0.56\\nsamples = 5\\nvalue = [1, 0, 1, 0, 3]'),\n",
              " Text(0.3, 0.275, 'gini = 0.0\\nsamples = 1\\nvalue = [0, 0, 1, 0, 0]'),\n",
              " Text(0.3090909090909091, 0.275, 'X[2] <= 3.3\\ngini = 0.375\\nsamples = 4\\nvalue = [1, 0, 0, 0, 3]'),\n",
              " Text(0.30454545454545456, 0.225, 'gini = 0.0\\nsamples = 1\\nvalue = [1, 0, 0, 0, 0]'),\n",
              " Text(0.31363636363636366, 0.225, 'gini = 0.0\\nsamples = 3\\nvalue = [0, 0, 0, 0, 3]'),\n",
              " Text(0.32272727272727275, 0.325, 'X[1] <= 11.95\\ngini = 0.142\\nsamples = 13\\nvalue = [0, 0, 1, 0, 12]'),\n",
              " Text(0.3181818181818182, 0.275, 'gini = 0.0\\nsamples = 10\\nvalue = [0, 0, 0, 0, 10]'),\n",
              " Text(0.32727272727272727, 0.275, 'X[4] <= 7.9\\ngini = 0.444\\nsamples = 3\\nvalue = [0, 0, 1, 0, 2]'),\n",
              " Text(0.32272727272727275, 0.225, 'gini = 0.0\\nsamples = 1\\nvalue = [0, 0, 0, 0, 1]'),\n",
              " Text(0.33181818181818185, 0.225, 'X[3] <= 4.1\\ngini = 0.5\\nsamples = 2\\nvalue = [0, 0, 1, 0, 1]'),\n",
              " Text(0.32727272727272727, 0.175, 'gini = 0.0\\nsamples = 1\\nvalue = [0, 0, 1, 0, 0]'),\n",
              " Text(0.33636363636363636, 0.175, 'gini = 0.0\\nsamples = 1\\nvalue = [0, 0, 0, 0, 1]'),\n",
              " Text(0.34545454545454546, 0.375, 'X[3] <= 6.2\\ngini = 0.49\\nsamples = 7\\nvalue = [0, 0, 3, 0, 4]'),\n",
              " Text(0.3409090909090909, 0.325, 'X[4] <= 9.05\\ngini = 0.375\\nsamples = 4\\nvalue = [0, 0, 3, 0, 1]'),\n",
              " Text(0.33636363636363636, 0.275, 'gini = 0.0\\nsamples = 3\\nvalue = [0, 0, 3, 0, 0]'),\n",
              " Text(0.34545454545454546, 0.275, 'gini = 0.0\\nsamples = 1\\nvalue = [0, 0, 0, 0, 1]'),\n",
              " Text(0.35, 0.325, 'gini = 0.0\\nsamples = 3\\nvalue = [0, 0, 0, 0, 3]'),\n",
              " Text(0.3931818181818182, 0.425, 'X[1] <= 13.6\\ngini = 0.509\\nsamples = 30\\nvalue = [4, 5, 1, 0, 20]'),\n",
              " Text(0.36818181818181817, 0.375, 'X[3] <= 4.1\\ngini = 0.719\\nsamples = 8\\nvalue = [2, 2, 1, 0, 3]'),\n",
              " Text(0.35909090909090907, 0.325, 'X[1] <= 13.05\\ngini = 0.625\\nsamples = 4\\nvalue = [0, 2, 1, 0, 1]'),\n",
              " Text(0.35454545454545455, 0.275, 'X[2] <= 3.05\\ngini = 0.444\\nsamples = 3\\nvalue = [0, 2, 0, 0, 1]'),\n",
              " Text(0.35, 0.225, 'gini = 0.0\\nsamples = 1\\nvalue = [0, 1, 0, 0, 0]'),\n",
              " Text(0.35909090909090907, 0.225, 'X[4] <= 9.3\\ngini = 0.5\\nsamples = 2\\nvalue = [0, 1, 0, 0, 1]'),\n",
              " Text(0.35454545454545455, 0.175, 'gini = 0.0\\nsamples = 1\\nvalue = [0, 0, 0, 0, 1]'),\n",
              " Text(0.36363636363636365, 0.175, 'gini = 0.0\\nsamples = 1\\nvalue = [0, 1, 0, 0, 0]'),\n",
              " Text(0.36363636363636365, 0.275, 'gini = 0.0\\nsamples = 1\\nvalue = [0, 0, 1, 0, 0]'),\n",
              " Text(0.37727272727272726, 0.325, 'X[2] <= 5.55\\ngini = 0.5\\nsamples = 4\\nvalue = [2, 0, 0, 0, 2]'),\n",
              " Text(0.37272727272727274, 0.275, 'gini = 0.0\\nsamples = 1\\nvalue = [1, 0, 0, 0, 0]'),\n",
              " Text(0.38181818181818183, 0.275, 'X[3] <= 4.5\\ngini = 0.444\\nsamples = 3\\nvalue = [1, 0, 0, 0, 2]'),\n",
              " Text(0.37727272727272726, 0.225, 'gini = 0.0\\nsamples = 1\\nvalue = [1, 0, 0, 0, 0]'),\n",
              " Text(0.38636363636363635, 0.225, 'gini = 0.0\\nsamples = 2\\nvalue = [0, 0, 0, 0, 2]'),\n",
              " Text(0.41818181818181815, 0.375, 'X[3] <= 6.2\\ngini = 0.376\\nsamples = 22\\nvalue = [2, 3, 0, 0, 17]'),\n",
              " Text(0.41363636363636364, 0.325, 'X[3] <= 2.75\\ngini = 0.327\\nsamples = 21\\nvalue = [2, 2, 0, 0, 17]'),\n",
              " Text(0.4, 0.275, 'X[1] <= 15.0\\ngini = 0.48\\nsamples = 5\\nvalue = [0, 2, 0, 0, 3]'),\n",
              " Text(0.39545454545454545, 0.225, 'gini = 0.0\\nsamples = 2\\nvalue = [0, 0, 0, 0, 2]'),\n",
              " Text(0.40454545454545454, 0.225, 'X[4] <= 10.275\\ngini = 0.444\\nsamples = 3\\nvalue = [0, 2, 0, 0, 1]'),\n",
              " Text(0.4, 0.175, 'gini = 0.0\\nsamples = 1\\nvalue = [0, 0, 0, 0, 1]'),\n",
              " Text(0.4090909090909091, 0.175, 'gini = 0.0\\nsamples = 2\\nvalue = [0, 2, 0, 0, 0]'),\n",
              " Text(0.42727272727272725, 0.275, 'X[4] <= 9.725\\ngini = 0.219\\nsamples = 16\\nvalue = [2, 0, 0, 0, 14]'),\n",
              " Text(0.42272727272727273, 0.225, 'X[2] <= 3.6\\ngini = 0.408\\nsamples = 7\\nvalue = [2, 0, 0, 0, 5]'),\n",
              " Text(0.41818181818181815, 0.175, 'gini = 0.0\\nsamples = 5\\nvalue = [0, 0, 0, 0, 5]'),\n",
              " Text(0.42727272727272725, 0.175, 'gini = 0.0\\nsamples = 2\\nvalue = [2, 0, 0, 0, 0]'),\n",
              " Text(0.4318181818181818, 0.225, 'gini = 0.0\\nsamples = 9\\nvalue = [0, 0, 0, 0, 9]'),\n",
              " Text(0.42272727272727273, 0.325, 'gini = 0.0\\nsamples = 1\\nvalue = [0, 1, 0, 0, 0]'),\n",
              " Text(0.45681818181818185, 0.475, 'X[1] <= 15.3\\ngini = 0.654\\nsamples = 23\\nvalue = [1, 5, 6, 0, 11]'),\n",
              " Text(0.44545454545454544, 0.425, 'X[4] <= 11.8\\ngini = 0.375\\nsamples = 4\\nvalue = [0, 3, 1, 0, 0]'),\n",
              " Text(0.4409090909090909, 0.375, 'gini = 0.0\\nsamples = 1\\nvalue = [0, 0, 1, 0, 0]'),\n",
              " Text(0.45, 0.375, 'gini = 0.0\\nsamples = 3\\nvalue = [0, 3, 0, 0, 0]'),\n",
              " Text(0.4681818181818182, 0.425, 'X[3] <= 3.5\\ngini = 0.582\\nsamples = 19\\nvalue = [1, 2, 5, 0, 11]'),\n",
              " Text(0.4590909090909091, 0.375, 'X[3] <= 3.05\\ngini = 0.694\\nsamples = 11\\nvalue = [1, 2, 4, 0, 4]'),\n",
              " Text(0.45454545454545453, 0.325, 'X[4] <= 12.225\\ngini = 0.656\\nsamples = 8\\nvalue = [1, 2, 1, 0, 4]'),\n",
              " Text(0.44545454545454544, 0.275, 'X[1] <= 16.4\\ngini = 0.667\\nsamples = 3\\nvalue = [1, 1, 1, 0, 0]'),\n",
              " Text(0.4409090909090909, 0.225, 'X[2] <= 7.75\\ngini = 0.5\\nsamples = 2\\nvalue = [1, 0, 1, 0, 0]'),\n",
              " Text(0.43636363636363634, 0.175, 'gini = 0.0\\nsamples = 1\\nvalue = [0, 0, 1, 0, 0]'),\n",
              " Text(0.44545454545454544, 0.175, 'gini = 0.0\\nsamples = 1\\nvalue = [1, 0, 0, 0, 0]'),\n",
              " Text(0.45, 0.225, 'gini = 0.0\\nsamples = 1\\nvalue = [0, 1, 0, 0, 0]'),\n",
              " Text(0.4636363636363636, 0.275, 'X[1] <= 16.15\\ngini = 0.32\\nsamples = 5\\nvalue = [0, 1, 0, 0, 4]'),\n",
              " Text(0.4590909090909091, 0.225, 'X[2] <= 9.45\\ngini = 0.5\\nsamples = 2\\nvalue = [0, 1, 0, 0, 1]'),\n",
              " Text(0.45454545454545453, 0.175, 'gini = 0.0\\nsamples = 1\\nvalue = [0, 0, 0, 0, 1]'),\n",
              " Text(0.4636363636363636, 0.175, 'gini = 0.0\\nsamples = 1\\nvalue = [0, 1, 0, 0, 0]'),\n",
              " Text(0.4681818181818182, 0.225, 'gini = 0.0\\nsamples = 3\\nvalue = [0, 0, 0, 0, 3]'),\n",
              " Text(0.4636363636363636, 0.325, 'gini = 0.0\\nsamples = 3\\nvalue = [0, 0, 3, 0, 0]'),\n",
              " Text(0.4772727272727273, 0.375, 'X[1] <= 16.95\\ngini = 0.219\\nsamples = 8\\nvalue = [0, 0, 1, 0, 7]'),\n",
              " Text(0.4727272727272727, 0.325, 'gini = 0.0\\nsamples = 5\\nvalue = [0, 0, 0, 0, 5]'),\n",
              " Text(0.4818181818181818, 0.325, 'X[2] <= 7.75\\ngini = 0.444\\nsamples = 3\\nvalue = [0, 0, 1, 0, 2]'),\n",
              " Text(0.4772727272727273, 0.275, 'gini = 0.0\\nsamples = 1\\nvalue = [0, 0, 0, 0, 1]'),\n",
              " Text(0.4863636363636364, 0.275, 'X[3] <= 4.15\\ngini = 0.5\\nsamples = 2\\nvalue = [0, 0, 1, 0, 1]'),\n",
              " Text(0.4818181818181818, 0.225, 'gini = 0.0\\nsamples = 1\\nvalue = [0, 0, 0, 0, 1]'),\n",
              " Text(0.4909090909090909, 0.225, 'gini = 0.0\\nsamples = 1\\nvalue = [0, 0, 1, 0, 0]'),\n",
              " Text(0.41818181818181815, 0.525, 'gini = 0.0\\nsamples = 8\\nvalue = [0, 0, 0, 0, 8]'),\n",
              " Text(0.3568181818181818, 0.625, 'gini = 0.0\\nsamples = 1\\nvalue = [1, 0, 0, 0, 0]'),\n",
              " Text(0.6668501420454546, 0.875, 'X[3] <= 2.45\\ngini = 0.287\\nsamples = 403\\nvalue = [20, 32, 13, 0, 338]'),\n",
              " Text(0.5013494318181818, 0.825, 'X[2] <= 9.15\\ngini = 0.414\\nsamples = 142\\nvalue = [11, 21, 4, 0, 106]'),\n",
              " Text(0.4968039772727273, 0.775, 'gini = 0.0\\nsamples = 18\\nvalue = [0, 0, 0, 0, 18]'),\n",
              " Text(0.5058948863636363, 0.775, 'X[3] <= 1.55\\ngini = 0.459\\nsamples = 124\\nvalue = [11, 21, 4, 0, 88]'),\n",
              " Text(0.4681818181818182, 0.725, 'X[4] <= 16.25\\ngini = 0.569\\nsamples = 12\\nvalue = [0, 6, 1, 0, 5]'),\n",
              " Text(0.4636363636363636, 0.675, 'gini = 0.0\\nsamples = 4\\nvalue = [0, 4, 0, 0, 0]'),\n",
              " Text(0.4727272727272727, 0.675, 'X[3] <= 1.2\\ngini = 0.531\\nsamples = 8\\nvalue = [0, 2, 1, 0, 5]'),\n",
              " Text(0.4636363636363636, 0.625, 'X[4] <= 18.875\\ngini = 0.5\\nsamples = 2\\nvalue = [0, 0, 1, 0, 1]'),\n",
              " Text(0.4590909090909091, 0.575, 'gini = 0.0\\nsamples = 1\\nvalue = [0, 0, 1, 0, 0]'),\n",
              " Text(0.4681818181818182, 0.575, 'gini = 0.0\\nsamples = 1\\nvalue = [0, 0, 0, 0, 1]'),\n",
              " Text(0.4818181818181818, 0.625, 'X[2] <= 14.15\\ngini = 0.444\\nsamples = 6\\nvalue = [0, 2, 0, 0, 4]'),\n",
              " Text(0.4772727272727273, 0.575, 'X[4] <= 18.2\\ngini = 0.32\\nsamples = 5\\nvalue = [0, 1, 0, 0, 4]'),\n",
              " Text(0.4727272727272727, 0.525, 'X[1] <= 23.35\\ngini = 0.5\\nsamples = 2\\nvalue = [0, 1, 0, 0, 1]'),\n",
              " Text(0.4681818181818182, 0.475, 'gini = 0.0\\nsamples = 1\\nvalue = [0, 0, 0, 0, 1]'),\n",
              " Text(0.4772727272727273, 0.475, 'gini = 0.0\\nsamples = 1\\nvalue = [0, 1, 0, 0, 0]'),\n",
              " Text(0.4818181818181818, 0.525, 'gini = 0.0\\nsamples = 3\\nvalue = [0, 0, 0, 0, 3]'),\n",
              " Text(0.4863636363636364, 0.575, 'gini = 0.0\\nsamples = 1\\nvalue = [0, 1, 0, 0, 0]'),\n",
              " Text(0.5436079545454545, 0.725, 'X[4] <= 14.425\\ngini = 0.423\\nsamples = 112\\nvalue = [11, 15, 3, 0, 83]'),\n",
              " Text(0.4954545454545455, 0.675, 'X[1] <= 18.6\\ngini = 0.625\\nsamples = 4\\nvalue = [2, 1, 0, 0, 1]'),\n",
              " Text(0.4909090909090909, 0.625, 'gini = 0.0\\nsamples = 1\\nvalue = [0, 1, 0, 0, 0]'),\n",
              " Text(0.5, 0.625, 'X[3] <= 1.75\\ngini = 0.444\\nsamples = 3\\nvalue = [2, 0, 0, 0, 1]'),\n",
              " Text(0.4954545454545455, 0.575, 'gini = 0.0\\nsamples = 1\\nvalue = [1, 0, 0, 0, 0]'),\n",
              " Text(0.5045454545454545, 0.575, 'X[3] <= 1.9\\ngini = 0.5\\nsamples = 2\\nvalue = [1, 0, 0, 0, 1]'),\n",
              " Text(0.5, 0.525, 'gini = 0.0\\nsamples = 1\\nvalue = [0, 0, 0, 0, 1]'),\n",
              " Text(0.509090909090909, 0.525, 'gini = 0.0\\nsamples = 1\\nvalue = [1, 0, 0, 0, 0]'),\n",
              " Text(0.5917613636363637, 0.675, 'X[4] <= 20.975\\ngini = 0.399\\nsamples = 108\\nvalue = [9, 14, 3, 0, 82]'),\n",
              " Text(0.5471590909090909, 0.625, 'X[2] <= 11.95\\ngini = 0.461\\nsamples = 79\\nvalue = [7, 13, 3, 0, 56]'),\n",
              " Text(0.5227272727272727, 0.575, 'X[4] <= 19.325\\ngini = 0.318\\nsamples = 33\\nvalue = [3, 2, 1, 0, 27]'),\n",
              " Text(0.5181818181818182, 0.525, 'X[1] <= 22.5\\ngini = 0.277\\nsamples = 32\\nvalue = [3, 1, 1, 0, 27]'),\n",
              " Text(0.5136363636363637, 0.475, 'gini = 0.0\\nsamples = 17\\nvalue = [0, 0, 0, 0, 17]'),\n",
              " Text(0.5227272727272727, 0.475, 'X[1] <= 24.15\\ngini = 0.507\\nsamples = 15\\nvalue = [3, 1, 1, 0, 10]'),\n",
              " Text(0.5181818181818182, 0.425, 'X[4] <= 17.35\\ngini = 0.694\\nsamples = 7\\nvalue = [3, 1, 1, 0, 2]'),\n",
              " Text(0.5136363636363637, 0.375, 'X[3] <= 2.0\\ngini = 0.72\\nsamples = 5\\nvalue = [1, 1, 1, 0, 2]'),\n",
              " Text(0.509090909090909, 0.325, 'X[2] <= 10.3\\ngini = 0.667\\nsamples = 3\\nvalue = [1, 1, 1, 0, 0]'),\n",
              " Text(0.5045454545454545, 0.275, 'X[4] <= 16.525\\ngini = 0.5\\nsamples = 2\\nvalue = [1, 0, 1, 0, 0]'),\n",
              " Text(0.5, 0.225, 'gini = 0.0\\nsamples = 1\\nvalue = [1, 0, 0, 0, 0]'),\n",
              " Text(0.509090909090909, 0.225, 'gini = 0.0\\nsamples = 1\\nvalue = [0, 0, 1, 0, 0]'),\n",
              " Text(0.5136363636363637, 0.275, 'gini = 0.0\\nsamples = 1\\nvalue = [0, 1, 0, 0, 0]'),\n",
              " Text(0.5181818181818182, 0.325, 'gini = 0.0\\nsamples = 2\\nvalue = [0, 0, 0, 0, 2]'),\n",
              " Text(0.5227272727272727, 0.375, 'gini = 0.0\\nsamples = 2\\nvalue = [2, 0, 0, 0, 0]'),\n",
              " Text(0.5272727272727272, 0.425, 'gini = 0.0\\nsamples = 8\\nvalue = [0, 0, 0, 0, 8]'),\n",
              " Text(0.5272727272727272, 0.525, 'gini = 0.0\\nsamples = 1\\nvalue = [0, 1, 0, 0, 0]'),\n",
              " Text(0.571590909090909, 0.575, 'X[2] <= 13.05\\ngini = 0.536\\nsamples = 46\\nvalue = [4, 11, 2, 0, 29]'),\n",
              " Text(0.5409090909090909, 0.525, 'X[3] <= 2.05\\ngini = 0.667\\nsamples = 9\\nvalue = [1, 4, 1, 0, 3]'),\n",
              " Text(0.5363636363636364, 0.475, 'gini = 0.0\\nsamples = 3\\nvalue = [0, 3, 0, 0, 0]'),\n",
              " Text(0.5454545454545454, 0.475, 'X[2] <= 12.5\\ngini = 0.667\\nsamples = 6\\nvalue = [1, 1, 1, 0, 3]'),\n",
              " Text(0.5363636363636364, 0.425, 'X[4] <= 16.925\\ngini = 0.375\\nsamples = 4\\nvalue = [0, 0, 1, 0, 3]'),\n",
              " Text(0.5318181818181819, 0.375, 'gini = 0.0\\nsamples = 1\\nvalue = [0, 0, 1, 0, 0]'),\n",
              " Text(0.5409090909090909, 0.375, 'gini = 0.0\\nsamples = 3\\nvalue = [0, 0, 0, 0, 3]'),\n",
              " Text(0.5545454545454546, 0.425, 'X[4] <= 20.025\\ngini = 0.5\\nsamples = 2\\nvalue = [1, 1, 0, 0, 0]'),\n",
              " Text(0.55, 0.375, 'gini = 0.0\\nsamples = 1\\nvalue = [1, 0, 0, 0, 0]'),\n",
              " Text(0.5590909090909091, 0.375, 'gini = 0.0\\nsamples = 1\\nvalue = [0, 1, 0, 0, 0]'),\n",
              " Text(0.6022727272727273, 0.525, 'X[3] <= 2.35\\ngini = 0.463\\nsamples = 37\\nvalue = [3, 7, 1, 0, 26]'),\n",
              " Text(0.5818181818181818, 0.475, 'X[3] <= 1.85\\ngini = 0.391\\nsamples = 30\\nvalue = [3, 3, 1, 0, 23]'),\n",
              " Text(0.5727272727272728, 0.425, 'X[1] <= 26.7\\ngini = 0.48\\nsamples = 5\\nvalue = [2, 0, 0, 0, 3]'),\n",
              " Text(0.5681818181818182, 0.375, 'X[3] <= 1.75\\ngini = 0.375\\nsamples = 4\\nvalue = [1, 0, 0, 0, 3]'),\n",
              " Text(0.5636363636363636, 0.325, 'X[4] <= 19.025\\ngini = 0.5\\nsamples = 2\\nvalue = [1, 0, 0, 0, 1]'),\n",
              " Text(0.5590909090909091, 0.275, 'gini = 0.0\\nsamples = 1\\nvalue = [1, 0, 0, 0, 0]'),\n",
              " Text(0.5681818181818182, 0.275, 'gini = 0.0\\nsamples = 1\\nvalue = [0, 0, 0, 0, 1]'),\n",
              " Text(0.5727272727272728, 0.325, 'gini = 0.0\\nsamples = 2\\nvalue = [0, 0, 0, 0, 2]'),\n",
              " Text(0.5772727272727273, 0.375, 'gini = 0.0\\nsamples = 1\\nvalue = [1, 0, 0, 0, 0]'),\n",
              " Text(0.5909090909090909, 0.425, 'X[3] <= 2.15\\ngini = 0.342\\nsamples = 25\\nvalue = [1, 3, 1, 0, 20]'),\n",
              " Text(0.5863636363636363, 0.375, 'gini = 0.0\\nsamples = 10\\nvalue = [0, 0, 0, 0, 10]'),\n",
              " Text(0.5954545454545455, 0.375, 'X[3] <= 2.25\\ngini = 0.507\\nsamples = 15\\nvalue = [1, 3, 1, 0, 10]'),\n",
              " Text(0.5909090909090909, 0.325, 'X[1] <= 24.7\\ngini = 0.64\\nsamples = 10\\nvalue = [1, 3, 1, 0, 5]'),\n",
              " Text(0.5772727272727273, 0.275, 'X[4] <= 17.075\\ngini = 0.64\\nsamples = 5\\nvalue = [1, 2, 0, 0, 2]'),\n",
              " Text(0.5727272727272728, 0.225, 'gini = 0.0\\nsamples = 1\\nvalue = [0, 0, 0, 0, 1]'),\n",
              " Text(0.5818181818181818, 0.225, 'X[4] <= 18.2\\ngini = 0.625\\nsamples = 4\\nvalue = [1, 2, 0, 0, 1]'),\n",
              " Text(0.5772727272727273, 0.175, 'gini = 0.0\\nsamples = 1\\nvalue = [0, 1, 0, 0, 0]'),\n",
              " Text(0.5863636363636363, 0.175, 'X[1] <= 24.15\\ngini = 0.667\\nsamples = 3\\nvalue = [1, 1, 0, 0, 1]'),\n",
              " Text(0.5818181818181818, 0.125, 'gini = 0.5\\nsamples = 2\\nvalue = [1, 0, 0, 0, 1]'),\n",
              " Text(0.5909090909090909, 0.125, 'gini = 0.0\\nsamples = 1\\nvalue = [0, 1, 0, 0, 0]'),\n",
              " Text(0.6045454545454545, 0.275, 'X[4] <= 19.85\\ngini = 0.56\\nsamples = 5\\nvalue = [0, 1, 1, 0, 3]'),\n",
              " Text(0.6, 0.225, 'gini = 0.0\\nsamples = 2\\nvalue = [0, 0, 0, 0, 2]'),\n",
              " Text(0.6090909090909091, 0.225, 'X[2] <= 15.3\\ngini = 0.667\\nsamples = 3\\nvalue = [0, 1, 1, 0, 1]'),\n",
              " Text(0.6045454545454545, 0.175, 'X[4] <= 20.275\\ngini = 0.5\\nsamples = 2\\nvalue = [0, 1, 1, 0, 0]'),\n",
              " Text(0.6, 0.125, 'gini = 0.0\\nsamples = 1\\nvalue = [0, 0, 1, 0, 0]'),\n",
              " Text(0.6090909090909091, 0.125, 'gini = 0.0\\nsamples = 1\\nvalue = [0, 1, 0, 0, 0]'),\n",
              " Text(0.6136363636363636, 0.175, 'gini = 0.0\\nsamples = 1\\nvalue = [0, 0, 0, 0, 1]'),\n",
              " Text(0.6, 0.325, 'gini = 0.0\\nsamples = 5\\nvalue = [0, 0, 0, 0, 5]'),\n",
              " Text(0.6227272727272727, 0.475, 'X[1] <= 26.65\\ngini = 0.49\\nsamples = 7\\nvalue = [0, 4, 0, 0, 3]'),\n",
              " Text(0.6181818181818182, 0.425, 'X[1] <= 24.45\\ngini = 0.444\\nsamples = 6\\nvalue = [0, 4, 0, 0, 2]'),\n",
              " Text(0.6136363636363636, 0.375, 'X[1] <= 21.95\\ngini = 0.444\\nsamples = 3\\nvalue = [0, 1, 0, 0, 2]'),\n",
              " Text(0.6090909090909091, 0.325, 'gini = 0.0\\nsamples = 1\\nvalue = [0, 1, 0, 0, 0]'),\n",
              " Text(0.6181818181818182, 0.325, 'gini = 0.0\\nsamples = 2\\nvalue = [0, 0, 0, 0, 2]'),\n",
              " Text(0.6227272727272727, 0.375, 'gini = 0.0\\nsamples = 3\\nvalue = [0, 3, 0, 0, 0]'),\n",
              " Text(0.6272727272727273, 0.425, 'gini = 0.0\\nsamples = 1\\nvalue = [0, 0, 0, 0, 1]'),\n",
              " Text(0.6363636363636364, 0.625, 'X[4] <= 22.075\\ngini = 0.19\\nsamples = 29\\nvalue = [2, 1, 0, 0, 26]'),\n",
              " Text(0.6318181818181818, 0.575, 'gini = 0.0\\nsamples = 12\\nvalue = [0, 0, 0, 0, 12]'),\n",
              " Text(0.6409090909090909, 0.575, 'X[4] <= 22.35\\ngini = 0.304\\nsamples = 17\\nvalue = [2, 1, 0, 0, 14]'),\n",
              " Text(0.6363636363636364, 0.525, 'gini = 0.0\\nsamples = 1\\nvalue = [1, 0, 0, 0, 0]'),\n",
              " Text(0.6454545454545455, 0.525, 'X[4] <= 24.025\\ngini = 0.227\\nsamples = 16\\nvalue = [1, 1, 0, 0, 14]'),\n",
              " Text(0.6409090909090909, 0.475, 'X[4] <= 23.625\\ngini = 0.37\\nsamples = 9\\nvalue = [1, 1, 0, 0, 7]'),\n",
              " Text(0.6363636363636364, 0.425, 'X[4] <= 22.625\\ngini = 0.219\\nsamples = 8\\nvalue = [0, 1, 0, 0, 7]'),\n",
              " Text(0.6318181818181818, 0.375, 'X[3] <= 2.15\\ngini = 0.375\\nsamples = 4\\nvalue = [0, 1, 0, 0, 3]'),\n",
              " Text(0.6272727272727273, 0.325, 'gini = 0.0\\nsamples = 3\\nvalue = [0, 0, 0, 0, 3]'),\n",
              " Text(0.6363636363636364, 0.325, 'gini = 0.0\\nsamples = 1\\nvalue = [0, 1, 0, 0, 0]'),\n",
              " Text(0.6409090909090909, 0.375, 'gini = 0.0\\nsamples = 4\\nvalue = [0, 0, 0, 0, 4]'),\n",
              " Text(0.6454545454545455, 0.425, 'gini = 0.0\\nsamples = 1\\nvalue = [1, 0, 0, 0, 0]'),\n",
              " Text(0.65, 0.475, 'gini = 0.0\\nsamples = 7\\nvalue = [0, 0, 0, 0, 7]'),\n",
              " Text(0.8323508522727273, 0.825, 'X[1] <= 26.4\\ngini = 0.206\\nsamples = 261\\nvalue = [9, 11, 9, 0, 232]'),\n",
              " Text(0.7806107954545455, 0.775, 'X[4] <= 19.3\\ngini = 0.254\\nsamples = 178\\nvalue = [7, 11, 7, 0, 153]'),\n",
              " Text(0.7248579545454545, 0.725, 'X[1] <= 19.15\\ngini = 0.226\\nsamples = 154\\nvalue = [6, 6, 7, 0, 135]'),\n",
              " Text(0.6772727272727272, 0.675, 'X[2] <= 12.5\\ngini = 0.304\\nsamples = 34\\nvalue = [2, 0, 4, 0, 28]'),\n",
              " Text(0.6681818181818182, 0.625, 'X[3] <= 2.55\\ngini = 0.225\\nsamples = 32\\nvalue = [1, 0, 3, 0, 28]'),\n",
              " Text(0.6636363636363637, 0.575, 'gini = 0.0\\nsamples = 1\\nvalue = [0, 0, 1, 0, 0]'),\n",
              " Text(0.6727272727272727, 0.575, 'X[3] <= 2.65\\ngini = 0.179\\nsamples = 31\\nvalue = [1, 0, 2, 0, 28]'),\n",
              " Text(0.6636363636363637, 0.525, 'X[1] <= 18.05\\ngini = 0.444\\nsamples = 3\\nvalue = [1, 0, 0, 0, 2]'),\n",
              " Text(0.6590909090909091, 0.475, 'gini = 0.0\\nsamples = 2\\nvalue = [0, 0, 0, 0, 2]'),\n",
              " Text(0.6681818181818182, 0.475, 'gini = 0.0\\nsamples = 1\\nvalue = [1, 0, 0, 0, 0]'),\n",
              " Text(0.6818181818181818, 0.525, 'X[3] <= 3.5\\ngini = 0.133\\nsamples = 28\\nvalue = [0, 0, 2, 0, 26]'),\n",
              " Text(0.6772727272727272, 0.475, 'X[3] <= 3.15\\ngini = 0.219\\nsamples = 16\\nvalue = [0, 0, 2, 0, 14]'),\n",
              " Text(0.6727272727272727, 0.425, 'gini = 0.0\\nsamples = 11\\nvalue = [0, 0, 0, 0, 11]'),\n",
              " Text(0.6818181818181818, 0.425, 'X[4] <= 13.475\\ngini = 0.48\\nsamples = 5\\nvalue = [0, 0, 2, 0, 3]'),\n",
              " Text(0.6772727272727272, 0.375, 'gini = 0.0\\nsamples = 1\\nvalue = [0, 0, 1, 0, 0]'),\n",
              " Text(0.6863636363636364, 0.375, 'X[1] <= 18.05\\ngini = 0.375\\nsamples = 4\\nvalue = [0, 0, 1, 0, 3]'),\n",
              " Text(0.6818181818181818, 0.325, 'gini = 0.0\\nsamples = 2\\nvalue = [0, 0, 0, 0, 2]'),\n",
              " Text(0.6909090909090909, 0.325, 'X[1] <= 18.6\\ngini = 0.5\\nsamples = 2\\nvalue = [0, 0, 1, 0, 1]'),\n",
              " Text(0.6863636363636364, 0.275, 'gini = 0.0\\nsamples = 1\\nvalue = [0, 0, 1, 0, 0]'),\n",
              " Text(0.6954545454545454, 0.275, 'gini = 0.0\\nsamples = 1\\nvalue = [0, 0, 0, 0, 1]'),\n",
              " Text(0.6863636363636364, 0.475, 'gini = 0.0\\nsamples = 12\\nvalue = [0, 0, 0, 0, 12]'),\n",
              " Text(0.6863636363636364, 0.625, 'X[3] <= 3.3\\ngini = 0.5\\nsamples = 2\\nvalue = [1, 0, 1, 0, 0]'),\n",
              " Text(0.6818181818181818, 0.575, 'gini = 0.0\\nsamples = 1\\nvalue = [1, 0, 0, 0, 0]'),\n",
              " Text(0.6909090909090909, 0.575, 'gini = 0.0\\nsamples = 1\\nvalue = [0, 0, 1, 0, 0]'),\n",
              " Text(0.7724431818181818, 0.675, 'X[4] <= 12.95\\ngini = 0.201\\nsamples = 120\\nvalue = [4, 6, 3, 0, 107]'),\n",
              " Text(0.7556818181818182, 0.625, 'X[3] <= 3.5\\ngini = 0.5\\nsamples = 2\\nvalue = [1, 0, 0, 0, 1]'),\n",
              " Text(0.7511363636363636, 0.575, 'gini = 0.0\\nsamples = 1\\nvalue = [0, 0, 0, 0, 1]'),\n",
              " Text(0.7602272727272728, 0.575, 'gini = 0.0\\nsamples = 1\\nvalue = [1, 0, 0, 0, 0]'),\n",
              " Text(0.7892045454545454, 0.625, 'X[2] <= 14.7\\ngini = 0.189\\nsamples = 118\\nvalue = [3, 6, 3, 0, 106]'),\n",
              " Text(0.7693181818181818, 0.575, 'X[4] <= 17.625\\ngini = 0.168\\nsamples = 111\\nvalue = [2, 6, 2, 0, 101]'),\n",
              " Text(0.7522727272727273, 0.525, 'X[1] <= 24.15\\ngini = 0.218\\nsamples = 75\\nvalue = [2, 6, 1, 0, 66]'),\n",
              " Text(0.740909090909091, 0.475, 'X[3] <= 3.5\\ngini = 0.185\\nsamples = 69\\nvalue = [0, 6, 1, 0, 62]'),\n",
              " Text(0.7363636363636363, 0.425, 'X[3] <= 3.35\\ngini = 0.259\\nsamples = 47\\nvalue = [0, 6, 1, 0, 40]'),\n",
              " Text(0.7272727272727273, 0.375, 'X[2] <= 12.5\\ngini = 0.236\\nsamples = 45\\nvalue = [0, 5, 1, 0, 39]'),\n",
              " Text(0.7227272727272728, 0.325, 'X[4] <= 16.125\\ngini = 0.285\\nsamples = 36\\nvalue = [0, 5, 1, 0, 30]'),\n",
              " Text(0.7045454545454546, 0.275, 'X[1] <= 21.65\\ngini = 0.169\\nsamples = 22\\nvalue = [0, 1, 1, 0, 20]'),\n",
              " Text(0.6954545454545454, 0.225, 'X[2] <= 9.7\\ngini = 0.105\\nsamples = 18\\nvalue = [0, 1, 0, 0, 17]'),\n",
              " Text(0.6909090909090909, 0.175, 'X[1] <= 20.3\\ngini = 0.219\\nsamples = 8\\nvalue = [0, 1, 0, 0, 7]'),\n",
              " Text(0.6863636363636364, 0.125, 'gini = 0.0\\nsamples = 1\\nvalue = [0, 1, 0, 0, 0]'),\n",
              " Text(0.6954545454545454, 0.125, 'gini = 0.0\\nsamples = 7\\nvalue = [0, 0, 0, 0, 7]'),\n",
              " Text(0.7, 0.175, 'gini = 0.0\\nsamples = 10\\nvalue = [0, 0, 0, 0, 10]'),\n",
              " Text(0.7136363636363636, 0.225, 'X[2] <= 8.6\\ngini = 0.375\\nsamples = 4\\nvalue = [0, 0, 1, 0, 3]'),\n",
              " Text(0.7090909090909091, 0.175, 'gini = 0.0\\nsamples = 2\\nvalue = [0, 0, 0, 0, 2]'),\n",
              " Text(0.7181818181818181, 0.175, 'X[4] <= 15.825\\ngini = 0.5\\nsamples = 2\\nvalue = [0, 0, 1, 0, 1]'),\n",
              " Text(0.7136363636363636, 0.125, 'gini = 0.0\\nsamples = 1\\nvalue = [0, 0, 1, 0, 0]'),\n",
              " Text(0.7227272727272728, 0.125, 'gini = 0.0\\nsamples = 1\\nvalue = [0, 0, 0, 0, 1]'),\n",
              " Text(0.740909090909091, 0.275, 'X[1] <= 21.15\\ngini = 0.408\\nsamples = 14\\nvalue = [0, 4, 0, 0, 10]'),\n",
              " Text(0.7363636363636363, 0.225, 'gini = 0.0\\nsamples = 1\\nvalue = [0, 1, 0, 0, 0]'),\n",
              " Text(0.7454545454545455, 0.225, 'X[1] <= 22.5\\ngini = 0.355\\nsamples = 13\\nvalue = [0, 3, 0, 0, 10]'),\n",
              " Text(0.7363636363636363, 0.175, 'X[3] <= 2.8\\ngini = 0.48\\nsamples = 5\\nvalue = [0, 2, 0, 0, 3]'),\n",
              " Text(0.7318181818181818, 0.125, 'X[4] <= 16.675\\ngini = 0.444\\nsamples = 3\\nvalue = [0, 2, 0, 0, 1]'),\n",
              " Text(0.7272727272727273, 0.075, 'gini = 0.0\\nsamples = 1\\nvalue = [0, 1, 0, 0, 0]'),\n",
              " Text(0.7363636363636363, 0.075, 'X[3] <= 2.65\\ngini = 0.5\\nsamples = 2\\nvalue = [0, 1, 0, 0, 1]'),\n",
              " Text(0.7318181818181818, 0.025, 'gini = 0.0\\nsamples = 1\\nvalue = [0, 0, 0, 0, 1]'),\n",
              " Text(0.740909090909091, 0.025, 'gini = 0.0\\nsamples = 1\\nvalue = [0, 1, 0, 0, 0]'),\n",
              " Text(0.740909090909091, 0.125, 'gini = 0.0\\nsamples = 2\\nvalue = [0, 0, 0, 0, 2]'),\n",
              " Text(0.7545454545454545, 0.175, 'X[3] <= 3.05\\ngini = 0.219\\nsamples = 8\\nvalue = [0, 1, 0, 0, 7]'),\n",
              " Text(0.75, 0.125, 'gini = 0.0\\nsamples = 6\\nvalue = [0, 0, 0, 0, 6]'),\n",
              " Text(0.759090909090909, 0.125, 'X[3] <= 3.15\\ngini = 0.5\\nsamples = 2\\nvalue = [0, 1, 0, 0, 1]'),\n",
              " Text(0.7545454545454545, 0.075, 'gini = 0.0\\nsamples = 1\\nvalue = [0, 1, 0, 0, 0]'),\n",
              " Text(0.7636363636363637, 0.075, 'gini = 0.0\\nsamples = 1\\nvalue = [0, 0, 0, 0, 1]'),\n",
              " Text(0.7318181818181818, 0.325, 'gini = 0.0\\nsamples = 9\\nvalue = [0, 0, 0, 0, 9]'),\n",
              " Text(0.7454545454545455, 0.375, 'X[2] <= 10.8\\ngini = 0.5\\nsamples = 2\\nvalue = [0, 1, 0, 0, 1]'),\n",
              " Text(0.740909090909091, 0.325, 'gini = 0.0\\nsamples = 1\\nvalue = [0, 1, 0, 0, 0]'),\n",
              " Text(0.75, 0.325, 'gini = 0.0\\nsamples = 1\\nvalue = [0, 0, 0, 0, 1]'),\n",
              " Text(0.7454545454545455, 0.425, 'gini = 0.0\\nsamples = 22\\nvalue = [0, 0, 0, 0, 22]'),\n",
              " Text(0.7636363636363637, 0.475, 'X[2] <= 10.3\\ngini = 0.444\\nsamples = 6\\nvalue = [2, 0, 0, 0, 4]'),\n",
              " Text(0.759090909090909, 0.425, 'X[3] <= 3.75\\ngini = 0.32\\nsamples = 5\\nvalue = [1, 0, 0, 0, 4]'),\n",
              " Text(0.7545454545454545, 0.375, 'gini = 0.0\\nsamples = 3\\nvalue = [0, 0, 0, 0, 3]'),\n",
              " Text(0.7636363636363637, 0.375, 'X[4] <= 17.2\\ngini = 0.5\\nsamples = 2\\nvalue = [1, 0, 0, 0, 1]'),\n",
              " Text(0.759090909090909, 0.325, 'gini = 0.0\\nsamples = 1\\nvalue = [1, 0, 0, 0, 0]'),\n",
              " Text(0.7681818181818182, 0.325, 'gini = 0.0\\nsamples = 1\\nvalue = [0, 0, 0, 0, 1]'),\n",
              " Text(0.7681818181818182, 0.425, 'gini = 0.0\\nsamples = 1\\nvalue = [1, 0, 0, 0, 0]'),\n",
              " Text(0.7863636363636364, 0.525, 'X[1] <= 23.6\\ngini = 0.054\\nsamples = 36\\nvalue = [0, 0, 1, 0, 35]'),\n",
              " Text(0.7818181818181819, 0.475, 'X[4] <= 18.175\\ngini = 0.142\\nsamples = 13\\nvalue = [0, 0, 1, 0, 12]'),\n",
              " Text(0.7772727272727272, 0.425, 'gini = 0.0\\nsamples = 10\\nvalue = [0, 0, 0, 0, 10]'),\n",
              " Text(0.7863636363636364, 0.425, 'X[2] <= 13.6\\ngini = 0.444\\nsamples = 3\\nvalue = [0, 0, 1, 0, 2]'),\n",
              " Text(0.7818181818181819, 0.375, 'gini = 0.0\\nsamples = 1\\nvalue = [0, 0, 1, 0, 0]'),\n",
              " Text(0.7909090909090909, 0.375, 'gini = 0.0\\nsamples = 2\\nvalue = [0, 0, 0, 0, 2]'),\n",
              " Text(0.7909090909090909, 0.475, 'gini = 0.0\\nsamples = 23\\nvalue = [0, 0, 0, 0, 23]'),\n",
              " Text(0.8090909090909091, 0.575, 'X[1] <= 23.05\\ngini = 0.449\\nsamples = 7\\nvalue = [1, 0, 1, 0, 5]'),\n",
              " Text(0.8045454545454546, 0.525, 'X[4] <= 18.2\\ngini = 0.278\\nsamples = 6\\nvalue = [0, 0, 1, 0, 5]'),\n",
              " Text(0.8, 0.475, 'gini = 0.0\\nsamples = 1\\nvalue = [0, 0, 1, 0, 0]'),\n",
              " Text(0.8090909090909091, 0.475, 'gini = 0.0\\nsamples = 5\\nvalue = [0, 0, 0, 0, 5]'),\n",
              " Text(0.8136363636363636, 0.525, 'gini = 0.0\\nsamples = 1\\nvalue = [1, 0, 0, 0, 0]'),\n",
              " Text(0.8363636363636363, 0.725, 'X[3] <= 4.25\\ngini = 0.392\\nsamples = 24\\nvalue = [1, 5, 0, 0, 18]'),\n",
              " Text(0.8318181818181818, 0.675, 'X[3] <= 2.65\\ngini = 0.31\\nsamples = 22\\nvalue = [1, 3, 0, 0, 18]'),\n",
              " Text(0.8227272727272728, 0.625, 'X[1] <= 25.0\\ngini = 0.5\\nsamples = 4\\nvalue = [0, 2, 0, 0, 2]'),\n",
              " Text(0.8181818181818182, 0.575, 'gini = 0.0\\nsamples = 1\\nvalue = [0, 0, 0, 0, 1]'),\n",
              " Text(0.8272727272727273, 0.575, 'X[2] <= 13.05\\ngini = 0.444\\nsamples = 3\\nvalue = [0, 2, 0, 0, 1]'),\n",
              " Text(0.8227272727272728, 0.525, 'gini = 0.0\\nsamples = 1\\nvalue = [0, 0, 0, 0, 1]'),\n",
              " Text(0.8318181818181818, 0.525, 'gini = 0.0\\nsamples = 2\\nvalue = [0, 2, 0, 0, 0]'),\n",
              " Text(0.8409090909090909, 0.625, 'X[4] <= 19.425\\ngini = 0.204\\nsamples = 18\\nvalue = [1, 1, 0, 0, 16]'),\n",
              " Text(0.8363636363636363, 0.575, 'gini = 0.0\\nsamples = 1\\nvalue = [1, 0, 0, 0, 0]'),\n",
              " Text(0.8454545454545455, 0.575, 'X[3] <= 3.5\\ngini = 0.111\\nsamples = 17\\nvalue = [0, 1, 0, 0, 16]'),\n",
              " Text(0.8409090909090909, 0.525, 'gini = 0.0\\nsamples = 13\\nvalue = [0, 0, 0, 0, 13]'),\n",
              " Text(0.85, 0.525, 'X[3] <= 3.65\\ngini = 0.375\\nsamples = 4\\nvalue = [0, 1, 0, 0, 3]'),\n",
              " Text(0.8454545454545455, 0.475, 'X[2] <= 13.85\\ngini = 0.5\\nsamples = 2\\nvalue = [0, 1, 0, 0, 1]'),\n",
              " Text(0.8409090909090909, 0.425, 'gini = 0.0\\nsamples = 1\\nvalue = [0, 0, 0, 0, 1]'),\n",
              " Text(0.85, 0.425, 'gini = 0.0\\nsamples = 1\\nvalue = [0, 1, 0, 0, 0]'),\n",
              " Text(0.8545454545454545, 0.475, 'gini = 0.0\\nsamples = 2\\nvalue = [0, 0, 0, 0, 2]'),\n",
              " Text(0.8409090909090909, 0.675, 'gini = 0.0\\nsamples = 2\\nvalue = [0, 2, 0, 0, 0]'),\n",
              " Text(0.884090909090909, 0.775, 'X[2] <= 15.3\\ngini = 0.093\\nsamples = 83\\nvalue = [2, 0, 2, 0, 79]'),\n",
              " Text(0.8681818181818182, 0.725, 'X[3] <= 2.85\\ngini = 0.037\\nsamples = 53\\nvalue = [0, 0, 1, 0, 52]'),\n",
              " Text(0.8636363636363636, 0.675, 'X[3] <= 2.75\\ngini = 0.111\\nsamples = 17\\nvalue = [0, 0, 1, 0, 16]'),\n",
              " Text(0.8590909090909091, 0.625, 'gini = 0.0\\nsamples = 11\\nvalue = [0, 0, 0, 0, 11]'),\n",
              " Text(0.8681818181818182, 0.625, 'X[4] <= 21.375\\ngini = 0.278\\nsamples = 6\\nvalue = [0, 0, 1, 0, 5]'),\n",
              " Text(0.8636363636363636, 0.575, 'X[1] <= 27.5\\ngini = 0.5\\nsamples = 2\\nvalue = [0, 0, 1, 0, 1]'),\n",
              " Text(0.8590909090909091, 0.525, 'gini = 0.0\\nsamples = 1\\nvalue = [0, 0, 0, 0, 1]'),\n",
              " Text(0.8681818181818182, 0.525, 'gini = 0.0\\nsamples = 1\\nvalue = [0, 0, 1, 0, 0]'),\n",
              " Text(0.8727272727272727, 0.575, 'gini = 0.0\\nsamples = 4\\nvalue = [0, 0, 0, 0, 4]'),\n",
              " Text(0.8727272727272727, 0.675, 'gini = 0.0\\nsamples = 36\\nvalue = [0, 0, 0, 0, 36]'),\n",
              " Text(0.9, 0.725, 'X[4] <= 23.075\\ngini = 0.184\\nsamples = 30\\nvalue = [2, 0, 1, 0, 27]'),\n",
              " Text(0.8954545454545455, 0.675, 'X[1] <= 29.15\\ngini = 0.403\\nsamples = 12\\nvalue = [2, 0, 1, 0, 9]'),\n",
              " Text(0.8863636363636364, 0.625, 'X[3] <= 2.6\\ngini = 0.219\\nsamples = 8\\nvalue = [0, 0, 1, 0, 7]'),\n",
              " Text(0.8818181818181818, 0.575, 'X[4] <= 21.825\\ngini = 0.5\\nsamples = 2\\nvalue = [0, 0, 1, 0, 1]'),\n",
              " Text(0.8772727272727273, 0.525, 'gini = 0.0\\nsamples = 1\\nvalue = [0, 0, 0, 0, 1]'),\n",
              " Text(0.8863636363636364, 0.525, 'gini = 0.0\\nsamples = 1\\nvalue = [0, 0, 1, 0, 0]'),\n",
              " Text(0.8909090909090909, 0.575, 'gini = 0.0\\nsamples = 6\\nvalue = [0, 0, 0, 0, 6]'),\n",
              " Text(0.9045454545454545, 0.625, 'X[3] <= 3.0\\ngini = 0.5\\nsamples = 4\\nvalue = [2, 0, 0, 0, 2]'),\n",
              " Text(0.9, 0.575, 'gini = 0.0\\nsamples = 1\\nvalue = [0, 0, 0, 0, 1]'),\n",
              " Text(0.9090909090909091, 0.575, 'X[1] <= 29.7\\ngini = 0.444\\nsamples = 3\\nvalue = [2, 0, 0, 0, 1]'),\n",
              " Text(0.9045454545454545, 0.525, 'gini = 0.0\\nsamples = 1\\nvalue = [1, 0, 0, 0, 0]'),\n",
              " Text(0.9136363636363637, 0.525, 'X[2] <= 15.85\\ngini = 0.5\\nsamples = 2\\nvalue = [1, 0, 0, 0, 1]'),\n",
              " Text(0.9090909090909091, 0.475, 'gini = 0.0\\nsamples = 1\\nvalue = [0, 0, 0, 0, 1]'),\n",
              " Text(0.9181818181818182, 0.475, 'gini = 0.0\\nsamples = 1\\nvalue = [1, 0, 0, 0, 0]'),\n",
              " Text(0.9045454545454545, 0.675, 'gini = 0.0\\nsamples = 18\\nvalue = [0, 0, 0, 0, 18]'),\n",
              " Text(0.946590909090909, 0.925, 'X[2] <= 0.85\\ngini = 0.08\\nsamples = 500\\nvalue = [0, 0, 479, 21, 0]'),\n",
              " Text(0.9272727272727272, 0.875, 'X[3] <= 3.1\\ngini = 0.473\\nsamples = 26\\nvalue = [0, 0, 10, 16, 0]'),\n",
              " Text(0.9181818181818182, 0.825, 'X[0] <= 10.2\\ngini = 0.375\\nsamples = 12\\nvalue = [0, 0, 9, 3, 0]'),\n",
              " Text(0.9136363636363637, 0.775, 'X[3] <= 2.65\\ngini = 0.18\\nsamples = 10\\nvalue = [0, 0, 9, 1, 0]'),\n",
              " Text(0.9090909090909091, 0.725, 'gini = 0.0\\nsamples = 7\\nvalue = [0, 0, 7, 0, 0]'),\n",
              " Text(0.9181818181818182, 0.725, 'X[2] <= -0.55\\ngini = 0.444\\nsamples = 3\\nvalue = [0, 0, 2, 1, 0]'),\n",
              " Text(0.9136363636363637, 0.675, 'gini = 0.0\\nsamples = 2\\nvalue = [0, 0, 2, 0, 0]'),\n",
              " Text(0.9227272727272727, 0.675, 'gini = 0.0\\nsamples = 1\\nvalue = [0, 0, 0, 1, 0]'),\n",
              " Text(0.9227272727272727, 0.775, 'gini = 0.0\\nsamples = 2\\nvalue = [0, 0, 0, 2, 0]'),\n",
              " Text(0.9363636363636364, 0.825, 'X[0] <= 11.3\\ngini = 0.133\\nsamples = 14\\nvalue = [0, 0, 1, 13, 0]'),\n",
              " Text(0.9318181818181818, 0.775, 'gini = 0.0\\nsamples = 11\\nvalue = [0, 0, 0, 11, 0]'),\n",
              " Text(0.9409090909090909, 0.775, 'X[3] <= 4.35\\ngini = 0.444\\nsamples = 3\\nvalue = [0, 0, 1, 2, 0]'),\n",
              " Text(0.9363636363636364, 0.725, 'gini = 0.0\\nsamples = 1\\nvalue = [0, 0, 1, 0, 0]'),\n",
              " Text(0.9454545454545454, 0.725, 'gini = 0.0\\nsamples = 2\\nvalue = [0, 0, 0, 2, 0]'),\n",
              " Text(0.9659090909090909, 0.875, 'X[4] <= 3.175\\ngini = 0.021\\nsamples = 474\\nvalue = [0, 0, 469, 5, 0]'),\n",
              " Text(0.9545454545454546, 0.825, 'X[0] <= 4.7\\ngini = 0.5\\nsamples = 2\\nvalue = [0, 0, 1, 1, 0]'),\n",
              " Text(0.95, 0.775, 'gini = 0.0\\nsamples = 1\\nvalue = [0, 0, 0, 1, 0]'),\n",
              " Text(0.9590909090909091, 0.775, 'gini = 0.0\\nsamples = 1\\nvalue = [0, 0, 1, 0, 0]'),\n",
              " Text(0.9772727272727273, 0.825, 'X[4] <= 5.125\\ngini = 0.017\\nsamples = 472\\nvalue = [0, 0, 468, 4, 0]'),\n",
              " Text(0.9681818181818181, 0.775, 'X[0] <= 13.25\\ngini = 0.157\\nsamples = 35\\nvalue = [0, 0, 32, 3, 0]'),\n",
              " Text(0.9636363636363636, 0.725, 'gini = 0.0\\nsamples = 31\\nvalue = [0, 0, 31, 0, 0]'),\n",
              " Text(0.9727272727272728, 0.725, 'X[4] <= 4.875\\ngini = 0.375\\nsamples = 4\\nvalue = [0, 0, 1, 3, 0]'),\n",
              " Text(0.9681818181818181, 0.675, 'X[4] <= 4.475\\ngini = 0.5\\nsamples = 2\\nvalue = [0, 0, 1, 1, 0]'),\n",
              " Text(0.9636363636363636, 0.625, 'gini = 0.0\\nsamples = 1\\nvalue = [0, 0, 0, 1, 0]'),\n",
              " Text(0.9727272727272728, 0.625, 'gini = 0.0\\nsamples = 1\\nvalue = [0, 0, 1, 0, 0]'),\n",
              " Text(0.9772727272727273, 0.675, 'gini = 0.0\\nsamples = 2\\nvalue = [0, 0, 0, 2, 0]'),\n",
              " Text(0.9863636363636363, 0.775, 'X[0] <= 23.75\\ngini = 0.005\\nsamples = 437\\nvalue = [0, 0, 436, 1, 0]'),\n",
              " Text(0.9818181818181818, 0.725, 'gini = 0.0\\nsamples = 411\\nvalue = [0, 0, 411, 0, 0]'),\n",
              " Text(0.990909090909091, 0.725, 'X[0] <= 24.65\\ngini = 0.074\\nsamples = 26\\nvalue = [0, 0, 25, 1, 0]'),\n",
              " Text(0.9863636363636363, 0.675, 'gini = 0.0\\nsamples = 1\\nvalue = [0, 0, 0, 1, 0]'),\n",
              " Text(0.9954545454545455, 0.675, 'gini = 0.0\\nsamples = 25\\nvalue = [0, 0, 25, 0, 0]')]"
            ]
          },
          "metadata": {},
          "execution_count": 28
        },
        {
          "output_type": "display_data",
          "data": {
            "text/plain": [
              "<Figure size 432x288 with 1 Axes>"
            ],
            "image/png": "[encoded data removed]"
          },
          "metadata": {
            "needs_background": "light"
          }
        }
      ]
    },
    {
      "cell_type": "code",
      "source": [
        "y_pred = dtree.predict(X_test)"
      ],
      "metadata": {
        "id": "wTaXAVDmnCUU"
      },
      "execution_count": 29,
      "outputs": []
    },
    {
      "cell_type": "code",
      "source": [
        "score = dtree.score(X_test, y_test)\n",
        "print(score) # We obtain a less accuracy using decision tree than the Logistic Regression Algorithm"
      ],
      "metadata": {
        "colab": {
          "base_uri": "https://localhost:8080/"
        },
        "id": "bZKVZsxonnNc",
        "outputId": "ba6b722f-b1ae-4990-c1f3-0d8a4bb00ed2"
      },
      "execution_count": 30,
      "outputs": [
        {
          "output_type": "stream",
          "name": "stdout",
          "text": [
            "0.7440273037542662\n"
          ]
        }
      ]
    },
    {
      "cell_type": "code",
      "source": [
        "from sklearn import metrics\n",
        "cm= metrics.confusion_matrix(y_test, y_pred, labels=[\"rain\", \"drizzle\", \"sun\", \"snow\", \"fog\"])\n",
        "print(cm)"
      ],
      "metadata": {
        "colab": {
          "base_uri": "https://localhost:8080/"
        },
        "id": "jpPwGa1BnNMG",
        "outputId": "912fcc34-e2f1-473a-8a10-6f1991329c41"
      },
      "execution_count": 31,
      "outputs": [
        {
          "output_type": "stream",
          "name": "stdout",
          "text": [
            "[[117   0   6   3   0]\n",
            " [  2   1   8   0   2]\n",
            " [  5   9  94   0  18]\n",
            " [  3   0   0   2   0]\n",
            " [  1   3  15   0   4]]\n"
          ]
        }
      ]
    },
    {
      "cell_type": "code",
      "source": [
        "import seaborn as sns\n",
        "plt.figure(figsize=(9,9))\n",
        "labels=['rain', 'drizzle', 'sun', 'snow', 'fog']\n",
        "sns.heatmap(cm, annot=True, xticklabels=labels, yticklabels=labels, fmt=\".3f\", linewidths=.5, square = True, cmap = 'Blues_r')\n",
        "plt.ylabel('Actual Label')\n",
        "plt.xlabel('Predicted Label')\n",
        "all_sample_title = 'Accuracy Score: {0}'.format(score)"
      ],
      "metadata": {
        "colab": {
          "base_uri": "https://localhost:8080/",
          "height": 526
        },
        "id": "3Gy2p1G1ng-a",
        "outputId": "9592241a-35de-4c86-fe20-fb7eb34d48d8"
      },
      "execution_count": 32,
      "outputs": [
        {
          "output_type": "display_data",
          "data": {
            "text/plain": [
              "<Figure size 648x648 with 2 Axes>"
            ],
            "image/png": "[encoded data removed]"
          },
          "metadata": {
            "needs_background": "light"
          }
        }
      ]
    }
  ]
}