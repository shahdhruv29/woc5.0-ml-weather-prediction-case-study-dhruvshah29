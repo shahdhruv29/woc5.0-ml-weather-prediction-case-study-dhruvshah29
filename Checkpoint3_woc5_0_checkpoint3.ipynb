{
  "nbformat": 4,
  "nbformat_minor": 0,
  "metadata": {
    "colab": {
      "provenance": [],
      "authorship_tag": "ABX9TyPviOl2HjWO444uqsUQnPRs",
      "include_colab_link": true
    },
    "kernelspec": {
      "name": "python3",
      "display_name": "Python 3"
    },
    "language_info": {
      "name": "python"
    }
  },
  "cells": [
    {
      "cell_type": "markdown",
      "metadata": {
        "id": "view-in-github",
        "colab_type": "text"
      },
      "source": [
        "<a href=\"https://colab.research.google.com/github/shahdhruv29/woc5.0-ml-weather-prediction-case-study-dhruvshah29/blob/main/Checkpoint3_woc5_0_checkpoint3.ipynb\" target=\"_parent\"><img src=\"https://colab.research.google.com/assets/colab-badge.svg\" alt=\"Open In Colab\"/></a>"
      ]
    },
    {
      "cell_type": "code",
      "execution_count": null,
      "metadata": {
        "id": "8iw2_l466OOc"
      },
      "outputs": [],
      "source": [
        "import pandas as pd"
      ]
    },
    {
      "cell_type": "code",
      "source": [
        "df = pd.read_csv('/content/Youtube Influencer Analysis_Updated.csv', encoding='cp1252')"
      ],
      "metadata": {
        "id": "ac-Oy1Os-SbH"
      },
      "execution_count": null,
      "outputs": []
    },
    {
      "cell_type": "code",
      "source": [
        "print(df)"
      ],
      "metadata": {
        "colab": {
          "base_uri": "https://localhost:8080/"
        },
        "id": "BEZPKWkq_S3H",
        "outputId": "e37586e8-90ca-4075-e7ea-2995e27fe480"
      },
      "execution_count": null,
      "outputs": [
        {
          "output_type": "stream",
          "name": "stdout",
          "text": [
            "                                            Video Link Video Views  \\\n",
            "0          https://www.youtube.com/watch?v=_0fUOJ55gis     146,059   \n",
            "1          https://www.youtube.com/watch?v=_70MSLPRfZI     231,969   \n",
            "2    https://www.youtube.com/watch?v=_8gfCdt3H00&t=87s         878   \n",
            "3          https://www.youtube.com/watch?v=_CkFNJgKsFs       9,965   \n",
            "4          https://www.youtube.com/watch?v=_GFkHA5EZdE  39,780,561   \n",
            "..                                                 ...         ...   \n",
            "900        https://www.youtube.com/watch?v=GS18WawA-t0       6,892   \n",
            "901        https://www.youtube.com/watch?v=_tc_APkjH2Q      16,554   \n",
            "902        https://www.youtube.com/watch?v=Xfj4osSYfhU      32,798   \n",
            "903        https://www.youtube.com/watch?v=mGEHqwVz0eI       1,503   \n",
            "904        https://www.youtube.com/watch?v=UGATpt0I4vA     429,966   \n",
            "\n",
            "                                           Video Title  \\\n",
            "0      Samse - Didupe Off-road Royal Enfield Himalayan   \n",
            "1                             Bhoom Baddhal Web Series   \n",
            "2    Customer Psychology, Four Views Of Consumer De...   \n",
            "3       Top countries with proven natural gas reserves   \n",
            "4                       73 Questions With Selena Gomez   \n",
            "..                                                 ...   \n",
            "900  Calming mashup of Islamic Nasheed 2022 | Isami...   \n",
            "901                           Amchi Nawayat Mehfil hee   \n",
            "902                                      Aas ge Kaagaz   \n",
            "903  Anjuman Tarana by ABHS Students | Anjuman Anju...   \n",
            "904  Jhulan Goswami Final Over in ODIs | ENG vs IND...   \n",
            "\n",
            "                                           Channel URL          Creator Name  \\\n",
            "0                  https://www.youtube.com/c/sriharick            srihari ck   \n",
            "1           https://www.youtube.com/c/ChaibisketTelugu           Chai Bisket   \n",
            "2    https://www.youtube.com/channel/UCcIUnCsBfONvb...           Virda Warsi   \n",
            "3                   https://www.youtube.com/c/trtworld                   TRT   \n",
            "4                                      Vogue - YouTube                 Vogue   \n",
            "..                                                 ...                   ...   \n",
            "900        https://www.youtube.com/c/SahilOnlineTVnews  Sahil Online TV News   \n",
            "901                https://www.youtube.com/sahilonline  Sahil Online TV News   \n",
            "902                https://www.youtube.com/sahilonline  Sahil Online Bhatkal   \n",
            "903                https://www.youtube.com/sahilonline  Sahil Online Bhatkal   \n",
            "904        https://www.youtube.com/c/SonySportsNetwork   Sony Sports Network   \n",
            "\n",
            "    Creator Gender Total Channel Subcribers Total Chanel Views  \\\n",
            "0             Male                    40200            7964284   \n",
            "1             Male                   920000          137535681   \n",
            "2           Female                      458              72945   \n",
            "3              NaN                  1680000          541653219   \n",
            "4              NaN                 12100000         3600496171   \n",
            "..             ...                      ...                ...   \n",
            "900            NaN                   594000          129926690   \n",
            "901            NaN                   594000          129926690   \n",
            "902            NaN                    23500            5104872   \n",
            "903            NaN                    23500            5104872   \n",
            "904            NaN                  3980000          728858923   \n",
            "\n",
            "    Duration of Video Duration in Seconds  ... Video Description  Hashtags  \\\n",
            "0           00:30:41             1,841.00  ...               Yes         0   \n",
            "1           00:14:24               864.00  ...               Yes         1   \n",
            "2             0:08:12              492.00  ...               Yes         0   \n",
            "3             0:01:06               66.00  ...               Yes         0   \n",
            "4             0:07:40              460.00  ...               Yes         0   \n",
            "..                ...                 ...  ...               ...       ...   \n",
            "900          00:13:47              827.00  ...               Yes         0   \n",
            "901          00:06:44              404.00  ...               Yes         2   \n",
            "902          00:06:24              384.00  ...               Yes         3   \n",
            "903          00:04:39              279.00  ...               Yes         3   \n",
            "904          00:01:21               81.00  ...               Yes         3   \n",
            "\n",
            "    No of Comments Date of the Last Comment Maximum Quality of the Video  \\\n",
            "0              419                 8/6/2022                         1080   \n",
            "1              189                6/15/2022                         1080   \n",
            "2                0                      NaN                          720   \n",
            "3               77                9/22/2022                         1080   \n",
            "4            28221                9/23/2022                         1080   \n",
            "..             ...                      ...                          ...   \n",
            "900             15                10/4/2022                         1080   \n",
            "901              0                10/4/2022                          720   \n",
            "902              0                 8/4/2022                          720   \n",
            "903              0                 8/4/2022                         1080   \n",
            "904              0                10/4/2022                         1080   \n",
            "\n",
            "     No of Videos the Channel No of Playlist Premiered or Not  \\\n",
            "0                         462           12.0               No   \n",
            "1                         251           12.0              Yes   \n",
            "2                         158            0.0               No   \n",
            "3                       46509           48.0               No   \n",
            "4                        2872          113.0               No   \n",
            "..                        ...            ...              ...   \n",
            "900                      5024           36.0               No   \n",
            "901                      5024           36.0               No   \n",
            "902                      1018           13.0               No   \n",
            "903                      1018           13.0               No   \n",
            "904                      3014          124.0               No   \n",
            "\n",
            "     Community Engagement (Posts per week)  Intern Who Collected the Data  \n",
            "0                                        1                     Akhil Teja  \n",
            "1                                        2                     Akhil Teja  \n",
            "2                                        0                    Syed safdar  \n",
            "3                                       20                    Syed safdar  \n",
            "4                                        1                    Rahul Singh  \n",
            "..                                     ...                            ...  \n",
            "900                                      1                      Mafaz Ali  \n",
            "901                                      1                      Mafaz Ali  \n",
            "902                                      1                      Mafaz Ali  \n",
            "903                                      1                      Mafaz Ali  \n",
            "904                                      0                      Mafaz Ali  \n",
            "\n",
            "[905 rows x 24 columns]\n"
          ]
        }
      ]
    },
    {
      "cell_type": "code",
      "source": [
        "print(df.head())"
      ],
      "metadata": {
        "colab": {
          "base_uri": "https://localhost:8080/"
        },
        "id": "bGC3Ait8AGgl",
        "outputId": "0689a26b-249e-414e-f7b5-22e89de9a72e"
      },
      "execution_count": null,
      "outputs": [
        {
          "output_type": "stream",
          "name": "stdout",
          "text": [
            "                                          Video Link Video Views  \\\n",
            "0        https://www.youtube.com/watch?v=_0fUOJ55gis     146,059   \n",
            "1        https://www.youtube.com/watch?v=_70MSLPRfZI     231,969   \n",
            "2  https://www.youtube.com/watch?v=_8gfCdt3H00&t=87s         878   \n",
            "3        https://www.youtube.com/watch?v=_CkFNJgKsFs       9,965   \n",
            "4        https://www.youtube.com/watch?v=_GFkHA5EZdE  39,780,561   \n",
            "\n",
            "                                         Video Title  \\\n",
            "0    Samse - Didupe Off-road Royal Enfield Himalayan   \n",
            "1                           Bhoom Baddhal Web Series   \n",
            "2  Customer Psychology, Four Views Of Consumer De...   \n",
            "3     Top countries with proven natural gas reserves   \n",
            "4                     73 Questions With Selena Gomez   \n",
            "\n",
            "                                         Channel URL Creator Name  \\\n",
            "0                https://www.youtube.com/c/sriharick   srihari ck   \n",
            "1         https://www.youtube.com/c/ChaibisketTelugu  Chai Bisket   \n",
            "2  https://www.youtube.com/channel/UCcIUnCsBfONvb...  Virda Warsi   \n",
            "3                 https://www.youtube.com/c/trtworld          TRT   \n",
            "4                                    Vogue - YouTube        Vogue   \n",
            "\n",
            "  Creator Gender Total Channel Subcribers Total Chanel Views  \\\n",
            "0           Male                    40200            7964284   \n",
            "1           Male                   920000          137535681   \n",
            "2         Female                      458              72945   \n",
            "3            NaN                  1680000          541653219   \n",
            "4            NaN                 12100000         3600496171   \n",
            "\n",
            "  Duration of Video Duration in Seconds  ... Video Description  Hashtags  \\\n",
            "0         00:30:41             1,841.00  ...               Yes         0   \n",
            "1         00:14:24               864.00  ...               Yes         1   \n",
            "2           0:08:12              492.00  ...               Yes         0   \n",
            "3           0:01:06               66.00  ...               Yes         0   \n",
            "4           0:07:40              460.00  ...               Yes         0   \n",
            "\n",
            "  No of Comments Date of the Last Comment Maximum Quality of the Video  \\\n",
            "0            419                 8/6/2022                         1080   \n",
            "1            189                6/15/2022                         1080   \n",
            "2              0                      NaN                          720   \n",
            "3             77                9/22/2022                         1080   \n",
            "4          28221                9/23/2022                         1080   \n",
            "\n",
            "   No of Videos the Channel No of Playlist Premiered or Not  \\\n",
            "0                       462           12.0               No   \n",
            "1                       251           12.0              Yes   \n",
            "2                       158            0.0               No   \n",
            "3                     46509           48.0               No   \n",
            "4                      2872          113.0               No   \n",
            "\n",
            "   Community Engagement (Posts per week)  Intern Who Collected the Data  \n",
            "0                                      1                     Akhil Teja  \n",
            "1                                      2                     Akhil Teja  \n",
            "2                                      0                    Syed safdar  \n",
            "3                                     20                    Syed safdar  \n",
            "4                                      1                    Rahul Singh  \n",
            "\n",
            "[5 rows x 24 columns]\n"
          ]
        }
      ]
    },
    {
      "cell_type": "code",
      "source": [
        "print(df['Video Link'])"
      ],
      "metadata": {
        "colab": {
          "base_uri": "https://localhost:8080/"
        },
        "id": "292dXWJuAb7J",
        "outputId": "b9dbb1ab-bd6b-47f3-d4fe-417665effcd0"
      },
      "execution_count": null,
      "outputs": [
        {
          "output_type": "stream",
          "name": "stdout",
          "text": [
            "0            https://www.youtube.com/watch?v=_0fUOJ55gis\n",
            "1            https://www.youtube.com/watch?v=_70MSLPRfZI\n",
            "2      https://www.youtube.com/watch?v=_8gfCdt3H00&t=87s\n",
            "3            https://www.youtube.com/watch?v=_CkFNJgKsFs\n",
            "4            https://www.youtube.com/watch?v=_GFkHA5EZdE\n",
            "                             ...                        \n",
            "900          https://www.youtube.com/watch?v=GS18WawA-t0\n",
            "901          https://www.youtube.com/watch?v=_tc_APkjH2Q\n",
            "902          https://www.youtube.com/watch?v=Xfj4osSYfhU\n",
            "903          https://www.youtube.com/watch?v=mGEHqwVz0eI\n",
            "904          https://www.youtube.com/watch?v=UGATpt0I4vA\n",
            "Name: Video Link, Length: 905, dtype: object\n"
          ]
        }
      ]
    },
    {
      "cell_type": "code",
      "source": [
        "print(df['Video Views'])"
      ],
      "metadata": {
        "colab": {
          "base_uri": "https://localhost:8080/"
        },
        "id": "7imY0bj2BR6c",
        "outputId": "37a40c03-bbfc-4b0a-ebf8-0c994edb9398"
      },
      "execution_count": null,
      "outputs": [
        {
          "output_type": "stream",
          "name": "stdout",
          "text": [
            "0         146,059\n",
            "1         231,969\n",
            "2             878\n",
            "3           9,965\n",
            "4      39,780,561\n",
            "          ...    \n",
            "900         6,892\n",
            "901        16,554\n",
            "902        32,798\n",
            "903         1,503\n",
            "904       429,966\n",
            "Name: Video Views, Length: 905, dtype: object\n"
          ]
        }
      ]
    },
    {
      "cell_type": "code",
      "source": [
        "df.dtypes # Printing the datatype of each column."
      ],
      "metadata": {
        "colab": {
          "base_uri": "https://localhost:8080/"
        },
        "id": "g3WJcyhbBwfg",
        "outputId": "96625342-546a-4294-acd6-1b9f73831b32"
      },
      "execution_count": null,
      "outputs": [
        {
          "output_type": "execute_result",
          "data": {
            "text/plain": [
              "Video Link                                object\n",
              "Video Views                               object\n",
              "Video Title                               object\n",
              "Channel URL                               object\n",
              "Creator Name                              object\n",
              "Creator Gender                            object\n",
              "Total Channel Subcribers                  object\n",
              "Total Chanel Views                        object\n",
              "Duration of Video                         object\n",
              "Duration in Seconds                       object\n",
              "Date of Video Upload                      object\n",
              "No of Likes                              float64\n",
              "Language of the Video                     object\n",
              "Subtitle                                  object\n",
              "Video Description                         object\n",
              "Hashtags                                   int64\n",
              "No of Comments                            object\n",
              "Date of the Last Comment                  object\n",
              "Maximum Quality of the Video               int64\n",
              "No of Videos the Channel                   int64\n",
              "No of Playlist                           float64\n",
              "Premiered or Not                          object\n",
              "Community Engagement (Posts per week)      int64\n",
              "Intern Who Collected the Data             object\n",
              "dtype: object"
            ]
          },
          "metadata": {},
          "execution_count": 11
        }
      ]
    },
    {
      "cell_type": "code",
      "source": [
        "df[pd.isnull(df['Video Views'])]"
      ],
      "metadata": {
        "colab": {
          "base_uri": "https://localhost:8080/",
          "height": 195
        },
        "id": "MqOA8U5FCHQf",
        "outputId": "9260256d-a69c-4b8f-bfdc-a56b99c56f29"
      },
      "execution_count": null,
      "outputs": [
        {
          "output_type": "execute_result",
          "data": {
            "text/plain": [
              "Empty DataFrame\n",
              "Columns: [Video Link, Video Views, Video Title, Channel URL, Creator Name, Creator Gender, Total Channel Subcribers, Total Chanel Views, Duration of Video, Duration in Seconds, Date of Video Upload, No of Likes, Language of the Video, Subtitle, Video Description, Hashtags, No of Comments, Date of the Last Comment, Maximum Quality of the Video, No of Videos the Channel, No of Playlist, Premiered or Not, Community Engagement (Posts per week), Intern Who Collected the Data]\n",
              "Index: []\n",
              "\n",
              "[0 rows x 24 columns]"
            ],
            "text/html": [
              "\n",
              "  <div id=\"df-e37c2bad-d6b2-4df9-9e5b-608d7c37534e\">\n",
              "    <div class=\"colab-df-container\">\n",
              "      <div>\n",
              "<style scoped>\n",
              "    .dataframe tbody tr th:only-of-type {\n",
              "        vertical-align: middle;\n",
              "    }\n",
              "\n",
              "    .dataframe tbody tr th {\n",
              "        vertical-align: top;\n",
              "    }\n",
              "\n",
              "    .dataframe thead th {\n",
              "        text-align: right;\n",
              "    }\n",
              "</style>\n",
              "<table border=\"1\" class=\"dataframe\">\n",
              "  <thead>\n",
              "    <tr style=\"text-align: right;\">\n",
              "      <th></th>\n",
              "      <th>Video Link</th>\n",
              "      <th>Video Views</th>\n",
              "      <th>Video Title</th>\n",
              "      <th>Channel URL</th>\n",
              "      <th>Creator Name</th>\n",
              "      <th>Creator Gender</th>\n",
              "      <th>Total Channel Subcribers</th>\n",
              "      <th>Total Chanel Views</th>\n",
              "      <th>Duration of Video</th>\n",
              "      <th>Duration in Seconds</th>\n",
              "      <th>...</th>\n",
              "      <th>Video Description</th>\n",
              "      <th>Hashtags</th>\n",
              "      <th>No of Comments</th>\n",
              "      <th>Date of the Last Comment</th>\n",
              "      <th>Maximum Quality of the Video</th>\n",
              "      <th>No of Videos the Channel</th>\n",
              "      <th>No of Playlist</th>\n",
              "      <th>Premiered or Not</th>\n",
              "      <th>Community Engagement (Posts per week)</th>\n",
              "      <th>Intern Who Collected the Data</th>\n",
              "    </tr>\n",
              "  </thead>\n",
              "  <tbody>\n",
              "  </tbody>\n",
              "</table>\n",
              "<p>0 rows × 24 columns</p>\n",
              "</div>\n",
              "      <button class=\"colab-df-convert\" onclick=\"convertToInteractive('df-e37c2bad-d6b2-4df9-9e5b-608d7c37534e')\"\n",
              "              title=\"Convert this dataframe to an interactive table.\"\n",
              "              style=\"display:none;\">\n",
              "        \n",
              "  <svg xmlns=\"http://www.w3.org/2000/svg\" height=\"24px\"viewBox=\"0 0 24 24\"\n",
              "       width=\"24px\">\n",
              "    <path d=\"M0 0h24v24H0V0z\" fill=\"none\"/>\n",
              "    <path d=\"M18.56 5.44l.94 2.06.94-2.06 2.06-.94-2.06-.94-.94-2.06-.94 2.06-2.06.94zm-11 1L8.5 8.5l.94-2.06 2.06-.94-2.06-.94L8.5 2.5l-.94 2.06-2.06.94zm10 10l.94 2.06.94-2.06 2.06-.94-2.06-.94-.94-2.06-.94 2.06-2.06.94z\"/><path d=\"M17.41 7.96l-1.37-1.37c-.4-.4-.92-.59-1.43-.59-.52 0-1.04.2-1.43.59L10.3 9.45l-7.72 7.72c-.78.78-.78 2.05 0 2.83L4 21.41c.39.39.9.59 1.41.59.51 0 1.02-.2 1.41-.59l7.78-7.78 2.81-2.81c.8-.78.8-2.07 0-2.86zM5.41 20L4 18.59l7.72-7.72 1.47 1.35L5.41 20z\"/>\n",
              "  </svg>\n",
              "      </button>\n",
              "      \n",
              "  <style>\n",
              "    .colab-df-container {\n",
              "      display:flex;\n",
              "      flex-wrap:wrap;\n",
              "      gap: 12px;\n",
              "    }\n",
              "\n",
              "    .colab-df-convert {\n",
              "      background-color: #E8F0FE;\n",
              "      border: none;\n",
              "      border-radius: 50%;\n",
              "      cursor: pointer;\n",
              "      display: none;\n",
              "      fill: #1967D2;\n",
              "      height: 32px;\n",
              "      padding: 0 0 0 0;\n",
              "      width: 32px;\n",
              "    }\n",
              "\n",
              "    .colab-df-convert:hover {\n",
              "      background-color: #E2EBFA;\n",
              "      box-shadow: 0px 1px 2px rgba(60, 64, 67, 0.3), 0px 1px 3px 1px rgba(60, 64, 67, 0.15);\n",
              "      fill: #174EA6;\n",
              "    }\n",
              "\n",
              "    [theme=dark] .colab-df-convert {\n",
              "      background-color: #3B4455;\n",
              "      fill: #D2E3FC;\n",
              "    }\n",
              "\n",
              "    [theme=dark] .colab-df-convert:hover {\n",
              "      background-color: #434B5C;\n",
              "      box-shadow: 0px 1px 3px 1px rgba(0, 0, 0, 0.15);\n",
              "      filter: drop-shadow(0px 1px 2px rgba(0, 0, 0, 0.3));\n",
              "      fill: #FFFFFF;\n",
              "    }\n",
              "  </style>\n",
              "\n",
              "      <script>\n",
              "        const buttonEl =\n",
              "          document.querySelector('#df-e37c2bad-d6b2-4df9-9e5b-608d7c37534e button.colab-df-convert');\n",
              "        buttonEl.style.display =\n",
              "          google.colab.kernel.accessAllowed ? 'block' : 'none';\n",
              "\n",
              "        async function convertToInteractive(key) {\n",
              "          const element = document.querySelector('#df-e37c2bad-d6b2-4df9-9e5b-608d7c37534e');\n",
              "          const dataTable =\n",
              "            await google.colab.kernel.invokeFunction('convertToInteractive',\n",
              "                                                     [key], {});\n",
              "          if (!dataTable) return;\n",
              "\n",
              "          const docLinkHtml = 'Like what you see? Visit the ' +\n",
              "            '<a target=\"_blank\" href=https://colab.research.google.com/notebooks/data_table.ipynb>data table notebook</a>'\n",
              "            + ' to learn more about interactive tables.';\n",
              "          element.innerHTML = '';\n",
              "          dataTable['output_type'] = 'display_data';\n",
              "          await google.colab.output.renderOutput(dataTable, element);\n",
              "          const docLink = document.createElement('div');\n",
              "          docLink.innerHTML = docLinkHtml;\n",
              "          element.appendChild(docLink);\n",
              "        }\n",
              "      </script>\n",
              "    </div>\n",
              "  </div>\n",
              "  "
            ]
          },
          "metadata": {},
          "execution_count": 13
        }
      ]
    },
    {
      "cell_type": "code",
      "source": [
        "df.isnull().sum() #This gives us the NULL values in each column."
      ],
      "metadata": {
        "colab": {
          "base_uri": "https://localhost:8080/"
        },
        "id": "eIz_-upBDE_U",
        "outputId": "f0814270-c620-4a63-9ae9-defb6d329a53"
      },
      "execution_count": null,
      "outputs": [
        {
          "output_type": "execute_result",
          "data": {
            "text/plain": [
              "Video Link                                 0\n",
              "Video Views                                0\n",
              "Video Title                                0\n",
              "Channel URL                                0\n",
              "Creator Name                              11\n",
              "Creator Gender                           314\n",
              "Total Channel Subcribers                   0\n",
              "Total Chanel Views                         0\n",
              "Duration of Video                          0\n",
              "Duration in Seconds                        0\n",
              "Date of Video Upload                       0\n",
              "No of Likes                                1\n",
              "Language of the Video                     21\n",
              "Subtitle                                   1\n",
              "Video Description                          0\n",
              "Hashtags                                   0\n",
              "No of Comments                             0\n",
              "Date of the Last Comment                  24\n",
              "Maximum Quality of the Video               0\n",
              "No of Videos the Channel                   0\n",
              "No of Playlist                             9\n",
              "Premiered or Not                           0\n",
              "Community Engagement (Posts per week)      0\n",
              "Intern Who Collected the Data              0\n",
              "dtype: int64"
            ]
          },
          "metadata": {},
          "execution_count": 14
        }
      ]
    },
    {
      "cell_type": "code",
      "source": [
        "df['Video Views'] = df['Video Views'].str.replace(',', '').astype('float64') # Converted The video Views into float64 datatype."
      ],
      "metadata": {
        "id": "vQM_kGSwG8XS"
      },
      "execution_count": null,
      "outputs": []
    },
    {
      "cell_type": "code",
      "source": [
        "print(df['Video Views'])"
      ],
      "metadata": {
        "colab": {
          "base_uri": "https://localhost:8080/"
        },
        "id": "_RB6MbDKHIIW",
        "outputId": "cf7ab24b-0489-4b6c-9e92-a0291a6ac7a8"
      },
      "execution_count": null,
      "outputs": [
        {
          "output_type": "stream",
          "name": "stdout",
          "text": [
            "0        146059.0\n",
            "1        231969.0\n",
            "2           878.0\n",
            "3          9965.0\n",
            "4      39780561.0\n",
            "          ...    \n",
            "900        6892.0\n",
            "901       16554.0\n",
            "902       32798.0\n",
            "903        1503.0\n",
            "904      429966.0\n",
            "Name: Video Views, Length: 905, dtype: float64\n"
          ]
        }
      ]
    },
    {
      "cell_type": "code",
      "source": [
        "df['Total Channel Subcribers'] = df['Total Channel Subcribers'].str.replace(',', '').astype('float64')"
      ],
      "metadata": {
        "id": "3nalu9D4Huco"
      },
      "execution_count": null,
      "outputs": []
    },
    {
      "cell_type": "code",
      "source": [
        "print(df['Total Channel Subcribers'])"
      ],
      "metadata": {
        "colab": {
          "base_uri": "https://localhost:8080/"
        },
        "id": "Q85w9gmJIWGf",
        "outputId": "227d0d91-f415-4753-989b-4392621da8ed"
      },
      "execution_count": null,
      "outputs": [
        {
          "output_type": "stream",
          "name": "stdout",
          "text": [
            "0         40200.0\n",
            "1        920000.0\n",
            "2           458.0\n",
            "3       1680000.0\n",
            "4      12100000.0\n",
            "          ...    \n",
            "900      594000.0\n",
            "901      594000.0\n",
            "902       23500.0\n",
            "903       23500.0\n",
            "904     3980000.0\n",
            "Name: Total Channel Subcribers, Length: 905, dtype: float64\n"
          ]
        }
      ]
    },
    {
      "cell_type": "code",
      "source": [
        "df['Total Chanel Views'] = df['Total Chanel Views'].str.replace(',', '').astype('float64')\n",
        "print(df['Total Chanel Views'])"
      ],
      "metadata": {
        "colab": {
          "base_uri": "https://localhost:8080/"
        },
        "id": "hnIIEOJTIcvE",
        "outputId": "4848c86f-6c6c-45d0-e112-bb9fccdec5f8"
      },
      "execution_count": null,
      "outputs": [
        {
          "output_type": "stream",
          "name": "stdout",
          "text": [
            "0      7.964284e+06\n",
            "1      1.375357e+08\n",
            "2      7.294500e+04\n",
            "3      5.416532e+08\n",
            "4      3.600496e+09\n",
            "           ...     \n",
            "900    1.299267e+08\n",
            "901    1.299267e+08\n",
            "902    5.104872e+06\n",
            "903    5.104872e+06\n",
            "904    7.288589e+08\n",
            "Name: Total Chanel Views, Length: 905, dtype: float64\n"
          ]
        }
      ]
    },
    {
      "cell_type": "code",
      "source": [
        "df=df.drop(['Creator Gender'], axis=1) # Since it has a lot of null values, and gender might not play a role in our prediction.\n",
        "                                    # We can drop gender from our dataframe."
      ],
      "metadata": {
        "id": "JbvbPMnaJaDZ"
      },
      "execution_count": null,
      "outputs": []
    },
    {
      "cell_type": "code",
      "source": [
        "df=df.drop(['Video Link','Channel URL'], axis=1) # These columns are also not required in our model."
      ],
      "metadata": {
        "id": "84trXTyXJj1c"
      },
      "execution_count": null,
      "outputs": []
    },
    {
      "cell_type": "code",
      "source": [
        "print(df)"
      ],
      "metadata": {
        "colab": {
          "base_uri": "https://localhost:8080/"
        },
        "id": "TRxAT_WcJ0ku",
        "outputId": "bc5a5893-4a58-47e3-8b40-2fd03febcd95"
      },
      "execution_count": null,
      "outputs": [
        {
          "output_type": "stream",
          "name": "stdout",
          "text": [
            "     Video Views                                        Video Title  \\\n",
            "0       146059.0    Samse - Didupe Off-road Royal Enfield Himalayan   \n",
            "1       231969.0                           Bhoom Baddhal Web Series   \n",
            "2          878.0  Customer Psychology, Four Views Of Consumer De...   \n",
            "3         9965.0     Top countries with proven natural gas reserves   \n",
            "4     39780561.0                     73 Questions With Selena Gomez   \n",
            "..           ...                                                ...   \n",
            "900       6892.0  Calming mashup of Islamic Nasheed 2022 | Isami...   \n",
            "901      16554.0                           Amchi Nawayat Mehfil hee   \n",
            "902      32798.0                                      Aas ge Kaagaz   \n",
            "903       1503.0  Anjuman Tarana by ABHS Students | Anjuman Anju...   \n",
            "904     429966.0  Jhulan Goswami Final Over in ODIs | ENG vs IND...   \n",
            "\n",
            "             Creator Name  Total Channel Subcribers  Total Chanel Views  \\\n",
            "0              srihari ck                   40200.0        7.964284e+06   \n",
            "1             Chai Bisket                  920000.0        1.375357e+08   \n",
            "2             Virda Warsi                     458.0        7.294500e+04   \n",
            "3                     TRT                 1680000.0        5.416532e+08   \n",
            "4                   Vogue                12100000.0        3.600496e+09   \n",
            "..                    ...                       ...                 ...   \n",
            "900  Sahil Online TV News                  594000.0        1.299267e+08   \n",
            "901  Sahil Online TV News                  594000.0        1.299267e+08   \n",
            "902  Sahil Online Bhatkal                   23500.0        5.104872e+06   \n",
            "903  Sahil Online Bhatkal                   23500.0        5.104872e+06   \n",
            "904   Sony Sports Network                 3980000.0        7.288589e+08   \n",
            "\n",
            "    Duration of Video Duration in Seconds Date of Video Upload  No of Likes  \\\n",
            "0           00:30:41             1,841.00            7/29/2022       6700.0   \n",
            "1           00:14:24               864.00            5/22/2022       7800.0   \n",
            "2             0:08:12              492.00             2/9/2021        858.0   \n",
            "3             0:01:06               66.00            9/13/2022        188.0   \n",
            "4             0:07:40              460.00            3/21/2017     901000.0   \n",
            "..                ...                 ...                  ...          ...   \n",
            "900          00:13:47              827.00            9/29/2022        235.0   \n",
            "901          00:06:44              404.00             8/6/2017        117.0   \n",
            "902          00:06:24              384.00             1/3/2021          1.0   \n",
            "903          00:04:39              279.00             3/6/2022          1.0   \n",
            "904          00:01:21               81.00            9/25/2022       7600.0   \n",
            "\n",
            "    Language of the Video  ... Video Description Hashtags  No of Comments  \\\n",
            "0                 Kannada  ...               Yes        0             419   \n",
            "1                  Telugu  ...               Yes        1             189   \n",
            "2                   Hindi  ...               Yes        0               0   \n",
            "3                 English  ...               Yes        0              77   \n",
            "4                 English  ...               Yes        0           28221   \n",
            "..                    ...  ...               ...      ...             ...   \n",
            "900         Urdu + Arabic  ...               Yes        0              15   \n",
            "901             Nawayathi  ...               Yes        2               0   \n",
            "902             Nawayathi  ...               Yes        3               0   \n",
            "903                  Urdu  ...               Yes        3               0   \n",
            "904               English  ...               Yes        3               0   \n",
            "\n",
            "    Date of the Last Comment Maximum Quality of the Video  \\\n",
            "0                   8/6/2022                         1080   \n",
            "1                  6/15/2022                         1080   \n",
            "2                        NaN                          720   \n",
            "3                  9/22/2022                         1080   \n",
            "4                  9/23/2022                         1080   \n",
            "..                       ...                          ...   \n",
            "900                10/4/2022                         1080   \n",
            "901                10/4/2022                          720   \n",
            "902                 8/4/2022                          720   \n",
            "903                 8/4/2022                         1080   \n",
            "904                10/4/2022                         1080   \n",
            "\n",
            "     No of Videos the Channel  No of Playlist  Premiered or Not  \\\n",
            "0                         462            12.0                No   \n",
            "1                         251            12.0               Yes   \n",
            "2                         158             0.0                No   \n",
            "3                       46509            48.0                No   \n",
            "4                        2872           113.0                No   \n",
            "..                        ...             ...               ...   \n",
            "900                      5024            36.0                No   \n",
            "901                      5024            36.0                No   \n",
            "902                      1018            13.0                No   \n",
            "903                      1018            13.0                No   \n",
            "904                      3014           124.0                No   \n",
            "\n",
            "    Community Engagement (Posts per week)  Intern Who Collected the Data  \n",
            "0                                       1                     Akhil Teja  \n",
            "1                                       2                     Akhil Teja  \n",
            "2                                       0                    Syed safdar  \n",
            "3                                      20                    Syed safdar  \n",
            "4                                       1                    Rahul Singh  \n",
            "..                                    ...                            ...  \n",
            "900                                     1                      Mafaz Ali  \n",
            "901                                     1                      Mafaz Ali  \n",
            "902                                     1                      Mafaz Ali  \n",
            "903                                     1                      Mafaz Ali  \n",
            "904                                     0                      Mafaz Ali  \n",
            "\n",
            "[905 rows x 21 columns]\n"
          ]
        }
      ]
    },
    {
      "cell_type": "code",
      "source": [
        "df['Language of the Video'] = df['Language of the Video'].fillna(\"Unknown\") #Language of the video is changed to unknown"
      ],
      "metadata": {
        "id": "mBS9Th3tKlkG"
      },
      "execution_count": null,
      "outputs": []
    },
    {
      "cell_type": "code",
      "source": [
        "df=df.drop(['Subtitle'], axis=1) "
      ],
      "metadata": {
        "id": "js7S7JbJLd26"
      },
      "execution_count": null,
      "outputs": []
    },
    {
      "cell_type": "code",
      "source": [
        "df=df.drop(['Intern Who Collected the Data'], axis=1)"
      ],
      "metadata": {
        "id": "RpiFXcx5L4m7"
      },
      "execution_count": null,
      "outputs": []
    },
    {
      "cell_type": "code",
      "source": [
        "df = df.drop(['Duration of Video'], axis=1)"
      ],
      "metadata": {
        "id": "ygFkeJuKMH4m"
      },
      "execution_count": null,
      "outputs": []
    },
    {
      "cell_type": "code",
      "source": [
        "df['Duration in Seconds'] = df['Duration in Seconds'].str.replace(',', '').astype('float64')"
      ],
      "metadata": {
        "id": "Tvj2Yzz6MRXY"
      },
      "execution_count": null,
      "outputs": []
    },
    {
      "cell_type": "code",
      "source": [
        "df.dtypes"
      ],
      "metadata": {
        "colab": {
          "base_uri": "https://localhost:8080/"
        },
        "id": "v-XZ7IluLxIr",
        "outputId": "9ffd416e-defc-4ad8-8e26-f940d70f617a"
      },
      "execution_count": null,
      "outputs": [
        {
          "output_type": "execute_result",
          "data": {
            "text/plain": [
              "Video Views                              float64\n",
              "Video Title                               object\n",
              "Creator Name                              object\n",
              "Total Channel Subcribers                 float64\n",
              "Total Chanel Views                       float64\n",
              "Duration in Seconds                      float64\n",
              "Date of Video Upload                      object\n",
              "No of Likes                              float64\n",
              "Language of the Video                     object\n",
              "Video Description                         object\n",
              "Hashtags                                   int64\n",
              "No of Comments                            object\n",
              "Date of the Last Comment                  object\n",
              "Maximum Quality of the Video               int64\n",
              "No of Videos the Channel                   int64\n",
              "No of Playlist                           float64\n",
              "Premiered or Not                          object\n",
              "Community Engagement (Posts per week)      int64\n",
              "dtype: object"
            ]
          },
          "metadata": {},
          "execution_count": 34
        }
      ]
    },
    {
      "cell_type": "code",
      "source": [
        "df1 = df.copy()                                     # Create copy of pandas DataFrame\n",
        "df1['Video Description'] = df1['Video Description'].map({'Yes': True, 'No': False}).astype('bool')      # Replace string by boolean\n",
        "print(df1)       "
      ],
      "metadata": {
        "colab": {
          "base_uri": "https://localhost:8080/"
        },
        "id": "-YUlFVEKNip9",
        "outputId": "a90892f4-900d-4b70-8e6d-0fb42905653e"
      },
      "execution_count": null,
      "outputs": [
        {
          "output_type": "stream",
          "name": "stdout",
          "text": [
            "     Video Views                                        Video Title  \\\n",
            "0       146059.0    Samse - Didupe Off-road Royal Enfield Himalayan   \n",
            "1       231969.0                           Bhoom Baddhal Web Series   \n",
            "2          878.0  Customer Psychology, Four Views Of Consumer De...   \n",
            "3         9965.0     Top countries with proven natural gas reserves   \n",
            "4     39780561.0                     73 Questions With Selena Gomez   \n",
            "..           ...                                                ...   \n",
            "900       6892.0  Calming mashup of Islamic Nasheed 2022 | Isami...   \n",
            "901      16554.0                           Amchi Nawayat Mehfil hee   \n",
            "902      32798.0                                      Aas ge Kaagaz   \n",
            "903       1503.0  Anjuman Tarana by ABHS Students | Anjuman Anju...   \n",
            "904     429966.0  Jhulan Goswami Final Over in ODIs | ENG vs IND...   \n",
            "\n",
            "             Creator Name  Total Channel Subcribers  Total Chanel Views  \\\n",
            "0              srihari ck                   40200.0        7.964284e+06   \n",
            "1             Chai Bisket                  920000.0        1.375357e+08   \n",
            "2             Virda Warsi                     458.0        7.294500e+04   \n",
            "3                     TRT                 1680000.0        5.416532e+08   \n",
            "4                   Vogue                12100000.0        3.600496e+09   \n",
            "..                    ...                       ...                 ...   \n",
            "900  Sahil Online TV News                  594000.0        1.299267e+08   \n",
            "901  Sahil Online TV News                  594000.0        1.299267e+08   \n",
            "902  Sahil Online Bhatkal                   23500.0        5.104872e+06   \n",
            "903  Sahil Online Bhatkal                   23500.0        5.104872e+06   \n",
            "904   Sony Sports Network                 3980000.0        7.288589e+08   \n",
            "\n",
            "     Duration in Seconds Date of Video Upload  No of Likes  \\\n",
            "0                 1841.0            7/29/2022       6700.0   \n",
            "1                  864.0            5/22/2022       7800.0   \n",
            "2                  492.0             2/9/2021        858.0   \n",
            "3                   66.0            9/13/2022        188.0   \n",
            "4                  460.0            3/21/2017     901000.0   \n",
            "..                   ...                  ...          ...   \n",
            "900                827.0            9/29/2022        235.0   \n",
            "901                404.0             8/6/2017        117.0   \n",
            "902                384.0             1/3/2021          1.0   \n",
            "903                279.0             3/6/2022          1.0   \n",
            "904                 81.0            9/25/2022       7600.0   \n",
            "\n",
            "    Language of the Video  Video Description  Hashtags No of Comments  \\\n",
            "0                 Kannada               True         0            419   \n",
            "1                  Telugu               True         1            189   \n",
            "2                   Hindi               True         0              0   \n",
            "3                 English               True         0             77   \n",
            "4                 English               True         0          28221   \n",
            "..                    ...                ...       ...            ...   \n",
            "900         Urdu + Arabic               True         0             15   \n",
            "901             Nawayathi               True         2              0   \n",
            "902             Nawayathi               True         3              0   \n",
            "903                  Urdu               True         3              0   \n",
            "904               English               True         3              0   \n",
            "\n",
            "    Date of the Last Comment  Maximum Quality of the Video  \\\n",
            "0                   8/6/2022                          1080   \n",
            "1                  6/15/2022                          1080   \n",
            "2                        NaN                           720   \n",
            "3                  9/22/2022                          1080   \n",
            "4                  9/23/2022                          1080   \n",
            "..                       ...                           ...   \n",
            "900                10/4/2022                          1080   \n",
            "901                10/4/2022                           720   \n",
            "902                 8/4/2022                           720   \n",
            "903                 8/4/2022                          1080   \n",
            "904                10/4/2022                          1080   \n",
            "\n",
            "     No of Videos the Channel  No of Playlist Premiered or Not  \\\n",
            "0                         462            12.0               No   \n",
            "1                         251            12.0              Yes   \n",
            "2                         158             0.0               No   \n",
            "3                       46509            48.0               No   \n",
            "4                        2872           113.0               No   \n",
            "..                        ...             ...              ...   \n",
            "900                      5024            36.0               No   \n",
            "901                      5024            36.0               No   \n",
            "902                      1018            13.0               No   \n",
            "903                      1018            13.0               No   \n",
            "904                      3014           124.0               No   \n",
            "\n",
            "     Community Engagement (Posts per week)  \n",
            "0                                        1  \n",
            "1                                        2  \n",
            "2                                        0  \n",
            "3                                       20  \n",
            "4                                        1  \n",
            "..                                     ...  \n",
            "900                                      1  \n",
            "901                                      1  \n",
            "902                                      1  \n",
            "903                                      1  \n",
            "904                                      0  \n",
            "\n",
            "[905 rows x 18 columns]\n"
          ]
        }
      ]
    },
    {
      "cell_type": "code",
      "source": [
        "df1.dtypes # Video Description is Yes, No type in our dataframe so we converted it into boolean type."
      ],
      "metadata": {
        "colab": {
          "base_uri": "https://localhost:8080/"
        },
        "id": "z1qSUrYmN9WI",
        "outputId": "23003eb4-ef0e-46be-9193-9c279bc95071"
      },
      "execution_count": null,
      "outputs": [
        {
          "output_type": "execute_result",
          "data": {
            "text/plain": [
              "Video Views                              float64\n",
              "Video Title                               object\n",
              "Creator Name                              object\n",
              "Total Channel Subcribers                 float64\n",
              "Total Chanel Views                       float64\n",
              "Duration in Seconds                      float64\n",
              "Date of Video Upload                      object\n",
              "No of Likes                              float64\n",
              "Language of the Video                     object\n",
              "Video Description                           bool\n",
              "Hashtags                                   int64\n",
              "No of Comments                            object\n",
              "Date of the Last Comment                  object\n",
              "Maximum Quality of the Video               int64\n",
              "No of Videos the Channel                   int64\n",
              "No of Playlist                           float64\n",
              "Premiered or Not                          object\n",
              "Community Engagement (Posts per week)      int64\n",
              "dtype: object"
            ]
          },
          "metadata": {},
          "execution_count": 41
        }
      ]
    },
    {
      "cell_type": "code",
      "source": [
        "# Hence by using the above methods and logic we can clean our data so that it is ready to input in our model."
      ],
      "metadata": {
        "id": "wsjIYP-6O8vp"
      },
      "execution_count": null,
      "outputs": []
    }
  ]
}